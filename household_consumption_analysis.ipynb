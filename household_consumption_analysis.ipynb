{
 "cells": [
  {
   "cell_type": "markdown",
   "metadata": {},
   "source": [
    "## Imports"
   ]
  },
  {
   "cell_type": "code",
   "execution_count": 2,
   "metadata": {},
   "outputs": [],
   "source": [
    "import pandas as pd\n",
    "import numpy as np\n",
    "import matplotlib.pyplot as plt\n",
    "import datetime\n",
    "import os\n",
    "# from sklearn import datasets, svm, preprocessing\n",
    "# from sklearn.ensemble import RandomForestRegressor\n",
    "# from sklearn.metrics import mean_absolute_error, classification_report\n",
    "# from sklearn.model_selection import train_test_split, GridSearchCV\n",
    "# from sklearn.preprocessing import OneHotEncoder"
   ]
  },
  {
   "cell_type": "markdown",
   "metadata": {},
   "source": [
    "## Data loading"
   ]
  },
  {
   "cell_type": "code",
   "execution_count": 7,
   "metadata": {},
   "outputs": [],
   "source": [
    "df = pd.read_csv(os.getcwd()+\"/pre_processing/dataset_traite.csv\", sep=',', parse_dates=[\"DateTime\"])"
   ]
  },
  {
   "cell_type": "code",
   "execution_count": 8,
   "metadata": {},
   "outputs": [
    {
     "data": {
      "text/html": [
       "<div>\n",
       "<style scoped>\n",
       "    .dataframe tbody tr th:only-of-type {\n",
       "        vertical-align: middle;\n",
       "    }\n",
       "\n",
       "    .dataframe tbody tr th {\n",
       "        vertical-align: top;\n",
       "    }\n",
       "\n",
       "    .dataframe thead th {\n",
       "        text-align: right;\n",
       "    }\n",
       "</style>\n",
       "<table border=\"1\" class=\"dataframe\">\n",
       "  <thead>\n",
       "    <tr style=\"text-align: right;\">\n",
       "      <th></th>\n",
       "      <th>DateTime</th>\n",
       "      <th>Global_active_power</th>\n",
       "      <th>Global_reactive_power</th>\n",
       "      <th>Voltage</th>\n",
       "      <th>Global_intensity</th>\n",
       "      <th>Sub_metering_1</th>\n",
       "      <th>Sub_metering_2</th>\n",
       "      <th>Sub_metering_3</th>\n",
       "    </tr>\n",
       "  </thead>\n",
       "  <tbody>\n",
       "    <tr>\n",
       "      <th>0</th>\n",
       "      <td>2006-12-16 17:24:00</td>\n",
       "      <td>4.216</td>\n",
       "      <td>0.418</td>\n",
       "      <td>234.84</td>\n",
       "      <td>18.4</td>\n",
       "      <td>0.0</td>\n",
       "      <td>1.0</td>\n",
       "      <td>17.0</td>\n",
       "    </tr>\n",
       "    <tr>\n",
       "      <th>1</th>\n",
       "      <td>2006-12-16 17:25:00</td>\n",
       "      <td>5.360</td>\n",
       "      <td>0.436</td>\n",
       "      <td>233.63</td>\n",
       "      <td>23.0</td>\n",
       "      <td>0.0</td>\n",
       "      <td>1.0</td>\n",
       "      <td>16.0</td>\n",
       "    </tr>\n",
       "    <tr>\n",
       "      <th>2</th>\n",
       "      <td>2006-12-16 17:26:00</td>\n",
       "      <td>5.374</td>\n",
       "      <td>0.498</td>\n",
       "      <td>233.29</td>\n",
       "      <td>23.0</td>\n",
       "      <td>0.0</td>\n",
       "      <td>2.0</td>\n",
       "      <td>17.0</td>\n",
       "    </tr>\n",
       "    <tr>\n",
       "      <th>3</th>\n",
       "      <td>2006-12-16 17:27:00</td>\n",
       "      <td>5.388</td>\n",
       "      <td>0.502</td>\n",
       "      <td>233.74</td>\n",
       "      <td>23.0</td>\n",
       "      <td>0.0</td>\n",
       "      <td>1.0</td>\n",
       "      <td>17.0</td>\n",
       "    </tr>\n",
       "    <tr>\n",
       "      <th>4</th>\n",
       "      <td>2006-12-16 17:28:00</td>\n",
       "      <td>3.666</td>\n",
       "      <td>0.528</td>\n",
       "      <td>235.68</td>\n",
       "      <td>15.8</td>\n",
       "      <td>0.0</td>\n",
       "      <td>1.0</td>\n",
       "      <td>17.0</td>\n",
       "    </tr>\n",
       "  </tbody>\n",
       "</table>\n",
       "</div>"
      ],
      "text/plain": [
       "             DateTime  Global_active_power  Global_reactive_power  Voltage  \\\n",
       "0 2006-12-16 17:24:00                4.216                  0.418   234.84   \n",
       "1 2006-12-16 17:25:00                5.360                  0.436   233.63   \n",
       "2 2006-12-16 17:26:00                5.374                  0.498   233.29   \n",
       "3 2006-12-16 17:27:00                5.388                  0.502   233.74   \n",
       "4 2006-12-16 17:28:00                3.666                  0.528   235.68   \n",
       "\n",
       "   Global_intensity  Sub_metering_1  Sub_metering_2  Sub_metering_3  \n",
       "0              18.4             0.0             1.0            17.0  \n",
       "1              23.0             0.0             1.0            16.0  \n",
       "2              23.0             0.0             2.0            17.0  \n",
       "3              23.0             0.0             1.0            17.0  \n",
       "4              15.8             0.0             1.0            17.0  "
      ]
     },
     "execution_count": 8,
     "metadata": {},
     "output_type": "execute_result"
    }
   ],
   "source": [
    "df.head()"
   ]
  },
  {
   "cell_type": "code",
   "execution_count": 9,
   "metadata": {},
   "outputs": [
    {
     "name": "stdout",
     "output_type": "stream",
     "text": [
      "<class 'pandas.core.frame.DataFrame'>\n",
      "RangeIndex: 2049280 entries, 0 to 2049279\n",
      "Data columns (total 8 columns):\n",
      " #   Column                 Dtype         \n",
      "---  ------                 -----         \n",
      " 0   DateTime               datetime64[ns]\n",
      " 1   Global_active_power    float64       \n",
      " 2   Global_reactive_power  float64       \n",
      " 3   Voltage                float64       \n",
      " 4   Global_intensity       float64       \n",
      " 5   Sub_metering_1         float64       \n",
      " 6   Sub_metering_2         float64       \n",
      " 7   Sub_metering_3         float64       \n",
      "dtypes: datetime64[ns](1), float64(7)\n",
      "memory usage: 125.1 MB\n"
     ]
    }
   ],
   "source": [
    "df.info()"
   ]
  },
  {
   "cell_type": "code",
   "execution_count": 10,
   "metadata": {},
   "outputs": [
    {
     "data": {
      "text/html": [
       "<div>\n",
       "<style scoped>\n",
       "    .dataframe tbody tr th:only-of-type {\n",
       "        vertical-align: middle;\n",
       "    }\n",
       "\n",
       "    .dataframe tbody tr th {\n",
       "        vertical-align: top;\n",
       "    }\n",
       "\n",
       "    .dataframe thead th {\n",
       "        text-align: right;\n",
       "    }\n",
       "</style>\n",
       "<table border=\"1\" class=\"dataframe\">\n",
       "  <thead>\n",
       "    <tr style=\"text-align: right;\">\n",
       "      <th></th>\n",
       "      <th>Global_active_power</th>\n",
       "      <th>Global_reactive_power</th>\n",
       "      <th>Voltage</th>\n",
       "      <th>Global_intensity</th>\n",
       "      <th>Sub_metering_1</th>\n",
       "      <th>Sub_metering_2</th>\n",
       "      <th>Sub_metering_3</th>\n",
       "    </tr>\n",
       "  </thead>\n",
       "  <tbody>\n",
       "    <tr>\n",
       "      <th>count</th>\n",
       "      <td>2.049280e+06</td>\n",
       "      <td>2.049280e+06</td>\n",
       "      <td>2.049280e+06</td>\n",
       "      <td>2.049280e+06</td>\n",
       "      <td>2.049280e+06</td>\n",
       "      <td>2.049280e+06</td>\n",
       "      <td>2.049280e+06</td>\n",
       "    </tr>\n",
       "    <tr>\n",
       "      <th>mean</th>\n",
       "      <td>1.091615e+00</td>\n",
       "      <td>1.237145e-01</td>\n",
       "      <td>2.408399e+02</td>\n",
       "      <td>4.627759e+00</td>\n",
       "      <td>1.121923e+00</td>\n",
       "      <td>1.298520e+00</td>\n",
       "      <td>6.458447e+00</td>\n",
       "    </tr>\n",
       "    <tr>\n",
       "      <th>std</th>\n",
       "      <td>1.057294e+00</td>\n",
       "      <td>1.127220e-01</td>\n",
       "      <td>3.239987e+00</td>\n",
       "      <td>4.444396e+00</td>\n",
       "      <td>6.153031e+00</td>\n",
       "      <td>5.822026e+00</td>\n",
       "      <td>8.437154e+00</td>\n",
       "    </tr>\n",
       "    <tr>\n",
       "      <th>min</th>\n",
       "      <td>7.600000e-02</td>\n",
       "      <td>0.000000e+00</td>\n",
       "      <td>2.232000e+02</td>\n",
       "      <td>2.000000e-01</td>\n",
       "      <td>0.000000e+00</td>\n",
       "      <td>0.000000e+00</td>\n",
       "      <td>0.000000e+00</td>\n",
       "    </tr>\n",
       "    <tr>\n",
       "      <th>25%</th>\n",
       "      <td>3.080000e-01</td>\n",
       "      <td>4.800000e-02</td>\n",
       "      <td>2.389900e+02</td>\n",
       "      <td>1.400000e+00</td>\n",
       "      <td>0.000000e+00</td>\n",
       "      <td>0.000000e+00</td>\n",
       "      <td>0.000000e+00</td>\n",
       "    </tr>\n",
       "    <tr>\n",
       "      <th>50%</th>\n",
       "      <td>6.020000e-01</td>\n",
       "      <td>1.000000e-01</td>\n",
       "      <td>2.410100e+02</td>\n",
       "      <td>2.600000e+00</td>\n",
       "      <td>0.000000e+00</td>\n",
       "      <td>0.000000e+00</td>\n",
       "      <td>1.000000e+00</td>\n",
       "    </tr>\n",
       "    <tr>\n",
       "      <th>75%</th>\n",
       "      <td>1.528000e+00</td>\n",
       "      <td>1.940000e-01</td>\n",
       "      <td>2.428900e+02</td>\n",
       "      <td>6.400000e+00</td>\n",
       "      <td>0.000000e+00</td>\n",
       "      <td>1.000000e+00</td>\n",
       "      <td>1.700000e+01</td>\n",
       "    </tr>\n",
       "    <tr>\n",
       "      <th>max</th>\n",
       "      <td>1.112200e+01</td>\n",
       "      <td>1.390000e+00</td>\n",
       "      <td>2.541500e+02</td>\n",
       "      <td>4.840000e+01</td>\n",
       "      <td>8.800000e+01</td>\n",
       "      <td>8.000000e+01</td>\n",
       "      <td>3.100000e+01</td>\n",
       "    </tr>\n",
       "  </tbody>\n",
       "</table>\n",
       "</div>"
      ],
      "text/plain": [
       "       Global_active_power  Global_reactive_power       Voltage  \\\n",
       "count         2.049280e+06           2.049280e+06  2.049280e+06   \n",
       "mean          1.091615e+00           1.237145e-01  2.408399e+02   \n",
       "std           1.057294e+00           1.127220e-01  3.239987e+00   \n",
       "min           7.600000e-02           0.000000e+00  2.232000e+02   \n",
       "25%           3.080000e-01           4.800000e-02  2.389900e+02   \n",
       "50%           6.020000e-01           1.000000e-01  2.410100e+02   \n",
       "75%           1.528000e+00           1.940000e-01  2.428900e+02   \n",
       "max           1.112200e+01           1.390000e+00  2.541500e+02   \n",
       "\n",
       "       Global_intensity  Sub_metering_1  Sub_metering_2  Sub_metering_3  \n",
       "count      2.049280e+06    2.049280e+06    2.049280e+06    2.049280e+06  \n",
       "mean       4.627759e+00    1.121923e+00    1.298520e+00    6.458447e+00  \n",
       "std        4.444396e+00    6.153031e+00    5.822026e+00    8.437154e+00  \n",
       "min        2.000000e-01    0.000000e+00    0.000000e+00    0.000000e+00  \n",
       "25%        1.400000e+00    0.000000e+00    0.000000e+00    0.000000e+00  \n",
       "50%        2.600000e+00    0.000000e+00    0.000000e+00    1.000000e+00  \n",
       "75%        6.400000e+00    0.000000e+00    1.000000e+00    1.700000e+01  \n",
       "max        4.840000e+01    8.800000e+01    8.000000e+01    3.100000e+01  "
      ]
     },
     "execution_count": 10,
     "metadata": {},
     "output_type": "execute_result"
    }
   ],
   "source": [
    "df.describe()"
   ]
  },
  {
   "cell_type": "markdown",
   "metadata": {},
   "source": [
    "## Data viz"
   ]
  },
  {
   "cell_type": "code",
   "execution_count": 12,
   "metadata": {},
   "outputs": [
    {
     "data": {
      "text/html": [
       "<div>\n",
       "<style scoped>\n",
       "    .dataframe tbody tr th:only-of-type {\n",
       "        vertical-align: middle;\n",
       "    }\n",
       "\n",
       "    .dataframe tbody tr th {\n",
       "        vertical-align: top;\n",
       "    }\n",
       "\n",
       "    .dataframe thead th {\n",
       "        text-align: right;\n",
       "    }\n",
       "</style>\n",
       "<table border=\"1\" class=\"dataframe\">\n",
       "  <thead>\n",
       "    <tr style=\"text-align: right;\">\n",
       "      <th></th>\n",
       "      <th>Global_active_power</th>\n",
       "    </tr>\n",
       "    <tr>\n",
       "      <th>DateTime</th>\n",
       "      <th></th>\n",
       "    </tr>\n",
       "  </thead>\n",
       "  <tbody>\n",
       "    <tr>\n",
       "      <th>2007-01-01 00:00:00</th>\n",
       "      <td>2.580</td>\n",
       "    </tr>\n",
       "    <tr>\n",
       "      <th>2007-01-01 00:01:00</th>\n",
       "      <td>2.552</td>\n",
       "    </tr>\n",
       "    <tr>\n",
       "      <th>2007-01-01 00:02:00</th>\n",
       "      <td>2.550</td>\n",
       "    </tr>\n",
       "    <tr>\n",
       "      <th>2007-01-01 00:03:00</th>\n",
       "      <td>2.550</td>\n",
       "    </tr>\n",
       "    <tr>\n",
       "      <th>2007-01-01 00:04:00</th>\n",
       "      <td>2.554</td>\n",
       "    </tr>\n",
       "    <tr>\n",
       "      <th>...</th>\n",
       "      <td>...</td>\n",
       "    </tr>\n",
       "    <tr>\n",
       "      <th>2007-12-31 23:55:00</th>\n",
       "      <td>1.746</td>\n",
       "    </tr>\n",
       "    <tr>\n",
       "      <th>2007-12-31 23:56:00</th>\n",
       "      <td>1.732</td>\n",
       "    </tr>\n",
       "    <tr>\n",
       "      <th>2007-12-31 23:57:00</th>\n",
       "      <td>1.732</td>\n",
       "    </tr>\n",
       "    <tr>\n",
       "      <th>2007-12-31 23:58:00</th>\n",
       "      <td>1.684</td>\n",
       "    </tr>\n",
       "    <tr>\n",
       "      <th>2007-12-31 23:59:00</th>\n",
       "      <td>1.628</td>\n",
       "    </tr>\n",
       "  </tbody>\n",
       "</table>\n",
       "<p>521669 rows × 1 columns</p>\n",
       "</div>"
      ],
      "text/plain": [
       "                     Global_active_power\n",
       "DateTime                                \n",
       "2007-01-01 00:00:00                2.580\n",
       "2007-01-01 00:01:00                2.552\n",
       "2007-01-01 00:02:00                2.550\n",
       "2007-01-01 00:03:00                2.550\n",
       "2007-01-01 00:04:00                2.554\n",
       "...                                  ...\n",
       "2007-12-31 23:55:00                1.746\n",
       "2007-12-31 23:56:00                1.732\n",
       "2007-12-31 23:57:00                1.732\n",
       "2007-12-31 23:58:00                1.684\n",
       "2007-12-31 23:59:00                1.628\n",
       "\n",
       "[521669 rows x 1 columns]"
      ]
     },
     "execution_count": 12,
     "metadata": {},
     "output_type": "execute_result"
    }
   ],
   "source": [
    "active_power_df = df[['DateTime', 'Global_active_power']]\n",
    "active_power_df = active_power_df.loc[active_power_df[\"DateTime\"].dt.year == 2007]\n",
    "active_power_df.set_index('DateTime', inplace=True)\n",
    "active_power_df"
   ]
  },
  {
   "cell_type": "markdown",
   "metadata": {},
   "source": [
    "#### Average global active power (in watt) per week in 2007"
   ]
  },
  {
   "cell_type": "code",
   "execution_count": 14,
   "metadata": {},
   "outputs": [
    {
     "data": {
      "text/plain": [
       "<AxesSubplot:title={'center':'Average global active power (in watt) per week in 2007'}, xlabel='DateTime'>"
      ]
     },
     "execution_count": 14,
     "metadata": {},
     "output_type": "execute_result"
    },
    {
     "data": {
      "image/png": "[encoded data removed]",
      "text/plain": [
       "<Figure size 864x432 with 1 Axes>"
      ]
     },
     "metadata": {
      "needs_background": "light"
     },
     "output_type": "display_data"
    }
   ],
   "source": [
    "weekly_avg = active_power_df.resample(\"W\").mean()\n",
    "weekly_avg.plot(figsize=(12,6), title=\"Average global active power (in watt) per week in 2007\")"
   ]
  },
  {
   "cell_type": "markdown",
   "metadata": {},
   "source": [
    "#### Moving average of the daily average global active power (in watt) in 2007"
   ]
  },
  {
   "cell_type": "code",
   "execution_count": 17,
   "metadata": {},
   "outputs": [
    {
     "data": {
      "text/plain": [
       "<AxesSubplot:xlabel='DateTime'>"
      ]
     },
     "execution_count": 17,
     "metadata": {},
     "output_type": "execute_result"
    },
    {
     "data": {
      "image/png": "[encoded data removed]",
      "text/plain": [
       "<Figure size 864x432 with 1 Axes>"
      ]
     },
     "metadata": {
      "needs_background": "light"
     },
     "output_type": "display_data"
    }
   ],
   "source": [
    "daily_avg = active_power_df.resample(\"D\").mean()\n",
    "\n",
    "sma_length = 15\n",
    "sma = daily_avg[\"Global_active_power\"].rolling(window=sma_length).mean()\n",
    "sma.plot(figsize=(12,6))\n",
    "# sma"
   ]
  },
  {
   "cell_type": "markdown",
   "metadata": {},
   "source": [
    "#### Global active power per hour of the day in 2007"
   ]
  },
  {
   "cell_type": "code",
   "execution_count": 19,
   "metadata": {},
   "outputs": [
    {
     "data": {
      "text/plain": [
       "<AxesSubplot:title={'center':'Global active power per hour of the day in 2007'}, xlabel='DateTime'>"
      ]
     },
     "execution_count": 19,
     "metadata": {},
     "output_type": "execute_result"
    },
    {
     "data": {
      "image/png": "[encoded data removed]",
      "text/plain": [
       "<Figure size 864x288 with 1 Axes>"
      ]
     },
     "metadata": {
      "needs_background": "light"
     },
     "output_type": "display_data"
    }
   ],
   "source": [
    "fig, axs = plt.subplots(figsize=(12, 4))\n",
    "\n",
    "active_power_df.groupby(active_power_df.index.hour)[\"Global_active_power\"].mean().plot(kind='bar', rot=0, ax=axs, title=\"Global active power per hour of the day in 2007\")"
   ]
  },
  {
   "cell_type": "markdown",
   "metadata": {},
   "source": [
    "#### Sub metering 1 (kitchen) per hour of the day"
   ]
  },
  {
   "cell_type": "code",
   "execution_count": null,
   "metadata": {},
   "outputs": [
    {
     "data": {
      "text/plain": [
       "<AxesSubplot:xlabel='DateTime'>"
      ]
     },
     "execution_count": 95,
     "metadata": {},
     "output_type": "execute_result"
    },
    {
     "data": {
      "image/png": "[encoded data removed]",
      "text/plain": [
       "<Figure size 864x288 with 1 Axes>"
      ]
     },
     "metadata": {
      "needs_background": "light"
     },
     "output_type": "display_data"
    }
   ],
   "source": [
    "sub1_df = df[['DateTime', 'Sub_metering_1']]\n",
    "sub1_df_all = sub1_df.loc[sub1_df[\"DateTime\"].dt.year == 2007]\n",
    "sub1_df_all.set_index('DateTime', inplace=True)\n",
    "fig, axs = plt.subplots(figsize=(12, 4))\n",
    "\n",
    "sub1_df_all.groupby(sub1_df_all.index.hour)[\"Sub_metering_1\"].mean().plot(kind='bar', rot=0, ax=axs)"
   ]
  },
  {
   "cell_type": "markdown",
   "metadata": {},
   "source": [
    "#### Sub metering 1 (kitchen) per hour of the business days"
   ]
  },
  {
   "cell_type": "code",
   "execution_count": null,
   "metadata": {},
   "outputs": [
    {
     "data": {
      "text/plain": [
       "<AxesSubplot:xlabel='DateTime'>"
      ]
     },
     "execution_count": 163,
     "metadata": {},
     "output_type": "execute_result"
    },
    {
     "data": {
      "image/png": "[encoded data removed]",
      "text/plain": [
       "<Figure size 1200x400 with 1 Axes>"
      ]
     },
     "metadata": {},
     "output_type": "display_data"
    }
   ],
   "source": [
    "sub1_df_bd = sub1_df.loc[(sub1_df[\"DateTime\"].dt.year == 2007) & (sub1_df[\"DateTime\"].dt.weekday != 5) & (sub1_df[\"DateTime\"].dt.weekday != 6) & (sub1_df[\"DateTime\"].dt.date.isin(holidays)==False)]\n",
    "sub1_df_bd.set_index('DateTime', inplace=True)\n",
    "fig, axs = plt.subplots(figsize=(12, 4))\n",
    "\n",
    "sub1_df_bd.groupby(sub1_df_bd.index.hour)[\"Sub_metering_1\"].mean().plot(kind='bar', rot=0, ax=axs)"
   ]
  },
  {
   "cell_type": "markdown",
   "metadata": {},
   "source": [
    "#### Sub metering 1 per hour on the weekends"
   ]
  },
  {
   "cell_type": "code",
   "execution_count": null,
   "metadata": {},
   "outputs": [
    {
     "data": {
      "text/plain": [
       "<AxesSubplot:xlabel='DateTime'>"
      ]
     },
     "execution_count": 97,
     "metadata": {},
     "output_type": "execute_result"
    },
    {
     "data": {
      "image/png": "[encoded data removed]",
      "text/plain": [
       "<Figure size 864x288 with 1 Axes>"
      ]
     },
     "metadata": {
      "needs_background": "light"
     },
     "output_type": "display_data"
    }
   ],
   "source": [
    "sub1_df_we = sub1_df.loc[(sub1_df[\"DateTime\"].dt.year == 2007) & (sub1_df[\"DateTime\"].dt.weekday.isin([5,6]))]\n",
    "sub1_df_we.set_index('DateTime', inplace=True)\n",
    "fig, axs = plt.subplots(figsize=(12, 4))\n",
    "\n",
    "sub1_df_we.groupby(sub1_df_we.index.hour)[\"Sub_metering_1\"].mean().plot(kind='bar', rot=0, ax=axs)"
   ]
  },
  {
   "cell_type": "markdown",
   "metadata": {},
   "source": [
    "#### Sub metering 1 per hour of the holidays"
   ]
  },
  {
   "cell_type": "code",
   "execution_count": null,
   "metadata": {},
   "outputs": [
    {
     "data": {
      "text/plain": [
       "<AxesSubplot:xlabel='DateTime'>"
      ]
     },
     "execution_count": 98,
     "metadata": {},
     "output_type": "execute_result"
    },
    {
     "data": {
      "image/png": "[encoded data removed]",
      "text/plain": [
       "<Figure size 864x288 with 1 Axes>"
      ]
     },
     "metadata": {
      "needs_background": "light"
     },
     "output_type": "display_data"
    }
   ],
   "source": [
    "from vacances_scolaires_france import SchoolHolidayDates\n",
    "import datetime\n",
    "d = SchoolHolidayDates()\n",
    "dict_holidays = d.holidays_for_year_and_zone(2007, 'C')\n",
    "holidays = dict_holidays.keys()\n",
    "\n",
    "sub1_df_hd = sub1_df.loc[(sub1_df[\"DateTime\"].dt.year == 2007) & (sub1_df[\"DateTime\"].dt.date.isin(holidays))]\n",
    "sub1_df_hd.set_index('DateTime', inplace=True)\n",
    "\n",
    "fig, axs = plt.subplots(figsize=(12, 4))\n",
    "sub1_df_hd.groupby(sub1_df_hd.index.hour)[\"Sub_metering_1\"].mean().plot(kind='bar', rot=0, ax=axs)"
   ]
  },
  {
   "cell_type": "markdown",
   "metadata": {},
   "source": [
    "#### Sub metering 1 per minute"
   ]
  },
  {
   "cell_type": "code",
   "execution_count": null,
   "metadata": {},
   "outputs": [
    {
     "data": {
      "text/plain": [
       "<AxesSubplot:xlabel='DateTime'>"
      ]
     },
     "execution_count": 110,
     "metadata": {},
     "output_type": "execute_result"
    },
    {
     "data": {
      "image/png": "[encoded data removed]",
      "text/plain": [
       "<Figure size 1440x288 with 1 Axes>"
      ]
     },
     "metadata": {
      "needs_background": "light"
     },
     "output_type": "display_data"
    }
   ],
   "source": [
    "fig, axs = plt.subplots(figsize=(20, 4))\n",
    "axs.set_ylim([0, 4.5])\n",
    "sub1_df_all.groupby([sub1_df_all.index.hour, sub1_df_all.index.minute])[\"Sub_metering_1\"].mean()[8].plot(kind='bar', rot=0, ax=axs)"
   ]
  },
  {
   "cell_type": "markdown",
   "metadata": {},
   "source": [
    "#### Sub metering 1 per minute on business days"
   ]
  },
  {
   "cell_type": "code",
   "execution_count": null,
   "metadata": {},
   "outputs": [
    {
     "data": {
      "text/plain": [
       "<AxesSubplot:xlabel='DateTime'>"
      ]
     },
     "execution_count": 102,
     "metadata": {},
     "output_type": "execute_result"
    },
    {
     "data": {
      "image/png": "[encoded data removed]",
      "text/plain": [
       "<Figure size 1440x288 with 1 Axes>"
      ]
     },
     "metadata": {
      "needs_background": "light"
     },
     "output_type": "display_data"
    }
   ],
   "source": [
    "fig, axs = plt.subplots(figsize=(20, 4))\n",
    "axs.set_ylim([0, 4.5])\n",
    "sub1_df_bd.groupby([sub1_df_bd.index.hour, sub1_df_bd.index.minute])[\"Sub_metering_1\"].mean()[8].plot(kind='bar', rot=0, ax=axs)"
   ]
  },
  {
   "cell_type": "markdown",
   "metadata": {},
   "source": [
    "#### Sub metering 1 per minute on weekends"
   ]
  },
  {
   "cell_type": "code",
   "execution_count": null,
   "metadata": {},
   "outputs": [
    {
     "data": {
      "text/plain": [
       "<AxesSubplot:xlabel='DateTime'>"
      ]
     },
     "execution_count": 161,
     "metadata": {},
     "output_type": "execute_result"
    },
    {
     "data": {
      "image/png": "[encoded data removed]",
      "text/plain": [
       "<Figure size 2000x400 with 1 Axes>"
      ]
     },
     "metadata": {},
     "output_type": "display_data"
    }
   ],
   "source": [
    "fig, axs = plt.subplots(figsize=(20, 4))\n",
    "axs.set_ylim([0, 4.5])\n",
    "sub1_df_we.groupby([sub1_df_we.index.hour, sub1_df_we.index.minute])[\"Sub_metering_1\"].mean()[8].plot(kind='bar', rot=0, ax=axs)"
   ]
  },
  {
   "cell_type": "markdown",
   "metadata": {},
   "source": [
    "#### Sub metering 1 per minute on holidays"
   ]
  },
  {
   "cell_type": "code",
   "execution_count": null,
   "metadata": {},
   "outputs": [
    {
     "data": {
      "text/plain": [
       "<AxesSubplot:xlabel='DateTime'>"
      ]
     },
     "execution_count": 128,
     "metadata": {},
     "output_type": "execute_result"
    },
    {
     "data": {
      "image/png": "[encoded data removed]",
      "text/plain": [
       "<Figure size 1440x288 with 1 Axes>"
      ]
     },
     "metadata": {
      "needs_background": "light"
     },
     "output_type": "display_data"
    }
   ],
   "source": [
    "fig, axs = plt.subplots(figsize=(20, 4))\n",
    "axs.set_ylim([0, 4.5])\n",
    "sub1_df_hd.groupby([sub1_df_hd.index.hour, sub1_df_hd.index.minute])[\"Sub_metering_1\"].mean()[8].plot(kind='bar', rot=0, ax=axs)"
   ]
  },
  {
   "cell_type": "code",
   "execution_count": null,
   "metadata": {},
   "outputs": [
    {
     "data": {
      "text/plain": [
       "<AxesSubplot:xlabel='DateTime'>"
      ]
     },
     "execution_count": 164,
     "metadata": {},
     "output_type": "execute_result"
    },
    {
     "data": {
      "image/png": "[encoded data removed]",
      "text/plain": [
       "<Figure size 2000x2000 with 1 Axes>"
      ]
     },
     "metadata": {},
     "output_type": "display_data"
    }
   ],
   "source": [
    "import matplotlib\n",
    "matplotlib.style.use('default')\n",
    "group2 = sub1_df_bd.groupby([sub1_df_bd.index.hour, sub1_df_bd.index.minute])[\"Sub_metering_1\"].mean().unstack().transpose()\n",
    "group2.plot(kind=\"bar\", stacked=True,figsize=(20,20))\n"
   ]
  },
  {
   "cell_type": "markdown",
   "metadata": {},
   "source": [
    "#### work in progress"
   ]
  },
  {
   "cell_type": "code",
   "execution_count": null,
   "metadata": {},
   "outputs": [
    {
     "data": {
      "text/plain": [
       "<AxesSubplot:xlabel='DateTime'>"
      ]
     },
     "execution_count": 167,
     "metadata": {},
     "output_type": "execute_result"
    },
    {
     "data": {
      "image/png": "[encoded data removed]",
      "text/plain": [
       "<Figure size 2000x400 with 1 Axes>"
      ]
     },
     "metadata": {},
     "output_type": "display_data"
    }
   ],
   "source": [
    "sub1_df_bd_march = sub1_df_bd.loc[(sub1_df[\"DateTime\"].dt.month == 3)]\n",
    "cumul\n",
    "\n",
    "# fig, axs = plt.subplots(figsize=(20, 4))\n",
    "# axs.set_ylim([0, 13])\n",
    "# sub1_df_bd.groupby([sub1_df_bd.index.hour, sub1_df_bd.index.minute])[\"Sub_metering_1\"].mean()[7].plot(kind='bar', rot=0, ax=axs)"
   ]
  },
  {
   "cell_type": "markdown",
   "metadata": {},
   "source": [
    "Interpretation of the plot :\n",
    "Sharp increase of power consumption around 8am, implies that the famsilly wakes up around 8 on week days"
   ]
  },
  {
   "cell_type": "markdown",
   "metadata": {},
   "source": [
    "#### Sub metering 1 per hour of the weekend days"
   ]
  },
  {
   "cell_type": "code",
   "execution_count": null,
   "metadata": {},
   "outputs": [],
   "source": [
    "sub1_df = df[['DateTime', 'Sub_metering_1']]\n",
    "sub1_df = sub1_df.loc[(sub1_df[\"DateTime\"].dt.year == 2007) & ((sub1_df[\"DateTime\"].dt.weekday == 5) | (sub1_df[\"DateTime\"].dt.weekday == 6))]\n",
    "sub1_df.set_index('DateTime', inplace=True)"
   ]
  },
  {
   "cell_type": "code",
   "execution_count": null,
   "metadata": {},
   "outputs": [],
   "source": [
    "fig, axs = plt.subplots(figsize=(12, 4))\n",
    "\n",
    "sub1_df.groupby(sub1_df.index.hour)[\"Sub_metering_1\"].mean().plot(kind='bar', rot=0, ax=axs)"
   ]
  },
  {
   "cell_type": "markdown",
   "metadata": {},
   "source": [
    "### partie de theophile"
   ]
  },
  {
   "cell_type": "code",
   "execution_count": null,
   "metadata": {},
   "outputs": [
    {
     "name": "stderr",
     "output_type": "stream",
     "text": [
      "<ipython-input-43-a3b257f52555>:5: FutureWarning: weekofyear and week have been deprecated, please use DatetimeIndex.isocalendar().week instead, which returns a Series.  To exactly reproduce the behavior of week and weekofyear and return an Index, you may call pd.Int64Index(idx.isocalendar().week)\n",
      "  df_grouped = df_copy.groupby(by=[df_copy.index.month,df_copy.index.week]).mean()\n"
     ]
    },
    {
     "data": {
      "text/html": [
       "<div>\n",
       "<style scoped>\n",
       "    .dataframe tbody tr th:only-of-type {\n",
       "        vertical-align: middle;\n",
       "    }\n",
       "\n",
       "    .dataframe tbody tr th {\n",
       "        vertical-align: top;\n",
       "    }\n",
       "\n",
       "    .dataframe thead th {\n",
       "        text-align: right;\n",
       "    }\n",
       "</style>\n",
       "<table border=\"1\" class=\"dataframe\">\n",
       "  <thead>\n",
       "    <tr style=\"text-align: right;\">\n",
       "      <th></th>\n",
       "      <th></th>\n",
       "      <th>Global_active_power</th>\n",
       "      <th>Global_reactive_power</th>\n",
       "      <th>Voltage</th>\n",
       "      <th>Global_intensity</th>\n",
       "      <th>Sub_metering_1</th>\n",
       "      <th>Sub_metering_2</th>\n",
       "      <th>Sub_metering_3</th>\n",
       "    </tr>\n",
       "    <tr>\n",
       "      <th>DateTime</th>\n",
       "      <th>DateTime</th>\n",
       "      <th></th>\n",
       "      <th></th>\n",
       "      <th></th>\n",
       "      <th></th>\n",
       "      <th></th>\n",
       "      <th></th>\n",
       "      <th></th>\n",
       "    </tr>\n",
       "  </thead>\n",
       "  <tbody>\n",
       "    <tr>\n",
       "      <th rowspan=\"5\" valign=\"top\">1</th>\n",
       "      <th>1</th>\n",
       "      <td>1.152170</td>\n",
       "      <td>0.109718</td>\n",
       "      <td>238.848376</td>\n",
       "      <td>4.885524</td>\n",
       "      <td>1.068856</td>\n",
       "      <td>0.860105</td>\n",
       "      <td>6.093263</td>\n",
       "    </tr>\n",
       "    <tr>\n",
       "      <th>2</th>\n",
       "      <td>1.422602</td>\n",
       "      <td>0.146245</td>\n",
       "      <td>238.996149</td>\n",
       "      <td>6.068642</td>\n",
       "      <td>2.438457</td>\n",
       "      <td>1.494035</td>\n",
       "      <td>6.925731</td>\n",
       "    </tr>\n",
       "    <tr>\n",
       "      <th>3</th>\n",
       "      <td>1.639451</td>\n",
       "      <td>0.136597</td>\n",
       "      <td>240.440150</td>\n",
       "      <td>6.968413</td>\n",
       "      <td>2.324901</td>\n",
       "      <td>1.991567</td>\n",
       "      <td>8.086508</td>\n",
       "    </tr>\n",
       "    <tr>\n",
       "      <th>4</th>\n",
       "      <td>1.517470</td>\n",
       "      <td>0.106522</td>\n",
       "      <td>241.991723</td>\n",
       "      <td>6.397440</td>\n",
       "      <td>1.138506</td>\n",
       "      <td>1.482588</td>\n",
       "      <td>7.149717</td>\n",
       "    </tr>\n",
       "    <tr>\n",
       "      <th>5</th>\n",
       "      <td>1.401438</td>\n",
       "      <td>0.123291</td>\n",
       "      <td>240.897201</td>\n",
       "      <td>5.913565</td>\n",
       "      <td>0.519907</td>\n",
       "      <td>1.775000</td>\n",
       "      <td>8.901620</td>\n",
       "    </tr>\n",
       "    <tr>\n",
       "      <th>...</th>\n",
       "      <th>...</th>\n",
       "      <td>...</td>\n",
       "      <td>...</td>\n",
       "      <td>...</td>\n",
       "      <td>...</td>\n",
       "      <td>...</td>\n",
       "      <td>...</td>\n",
       "      <td>...</td>\n",
       "    </tr>\n",
       "    <tr>\n",
       "      <th rowspan=\"5\" valign=\"top\">12</th>\n",
       "      <th>48</th>\n",
       "      <td>1.159342</td>\n",
       "      <td>0.116612</td>\n",
       "      <td>240.818354</td>\n",
       "      <td>4.906319</td>\n",
       "      <td>0.773264</td>\n",
       "      <td>0.290972</td>\n",
       "      <td>6.872569</td>\n",
       "    </tr>\n",
       "    <tr>\n",
       "      <th>49</th>\n",
       "      <td>0.838091</td>\n",
       "      <td>0.120684</td>\n",
       "      <td>238.886729</td>\n",
       "      <td>3.625992</td>\n",
       "      <td>0.762302</td>\n",
       "      <td>1.176091</td>\n",
       "      <td>5.082639</td>\n",
       "    </tr>\n",
       "    <tr>\n",
       "      <th>50</th>\n",
       "      <td>1.486147</td>\n",
       "      <td>0.096026</td>\n",
       "      <td>241.223161</td>\n",
       "      <td>6.239960</td>\n",
       "      <td>1.030655</td>\n",
       "      <td>2.054762</td>\n",
       "      <td>8.114385</td>\n",
       "    </tr>\n",
       "    <tr>\n",
       "      <th>51</th>\n",
       "      <td>1.544693</td>\n",
       "      <td>0.089493</td>\n",
       "      <td>242.717135</td>\n",
       "      <td>6.432880</td>\n",
       "      <td>1.273142</td>\n",
       "      <td>1.669610</td>\n",
       "      <td>8.316004</td>\n",
       "    </tr>\n",
       "    <tr>\n",
       "      <th>52</th>\n",
       "      <td>1.888514</td>\n",
       "      <td>0.120793</td>\n",
       "      <td>242.152803</td>\n",
       "      <td>7.888413</td>\n",
       "      <td>2.303075</td>\n",
       "      <td>2.433730</td>\n",
       "      <td>8.441270</td>\n",
       "    </tr>\n",
       "  </tbody>\n",
       "</table>\n",
       "<p>63 rows × 7 columns</p>\n",
       "</div>"
      ],
      "text/plain": [
       "                   Global_active_power  Global_reactive_power     Voltage  \\\n",
       "DateTime DateTime                                                           \n",
       "1        1                    1.152170               0.109718  238.848376   \n",
       "         2                    1.422602               0.146245  238.996149   \n",
       "         3                    1.639451               0.136597  240.440150   \n",
       "         4                    1.517470               0.106522  241.991723   \n",
       "         5                    1.401438               0.123291  240.897201   \n",
       "...                                ...                    ...         ...   \n",
       "12       48                   1.159342               0.116612  240.818354   \n",
       "         49                   0.838091               0.120684  238.886729   \n",
       "         50                   1.486147               0.096026  241.223161   \n",
       "         51                   1.544693               0.089493  242.717135   \n",
       "         52                   1.888514               0.120793  242.152803   \n",
       "\n",
       "                   Global_intensity  Sub_metering_1  Sub_metering_2  \\\n",
       "DateTime DateTime                                                     \n",
       "1        1                 4.885524        1.068856        0.860105   \n",
       "         2                 6.068642        2.438457        1.494035   \n",
       "         3                 6.968413        2.324901        1.991567   \n",
       "         4                 6.397440        1.138506        1.482588   \n",
       "         5                 5.913565        0.519907        1.775000   \n",
       "...                             ...             ...             ...   \n",
       "12       48                4.906319        0.773264        0.290972   \n",
       "         49                3.625992        0.762302        1.176091   \n",
       "         50                6.239960        1.030655        2.054762   \n",
       "         51                6.432880        1.273142        1.669610   \n",
       "         52                7.888413        2.303075        2.433730   \n",
       "\n",
       "                   Sub_metering_3  \n",
       "DateTime DateTime                  \n",
       "1        1               6.093263  \n",
       "         2               6.925731  \n",
       "         3               8.086508  \n",
       "         4               7.149717  \n",
       "         5               8.901620  \n",
       "...                           ...  \n",
       "12       48              6.872569  \n",
       "         49              5.082639  \n",
       "         50              8.114385  \n",
       "         51              8.316004  \n",
       "         52              8.441270  \n",
       "\n",
       "[63 rows x 7 columns]"
      ]
     },
     "execution_count": 43,
     "metadata": {},
     "output_type": "execute_result"
    }
   ],
   "source": [
    "df_copy = df.copy().loc[df[\"DateTime\"].dt.year == 2007]\n",
    "\n",
    "df_copy.index = pd.to_datetime(df_copy['DateTime'])\n",
    "df_copy = df_copy.drop(['DateTime'], axis=1)\n",
    "df_grouped = df_copy.groupby(by=[df_copy.index.month,df_copy.index.week,df_copy()]).mean()\n",
    "df_grouped.head(200)\n",
    "#df.head()"
   ]
  },
  {
   "cell_type": "code",
   "execution_count": null,
   "metadata": {},
   "outputs": [],
   "source": [
    "df_copy2 = df.copy().loc[df[\"DateTime\"].dt.year == 2008]\n",
    "df_copy2.index = pd.to_datetime(df_copy2['DateTime'])\n",
    "df_copy2 = df_copy2.drop(['DateTime'], axis=1)\n",
    "daily_avg = df_copy2.resample(\"D\").mean()\n"
   ]
  },
  {
   "cell_type": "code",
   "execution_count": null,
   "metadata": {},
   "outputs": [
    {
     "data": {
      "text/html": [
       "<div>\n",
       "<style scoped>\n",
       "    .dataframe tbody tr th:only-of-type {\n",
       "        vertical-align: middle;\n",
       "    }\n",
       "\n",
       "    .dataframe tbody tr th {\n",
       "        vertical-align: top;\n",
       "    }\n",
       "\n",
       "    .dataframe thead th {\n",
       "        text-align: right;\n",
       "    }\n",
       "</style>\n",
       "<table border=\"1\" class=\"dataframe\">\n",
       "  <thead>\n",
       "    <tr style=\"text-align: right;\">\n",
       "      <th></th>\n",
       "      <th>min_t</th>\n",
       "      <th>max_t</th>\n",
       "    </tr>\n",
       "    <tr>\n",
       "      <th>DateTime</th>\n",
       "      <th></th>\n",
       "      <th></th>\n",
       "    </tr>\n",
       "  </thead>\n",
       "  <tbody>\n",
       "    <tr>\n",
       "      <th>2008-01-01</th>\n",
       "      <td>3.6</td>\n",
       "      <td>6.3</td>\n",
       "    </tr>\n",
       "    <tr>\n",
       "      <th>2008-01-02</th>\n",
       "      <td>0.1</td>\n",
       "      <td>2.7</td>\n",
       "    </tr>\n",
       "    <tr>\n",
       "      <th>2008-01-03</th>\n",
       "      <td>-1.4</td>\n",
       "      <td>6.1</td>\n",
       "    </tr>\n",
       "    <tr>\n",
       "      <th>2008-01-04</th>\n",
       "      <td>4.2</td>\n",
       "      <td>10.3</td>\n",
       "    </tr>\n",
       "    <tr>\n",
       "      <th>2008-01-05</th>\n",
       "      <td>6.2</td>\n",
       "      <td>9.5</td>\n",
       "    </tr>\n",
       "  </tbody>\n",
       "</table>\n",
       "</div>"
      ],
      "text/plain": [
       "            min_t  max_t\n",
       "DateTime                \n",
       "2008-01-01    3.6    6.3\n",
       "2008-01-02    0.1    2.7\n",
       "2008-01-03   -1.4    6.1\n",
       "2008-01-04    4.2   10.3\n",
       "2008-01-05    6.2    9.5"
      ]
     },
     "execution_count": 73,
     "metadata": {},
     "output_type": "execute_result"
    }
   ],
   "source": [
    "temp_2008 = pd.read_csv(\"pre_processing/temperatures_2008.csv\", sep=',', parse_dates=[\"Date\"])\n",
    "temp_2008 = temp_2008.set_index(daily_avg.index)\n",
    "temp_2008 = temp_2008.drop(['Date'], axis = 1)\n",
    "temp_2008.head()"
   ]
  },
  {
   "cell_type": "code",
   "execution_count": null,
   "metadata": {},
   "outputs": [
    {
     "name": "stdout",
     "output_type": "stream",
     "text": [
      "(366, 7)\n",
      "(366, 2)\n"
     ]
    }
   ],
   "source": [
    "print(daily_avg.shape)\n",
    "print(temp_2008.shape)"
   ]
  },
  {
   "cell_type": "code",
   "execution_count": null,
   "metadata": {},
   "outputs": [
    {
     "data": {
      "text/html": [
       "<div>\n",
       "<style scoped>\n",
       "    .dataframe tbody tr th:only-of-type {\n",
       "        vertical-align: middle;\n",
       "    }\n",
       "\n",
       "    .dataframe tbody tr th {\n",
       "        vertical-align: top;\n",
       "    }\n",
       "\n",
       "    .dataframe thead th {\n",
       "        text-align: right;\n",
       "    }\n",
       "</style>\n",
       "<table border=\"1\" class=\"dataframe\">\n",
       "  <thead>\n",
       "    <tr style=\"text-align: right;\">\n",
       "      <th></th>\n",
       "      <th>Global_active_power</th>\n",
       "      <th>Global_reactive_power</th>\n",
       "      <th>Voltage</th>\n",
       "      <th>Global_intensity</th>\n",
       "      <th>Sub_metering_1</th>\n",
       "      <th>Sub_metering_2</th>\n",
       "      <th>Sub_metering_3</th>\n",
       "      <th>min_temp</th>\n",
       "      <th>max_temp</th>\n",
       "    </tr>\n",
       "    <tr>\n",
       "      <th>DateTime</th>\n",
       "      <th></th>\n",
       "      <th></th>\n",
       "      <th></th>\n",
       "      <th></th>\n",
       "      <th></th>\n",
       "      <th></th>\n",
       "      <th></th>\n",
       "      <th></th>\n",
       "      <th></th>\n",
       "    </tr>\n",
       "  </thead>\n",
       "  <tbody>\n",
       "    <tr>\n",
       "      <th>2008-01-01</th>\n",
       "      <td>1.916485</td>\n",
       "      <td>0.098964</td>\n",
       "      <td>241.036674</td>\n",
       "      <td>7.978611</td>\n",
       "      <td>1.709028</td>\n",
       "      <td>1.902083</td>\n",
       "      <td>8.579861</td>\n",
       "      <td>3.6</td>\n",
       "      <td>6.3</td>\n",
       "    </tr>\n",
       "    <tr>\n",
       "      <th>2008-01-02</th>\n",
       "      <td>1.065731</td>\n",
       "      <td>0.124479</td>\n",
       "      <td>240.360271</td>\n",
       "      <td>4.517639</td>\n",
       "      <td>0.233333</td>\n",
       "      <td>0.194444</td>\n",
       "      <td>5.028472</td>\n",
       "      <td>0.1</td>\n",
       "      <td>2.7</td>\n",
       "    </tr>\n",
       "    <tr>\n",
       "      <th>2008-01-03</th>\n",
       "      <td>0.792969</td>\n",
       "      <td>0.073026</td>\n",
       "      <td>239.431514</td>\n",
       "      <td>3.277639</td>\n",
       "      <td>0.000000</td>\n",
       "      <td>0.893750</td>\n",
       "      <td>1.891667</td>\n",
       "      <td>-1.4</td>\n",
       "      <td>6.1</td>\n",
       "    </tr>\n",
       "    <tr>\n",
       "      <th>2008-01-04</th>\n",
       "      <td>1.478508</td>\n",
       "      <td>0.118331</td>\n",
       "      <td>241.615806</td>\n",
       "      <td>6.202500</td>\n",
       "      <td>0.749306</td>\n",
       "      <td>4.622917</td>\n",
       "      <td>10.079861</td>\n",
       "      <td>4.2</td>\n",
       "      <td>10.3</td>\n",
       "    </tr>\n",
       "    <tr>\n",
       "      <th>2008-01-05</th>\n",
       "      <td>0.400010</td>\n",
       "      <td>0.104650</td>\n",
       "      <td>241.446264</td>\n",
       "      <td>1.702361</td>\n",
       "      <td>0.000000</td>\n",
       "      <td>0.368056</td>\n",
       "      <td>1.795833</td>\n",
       "      <td>6.2</td>\n",
       "      <td>9.5</td>\n",
       "    </tr>\n",
       "    <tr>\n",
       "      <th>...</th>\n",
       "      <td>...</td>\n",
       "      <td>...</td>\n",
       "      <td>...</td>\n",
       "      <td>...</td>\n",
       "      <td>...</td>\n",
       "      <td>...</td>\n",
       "      <td>...</td>\n",
       "      <td>...</td>\n",
       "      <td>...</td>\n",
       "    </tr>\n",
       "    <tr>\n",
       "      <th>2008-04-05</th>\n",
       "      <td>1.021507</td>\n",
       "      <td>0.145432</td>\n",
       "      <td>241.380479</td>\n",
       "      <td>4.362500</td>\n",
       "      <td>1.525000</td>\n",
       "      <td>1.994444</td>\n",
       "      <td>3.794444</td>\n",
       "      <td>8.4</td>\n",
       "      <td>11.4</td>\n",
       "    </tr>\n",
       "    <tr>\n",
       "      <th>2008-04-06</th>\n",
       "      <td>1.103411</td>\n",
       "      <td>0.105836</td>\n",
       "      <td>234.706472</td>\n",
       "      <td>4.827778</td>\n",
       "      <td>1.076389</td>\n",
       "      <td>5.334722</td>\n",
       "      <td>4.519444</td>\n",
       "      <td>2.3</td>\n",
       "      <td>9.8</td>\n",
       "    </tr>\n",
       "    <tr>\n",
       "      <th>2008-04-07</th>\n",
       "      <td>0.654181</td>\n",
       "      <td>0.130647</td>\n",
       "      <td>240.179653</td>\n",
       "      <td>2.828333</td>\n",
       "      <td>0.000000</td>\n",
       "      <td>0.409028</td>\n",
       "      <td>5.765278</td>\n",
       "      <td>0.0</td>\n",
       "      <td>9.8</td>\n",
       "    </tr>\n",
       "    <tr>\n",
       "      <th>2008-04-08</th>\n",
       "      <td>0.782432</td>\n",
       "      <td>0.134552</td>\n",
       "      <td>237.863461</td>\n",
       "      <td>3.417234</td>\n",
       "      <td>0.414177</td>\n",
       "      <td>3.250174</td>\n",
       "      <td>3.064628</td>\n",
       "      <td>1.8</td>\n",
       "      <td>9.3</td>\n",
       "    </tr>\n",
       "    <tr>\n",
       "      <th>2008-04-09</th>\n",
       "      <td>0.850847</td>\n",
       "      <td>0.105467</td>\n",
       "      <td>238.663493</td>\n",
       "      <td>3.654722</td>\n",
       "      <td>1.545139</td>\n",
       "      <td>0.280556</td>\n",
       "      <td>6.533333</td>\n",
       "      <td>5.5</td>\n",
       "      <td>9.6</td>\n",
       "    </tr>\n",
       "  </tbody>\n",
       "</table>\n",
       "<p>100 rows × 9 columns</p>\n",
       "</div>"
      ],
      "text/plain": [
       "            Global_active_power  Global_reactive_power     Voltage  \\\n",
       "DateTime                                                             \n",
       "2008-01-01             1.916485               0.098964  241.036674   \n",
       "2008-01-02             1.065731               0.124479  240.360271   \n",
       "2008-01-03             0.792969               0.073026  239.431514   \n",
       "2008-01-04             1.478508               0.118331  241.615806   \n",
       "2008-01-05             0.400010               0.104650  241.446264   \n",
       "...                         ...                    ...         ...   \n",
       "2008-04-05             1.021507               0.145432  241.380479   \n",
       "2008-04-06             1.103411               0.105836  234.706472   \n",
       "2008-04-07             0.654181               0.130647  240.179653   \n",
       "2008-04-08             0.782432               0.134552  237.863461   \n",
       "2008-04-09             0.850847               0.105467  238.663493   \n",
       "\n",
       "            Global_intensity  Sub_metering_1  Sub_metering_2  Sub_metering_3  \\\n",
       "DateTime                                                                       \n",
       "2008-01-01          7.978611        1.709028        1.902083        8.579861   \n",
       "2008-01-02          4.517639        0.233333        0.194444        5.028472   \n",
       "2008-01-03          3.277639        0.000000        0.893750        1.891667   \n",
       "2008-01-04          6.202500        0.749306        4.622917       10.079861   \n",
       "2008-01-05          1.702361        0.000000        0.368056        1.795833   \n",
       "...                      ...             ...             ...             ...   \n",
       "2008-04-05          4.362500        1.525000        1.994444        3.794444   \n",
       "2008-04-06          4.827778        1.076389        5.334722        4.519444   \n",
       "2008-04-07          2.828333        0.000000        0.409028        5.765278   \n",
       "2008-04-08          3.417234        0.414177        3.250174        3.064628   \n",
       "2008-04-09          3.654722        1.545139        0.280556        6.533333   \n",
       "\n",
       "            min_temp  max_temp  \n",
       "DateTime                        \n",
       "2008-01-01       3.6       6.3  \n",
       "2008-01-02       0.1       2.7  \n",
       "2008-01-03      -1.4       6.1  \n",
       "2008-01-04       4.2      10.3  \n",
       "2008-01-05       6.2       9.5  \n",
       "...              ...       ...  \n",
       "2008-04-05       8.4      11.4  \n",
       "2008-04-06       2.3       9.8  \n",
       "2008-04-07       0.0       9.8  \n",
       "2008-04-08       1.8       9.3  \n",
       "2008-04-09       5.5       9.6  \n",
       "\n",
       "[100 rows x 9 columns]"
      ]
     },
     "execution_count": 75,
     "metadata": {},
     "output_type": "execute_result"
    }
   ],
   "source": [
    "daily_avg['min_temp'] = temp_2008['min_t']\n",
    "daily_avg['max_temp'] = temp_2008['max_t']\n",
    "daily_avg.head(100)"
   ]
  },
  {
   "cell_type": "code",
   "execution_count": null,
   "metadata": {},
   "outputs": [
    {
     "name": "stdout",
     "output_type": "stream",
     "text": [
      "Global electic consumption = -0.01970275381965199*x + 1.3178072418696054\n"
     ]
    },
    {
     "data": {
      "text/plain": [
       "[<matplotlib.lines.Line2D at 0xffff859599d0>]"
      ]
     },
     "execution_count": 95,
     "metadata": {},
     "output_type": "execute_result"
    },
    {
     "data": {
      "image/png": "[encoded data removed]",
      "text/plain": [
       "<Figure size 432x288 with 1 Axes>"
      ]
     },
     "metadata": {
      "needs_background": "light"
     },
     "output_type": "display_data"
    }
   ],
   "source": [
    "x = (daily_avg['max_temp']+daily_avg['min_temp'])/2\n",
    "y = daily_avg['Global_active_power']\n",
    "\n",
    "m, b = np.polyfit(x, y, 1)\n",
    "print('Global electic consumption = {}*x + {}'.format(m,b)) \n",
    "\n",
    "plt.plot(x,y, linestyle='None',marker='o')\n",
    "plt.plot(x, m*x+b)"
   ]
  },
  {
   "cell_type": "code",
   "execution_count": null,
   "metadata": {},
   "outputs": [
    {
     "name": "stdout",
     "output_type": "stream",
     "text": [
      "active energy (consumed per minute) = -0.2831824831897965*x + 12.999537826740752\n"
     ]
    },
    {
     "data": {
      "text/plain": [
       "[<matplotlib.lines.Line2D at 0xffff850e8a90>]"
      ]
     },
     "execution_count": 118,
     "metadata": {},
     "output_type": "execute_result"
    },
    {
     "data": {
      "image/png": "[encoded data removed]",
      "text/plain": [
       "<Figure size 432x288 with 1 Axes>"
      ]
     },
     "metadata": {
      "needs_background": "light"
     },
     "output_type": "display_data"
    }
   ],
   "source": [
    "x = (daily_avg['max_temp']+daily_avg['min_temp'])/2\n",
    "y = (daily_avg['Global_active_power']*1000/60)-daily_avg['Sub_metering_1']-daily_avg['Sub_metering_2']-daily_avg['Sub_metering_3']\n",
    "\n",
    "m, b = np.polyfit(x, y, 1)\n",
    "print('active energy of non measured electic devices = {}*x + {}'.format(m,b)) \n",
    "\n",
    "plt.plot(x,y, linestyle='None',marker='o')\n",
    "plt.plot(x, m*x+b)"
   ]
  },
  {
   "cell_type": "code",
   "execution_count": null,
   "metadata": {},
   "outputs": [
    {
     "name": "stdout",
     "output_type": "stream",
     "text": [
      "active energy of non measured electic devices + sub3= -0.325498733486341*x + 19.561370217947406\n"
     ]
    },
    {
     "data": {
      "text/plain": [
       "[<matplotlib.lines.Line2D at 0xffff85050640>]"
      ]
     },
     "execution_count": 119,
     "metadata": {},
     "output_type": "execute_result"
    },
    {
     "data": {
      "image/png": "[encoded data removed]",
      "text/plain": [
       "<Figure size 432x288 with 1 Axes>"
      ]
     },
     "metadata": {
      "needs_background": "light"
     },
     "output_type": "display_data"
    }
   ],
   "source": [
    "x = (daily_avg['max_temp']+daily_avg['min_temp'])/2\n",
    "y = (daily_avg['Global_active_power']*1000/60)-daily_avg['Sub_metering_1']-daily_avg['Sub_metering_2']\n",
    "\n",
    "m, b = np.polyfit(x, y, 1)\n",
    "print('active energy of non measured electic devices + sub3= {}*x + {}'.format(m,b)) \n",
    "\n",
    "plt.plot(x,y, linestyle='None',marker='o')\n",
    "plt.plot(x, m*x+b)"
   ]
  },
  {
   "cell_type": "code",
   "execution_count": null,
   "metadata": {},
   "outputs": [],
   "source": []
  },
  {
   "cell_type": "markdown",
   "metadata": {},
   "source": [
    "## Imports"
   ]
  },
  {
   "cell_type": "code",
   "execution_count": null,
   "metadata": {},
   "outputs": [],
   "source": [
    "import pandas as pd\n",
    "import numpy as np\n",
    "import matplotlib.pyplot as plt\n",
    "import datetime\n",
    "# from sklearn import datasets, svm, preprocessing\n",
    "# from sklearn.ensemble import RandomForestRegressor\n",
    "# from sklearn.metrics import mean_absolute_error, classification_report\n",
    "# from sklearn.model_selection import train_test_split, GridSearchCV\n",
    "# from sklearn.preprocessing import OneHotEncoder"
   ]
  },
  {
   "cell_type": "markdown",
   "metadata": {},
   "source": [
    "## Data loading"
   ]
  },
  {
   "cell_type": "code",
   "execution_count": null,
   "metadata": {},
   "outputs": [],
   "source": [
    "df = pd.read_csv(\"data_analysis_2/dataset_traite.csv\", sep=',', parse_dates=[\"DateTime\"])"
   ]
  },
  {
   "cell_type": "code",
   "execution_count": null,
   "metadata": {},
   "outputs": [
    {
     "data": {
      "text/html": [
       "<div>\n",
       "<style scoped>\n",
       "    .dataframe tbody tr th:only-of-type {\n",
       "        vertical-align: middle;\n",
       "    }\n",
       "\n",
       "    .dataframe tbody tr th {\n",
       "        vertical-align: top;\n",
       "    }\n",
       "\n",
       "    .dataframe thead th {\n",
       "        text-align: right;\n",
       "    }\n",
       "</style>\n",
       "<table border=\"1\" class=\"dataframe\">\n",
       "  <thead>\n",
       "    <tr style=\"text-align: right;\">\n",
       "      <th></th>\n",
       "      <th>DateTime</th>\n",
       "      <th>Global_active_power</th>\n",
       "      <th>Global_reactive_power</th>\n",
       "      <th>Voltage</th>\n",
       "      <th>Global_intensity</th>\n",
       "      <th>Sub_metering_1</th>\n",
       "      <th>Sub_metering_2</th>\n",
       "      <th>Sub_metering_3</th>\n",
       "    </tr>\n",
       "  </thead>\n",
       "  <tbody>\n",
       "    <tr>\n",
       "      <th>0</th>\n",
       "      <td>2006-12-16 17:24:00</td>\n",
       "      <td>4.216</td>\n",
       "      <td>0.418</td>\n",
       "      <td>234.84</td>\n",
       "      <td>18.4</td>\n",
       "      <td>0.0</td>\n",
       "      <td>1.0</td>\n",
       "      <td>17.0</td>\n",
       "    </tr>\n",
       "    <tr>\n",
       "      <th>1</th>\n",
       "      <td>2006-12-16 17:25:00</td>\n",
       "      <td>5.360</td>\n",
       "      <td>0.436</td>\n",
       "      <td>233.63</td>\n",
       "      <td>23.0</td>\n",
       "      <td>0.0</td>\n",
       "      <td>1.0</td>\n",
       "      <td>16.0</td>\n",
       "    </tr>\n",
       "    <tr>\n",
       "      <th>2</th>\n",
       "      <td>2006-12-16 17:26:00</td>\n",
       "      <td>5.374</td>\n",
       "      <td>0.498</td>\n",
       "      <td>233.29</td>\n",
       "      <td>23.0</td>\n",
       "      <td>0.0</td>\n",
       "      <td>2.0</td>\n",
       "      <td>17.0</td>\n",
       "    </tr>\n",
       "    <tr>\n",
       "      <th>3</th>\n",
       "      <td>2006-12-16 17:27:00</td>\n",
       "      <td>5.388</td>\n",
       "      <td>0.502</td>\n",
       "      <td>233.74</td>\n",
       "      <td>23.0</td>\n",
       "      <td>0.0</td>\n",
       "      <td>1.0</td>\n",
       "      <td>17.0</td>\n",
       "    </tr>\n",
       "    <tr>\n",
       "      <th>4</th>\n",
       "      <td>2006-12-16 17:28:00</td>\n",
       "      <td>3.666</td>\n",
       "      <td>0.528</td>\n",
       "      <td>235.68</td>\n",
       "      <td>15.8</td>\n",
       "      <td>0.0</td>\n",
       "      <td>1.0</td>\n",
       "      <td>17.0</td>\n",
       "    </tr>\n",
       "  </tbody>\n",
       "</table>\n",
       "</div>"
      ],
      "text/plain": [
       "             DateTime  Global_active_power  Global_reactive_power  Voltage  \\\n",
       "0 2006-12-16 17:24:00                4.216                  0.418   234.84   \n",
       "1 2006-12-16 17:25:00                5.360                  0.436   233.63   \n",
       "2 2006-12-16 17:26:00                5.374                  0.498   233.29   \n",
       "3 2006-12-16 17:27:00                5.388                  0.502   233.74   \n",
       "4 2006-12-16 17:28:00                3.666                  0.528   235.68   \n",
       "\n",
       "   Global_intensity  Sub_metering_1  Sub_metering_2  Sub_metering_3  \n",
       "0              18.4             0.0             1.0            17.0  \n",
       "1              23.0             0.0             1.0            16.0  \n",
       "2              23.0             0.0             2.0            17.0  \n",
       "3              23.0             0.0             1.0            17.0  \n",
       "4              15.8             0.0             1.0            17.0  "
      ]
     },
     "execution_count": 97,
     "metadata": {},
     "output_type": "execute_result"
    }
   ],
   "source": [
    "df.head()"
   ]
  },
  {
   "cell_type": "code",
   "execution_count": null,
   "metadata": {},
   "outputs": [
    {
     "name": "stdout",
     "output_type": "stream",
     "text": [
      "<class 'pandas.core.frame.DataFrame'>\n",
      "RangeIndex: 2049280 entries, 0 to 2049279\n",
      "Data columns (total 8 columns):\n",
      " #   Column                 Dtype         \n",
      "---  ------                 -----         \n",
      " 0   DateTime               datetime64[ns]\n",
      " 1   Global_active_power    float64       \n",
      " 2   Global_reactive_power  float64       \n",
      " 3   Voltage                float64       \n",
      " 4   Global_intensity       float64       \n",
      " 5   Sub_metering_1         float64       \n",
      " 6   Sub_metering_2         float64       \n",
      " 7   Sub_metering_3         float64       \n",
      "dtypes: datetime64[ns](1), float64(7)\n",
      "memory usage: 125.1 MB\n"
     ]
    }
   ],
   "source": [
    "df.info()"
   ]
  },
  {
   "cell_type": "markdown",
   "metadata": {},
   "source": [
    "## Data viz"
   ]
  },
  {
   "cell_type": "code",
   "execution_count": null,
   "metadata": {},
   "outputs": [
    {
     "data": {
      "text/html": [
       "<div>\n",
       "<style scoped>\n",
       "    .dataframe tbody tr th:only-of-type {\n",
       "        vertical-align: middle;\n",
       "    }\n",
       "\n",
       "    .dataframe tbody tr th {\n",
       "        vertical-align: top;\n",
       "    }\n",
       "\n",
       "    .dataframe thead th {\n",
       "        text-align: right;\n",
       "    }\n",
       "</style>\n",
       "<table border=\"1\" class=\"dataframe\">\n",
       "  <thead>\n",
       "    <tr style=\"text-align: right;\">\n",
       "      <th></th>\n",
       "      <th>Global_active_power</th>\n",
       "    </tr>\n",
       "    <tr>\n",
       "      <th>DateTime</th>\n",
       "      <th></th>\n",
       "    </tr>\n",
       "  </thead>\n",
       "  <tbody>\n",
       "    <tr>\n",
       "      <th>2007-01-01 00:00:00</th>\n",
       "      <td>2.580</td>\n",
       "    </tr>\n",
       "    <tr>\n",
       "      <th>2007-01-01 00:01:00</th>\n",
       "      <td>2.552</td>\n",
       "    </tr>\n",
       "    <tr>\n",
       "      <th>2007-01-01 00:02:00</th>\n",
       "      <td>2.550</td>\n",
       "    </tr>\n",
       "    <tr>\n",
       "      <th>2007-01-01 00:03:00</th>\n",
       "      <td>2.550</td>\n",
       "    </tr>\n",
       "    <tr>\n",
       "      <th>2007-01-01 00:04:00</th>\n",
       "      <td>2.554</td>\n",
       "    </tr>\n",
       "    <tr>\n",
       "      <th>...</th>\n",
       "      <td>...</td>\n",
       "    </tr>\n",
       "    <tr>\n",
       "      <th>2007-12-31 23:55:00</th>\n",
       "      <td>1.746</td>\n",
       "    </tr>\n",
       "    <tr>\n",
       "      <th>2007-12-31 23:56:00</th>\n",
       "      <td>1.732</td>\n",
       "    </tr>\n",
       "    <tr>\n",
       "      <th>2007-12-31 23:57:00</th>\n",
       "      <td>1.732</td>\n",
       "    </tr>\n",
       "    <tr>\n",
       "      <th>2007-12-31 23:58:00</th>\n",
       "      <td>1.684</td>\n",
       "    </tr>\n",
       "    <tr>\n",
       "      <th>2007-12-31 23:59:00</th>\n",
       "      <td>1.628</td>\n",
       "    </tr>\n",
       "  </tbody>\n",
       "</table>\n",
       "<p>521669 rows × 1 columns</p>\n",
       "</div>"
      ],
      "text/plain": [
       "                     Global_active_power\n",
       "DateTime                                \n",
       "2007-01-01 00:00:00                2.580\n",
       "2007-01-01 00:01:00                2.552\n",
       "2007-01-01 00:02:00                2.550\n",
       "2007-01-01 00:03:00                2.550\n",
       "2007-01-01 00:04:00                2.554\n",
       "...                                  ...\n",
       "2007-12-31 23:55:00                1.746\n",
       "2007-12-31 23:56:00                1.732\n",
       "2007-12-31 23:57:00                1.732\n",
       "2007-12-31 23:58:00                1.684\n",
       "2007-12-31 23:59:00                1.628\n",
       "\n",
       "[521669 rows x 1 columns]"
      ]
     },
     "execution_count": 99,
     "metadata": {},
     "output_type": "execute_result"
    }
   ],
   "source": [
    "active_power_df = df[['DateTime', 'Global_active_power']]\n",
    "active_power_df = active_power_df.loc[active_power_df[\"DateTime\"].dt.year == 2007]\n",
    "active_power_df.set_index('DateTime', inplace=True)\n",
    "active_power_df"
   ]
  },
  {
   "cell_type": "markdown",
   "metadata": {},
   "source": [
    "#### Average global active power (in watt) per week in 2007"
   ]
  },
  {
   "cell_type": "code",
   "execution_count": null,
   "metadata": {},
   "outputs": [
    {
     "data": {
      "text/plain": [
       "<AxesSubplot:xlabel='DateTime'>"
      ]
     },
     "execution_count": 135,
     "metadata": {},
     "output_type": "execute_result"
    },
    {
     "data": {
      "image/png": "[encoded data removed]",
      "text/plain": [
       "<Figure size 864x432 with 1 Axes>"
      ]
     },
     "metadata": {
      "needs_background": "light"
     },
     "output_type": "display_data"
    }
   ],
   "source": [
    "weekly_avg = active_power_df.resample(\"W\").mean()\n",
    "weekly_avg.plot(figsize=(12,6))"
   ]
  },
  {
   "cell_type": "markdown",
   "metadata": {},
   "source": [
    "#### Moving average of the daily average global active power (in watt) in 2007"
   ]
  },
  {
   "cell_type": "code",
   "execution_count": null,
   "metadata": {},
   "outputs": [
    {
     "data": {
      "text/plain": [
       "<AxesSubplot:xlabel='DateTime'>"
      ]
     },
     "execution_count": 136,
     "metadata": {},
     "output_type": "execute_result"
    },
    {
     "data": {
      "image/png": "[encoded data removed]",
      "text/plain": [
       "<Figure size 864x432 with 1 Axes>"
      ]
     },
     "metadata": {
      "needs_background": "light"
     },
     "output_type": "display_data"
    }
   ],
   "source": [
    "daily_avg = active_power_df.resample(\"D\").mean()\n",
    "\n",
    "sma_length = 20\n",
    "sma = daily_avg[\"Global_active_power\"].rolling(window=sma_length).mean()\n",
    "sma.plot(figsize=(12,6))\n",
    "# sma"
   ]
  },
  {
   "cell_type": "markdown",
   "metadata": {},
   "source": [
    "#### Global active power per hour of the day"
   ]
  },
  {
   "cell_type": "code",
   "execution_count": null,
   "metadata": {},
   "outputs": [
    {
     "data": {
      "text/plain": [
       "<AxesSubplot:xlabel='DateTime'>"
      ]
     },
     "execution_count": 137,
     "metadata": {},
     "output_type": "execute_result"
    },
    {
     "data": {
      "image/png": "[encoded data removed]",
      "text/plain": [
       "<Figure size 864x288 with 1 Axes>"
      ]
     },
     "metadata": {
      "needs_background": "light"
     },
     "output_type": "display_data"
    }
   ],
   "source": [
    "fig, axs = plt.subplots(figsize=(12, 4))\n",
    "\n",
    "active_power_df.groupby(active_power_df.index.hour)[\"Global_active_power\"].mean().plot(kind='bar', rot=0, ax=axs)"
   ]
  },
  {
   "cell_type": "markdown",
   "metadata": {},
   "source": [
    "#### Sub metering 1 (kitchen) per hour of the day"
   ]
  },
  {
   "cell_type": "code",
   "execution_count": null,
   "metadata": {},
   "outputs": [],
   "source": [
    "sub1_df = df[['DateTime', 'Sub_metering_1']]\n",
    "sub1_df = sub1_df.loc[sub1_df[\"DateTime\"].dt.year == 2007]\n",
    "sub1_df.set_index('DateTime', inplace=True)"
   ]
  },
  {
   "cell_type": "code",
   "execution_count": null,
   "metadata": {},
   "outputs": [
    {
     "data": {
      "text/plain": [
       "<AxesSubplot:xlabel='DateTime'>"
      ]
     },
     "execution_count": 143,
     "metadata": {},
     "output_type": "execute_result"
    },
    {
     "data": {
      "image/png": "[encoded data removed]",
      "text/plain": [
       "<Figure size 864x288 with 1 Axes>"
      ]
     },
     "metadata": {
      "needs_background": "light"
     },
     "output_type": "display_data"
    }
   ],
   "source": [
    "fig, axs = plt.subplots(figsize=(12, 4))\n",
    "\n",
    "sub1_df.groupby(sub1_df.index.hour)[\"Sub_metering_1\"].mean().plot(kind='bar', rot=0, ax=axs)"
   ]
  },
  {
   "cell_type": "markdown",
   "metadata": {},
   "source": [
    "#### Sub metering 1 (kitchen) per hour of the business days"
   ]
  },
  {
   "cell_type": "code",
   "execution_count": null,
   "metadata": {},
   "outputs": [],
   "source": [
    "sub1_df = df[['DateTime', 'Sub_metering_1']]\n",
    "sub1_df = sub1_df.loc[(sub1_df[\"DateTime\"].dt.year == 2007) & (sub1_df[\"DateTime\"].dt.weekday != 5) & (sub1_df[\"DateTime\"].dt.weekday != 6)]\n",
    "sub1_df.set_index('DateTime', inplace=True)"
   ]
  },
  {
   "cell_type": "code",
   "execution_count": null,
   "metadata": {},
   "outputs": [
    {
     "data": {
      "text/plain": [
       "<AxesSubplot:xlabel='DateTime'>"
      ]
     },
     "execution_count": 176,
     "metadata": {},
     "output_type": "execute_result"
    },
    {
     "data": {
      "image/png": "[encoded data removed]",
      "text/plain": [
       "<Figure size 864x288 with 1 Axes>"
      ]
     },
     "metadata": {
      "needs_background": "light"
     },
     "output_type": "display_data"
    }
   ],
   "source": [
    "fig, axs = plt.subplots(figsize=(12, 4))\n",
    "\n",
    "sub1_df.groupby(sub1_df.index.hour)[\"Sub_metering_1\"].mean().plot(kind='bar', rot=0, ax=axs)"
   ]
  },
  {
   "cell_type": "code",
   "execution_count": null,
   "metadata": {},
   "outputs": [
    {
     "data": {
      "text/plain": [
       "<AxesSubplot:xlabel='DateTime'>"
      ]
     },
     "execution_count": 223,
     "metadata": {},
     "output_type": "execute_result"
    },
    {
     "data": {
      "image/png": "[encoded data removed]",
      "text/plain": [
       "<Figure size 1440x288 with 1 Axes>"
      ]
     },
     "metadata": {
      "needs_background": "light"
     },
     "output_type": "display_data"
    }
   ],
   "source": [
    "sub1_df = df[['DateTime', 'Sub_metering_1']]\n",
    "sub1_df = sub1_df.loc[(sub1_df[\"DateTime\"].dt.year == 2007) & (sub1_df[\"DateTime\"].dt.weekday != 5) & (sub1_df[\"DateTime\"].dt.weekday != 6)]\n",
    "sub1_df.set_index('DateTime', inplace=True)\n",
    "\n",
    "fig, axs = plt.subplots(figsize=(20, 4))\n",
    "axs.set_ylim([0, 4.5])\n",
    "sub1_df.groupby([sub1_df.index.hour, sub1_df.index.minute])[\"Sub_metering_1\"].mean()[8].plot(kind='bar', rot=0, ax=axs)"
   ]
  },
  {
   "cell_type": "code",
   "execution_count": null,
   "metadata": {},
   "outputs": [
    {
     "data": {
      "text/plain": [
       "<AxesSubplot:xlabel='DateTime'>"
      ]
     },
     "execution_count": 235,
     "metadata": {},
     "output_type": "execute_result"
    },
    {
     "data": {
      "image/png": "[encoded data removed]",
      "text/plain": [
       "<Figure size 1440x288 with 1 Axes>"
      ]
     },
     "metadata": {
      "needs_background": "light"
     },
     "output_type": "display_data"
    }
   ],
   "source": [
    "sub1_df = df[['DateTime', 'Sub_metering_1']]\n",
    "sub1_df = sub1_df.loc[(sub1_df[\"DateTime\"].dt.year == 2007) & ((sub1_df[\"DateTime\"].dt.weekday == 5) | (sub1_df[\"DateTime\"].dt.weekday == 6))]\n",
    "sub1_df.set_index('DateTime', inplace=True)\n",
    "\n",
    "fig, axs = plt.subplots(figsize=(20, 4))\n",
    "axs.set_ylim([0, 13])\n",
    "sub1_df.groupby([sub1_df.index.hour, sub1_df.index.minute])[\"Sub_metering_1\"].mean()[6].plot(kind='bar', rot=0, ax=axs)"
   ]
  },
  {
   "cell_type": "code",
   "execution_count": null,
   "metadata": {},
   "outputs": [],
   "source": [
    "Interpretation of the plot :\n",
    "Sharp increase of power consumption around 8am, implies that the famsilly wakes up around 8 on week days"
   ]
  },
  {
   "cell_type": "markdown",
   "metadata": {},
   "source": [
    "#### Sub metering 1 per hour of the weekend days"
   ]
  },
  {
   "cell_type": "code",
   "execution_count": null,
   "metadata": {},
   "outputs": [],
   "source": [
    "sub1_df = df[['DateTime', 'Sub_metering_1']]\n",
    "sub1_df = sub1_df.loc[(sub1_df[\"DateTime\"].dt.year == 2007) & ((sub1_df[\"DateTime\"].dt.weekday == 5) | (sub1_df[\"DateTime\"].dt.weekday == 6))]\n",
    "sub1_df.set_index('DateTime', inplace=True)"
   ]
  },
  {
   "cell_type": "code",
   "execution_count": null,
   "metadata": {},
   "outputs": [
    {
     "data": {
      "text/plain": [
       "<AxesSubplot:xlabel='DateTime'>"
      ]
     },
     "execution_count": 169,
     "metadata": {},
     "output_type": "execute_result"
    },
    {
     "data": {
      "image/png": "[encoded data removed]",
      "text/plain": [
       "<Figure size 864x288 with 1 Axes>"
      ]
     },
     "metadata": {
      "needs_background": "light"
     },
     "output_type": "display_data"
    }
   ],
   "source": [
    "fig, axs = plt.subplots(figsize=(12, 4))\n",
    "\n",
    "sub1_df.groupby(sub1_df.index.hour)[\"Sub_metering_1\"].mean().plot(kind='bar', rot=0, ax=axs)"
   ]
  },
  {
   "cell_type": "markdown",
   "metadata": {},
   "source": []
  },
  {
   "cell_type": "code",
   "execution_count": null,
   "metadata": {},
   "outputs": [],
   "source": [
    "from pandas.tseries.holiday import AbstractHolidayCalendar, Holiday, EasterMonday, Easter\n",
    "from pandas.tseries.offsets import Day, CustomBusinessDay\n",
    "\n",
    "class FrBusinessCalendar(AbstractHolidayCalendar):\n",
    "    \"\"\" Custom Holiday calendar for France based on\n",
    "        https://en.wikipedia.org/wiki/Public_holidays_in_France\n",
    "      - 1 January: New Year's Day\n",
    "      - Moveable: Easter Monday (Monday after Easter Sunday)\n",
    "      - 1 May: Labour Day\n",
    "      - 8 May: Victory in Europe Day\n",
    "      - Moveable Ascension Day (Thursday, 39 days after Easter Sunday)\n",
    "      - 14 July: Bastille Day\n",
    "      - 15 August: Assumption of Mary to Heaven\n",
    "      - 1 November: All Saints' Day\n",
    "      - 11 November: Armistice Day\n",
    "      - 25 December: Christmas Day\n",
    "    \"\"\"\n",
    "    rules = [\n",
    "        Holiday('New Years Day', month=1, day=1),\n",
    "        EasterMonday,\n",
    "        Holiday('Labour Day', month=5, day=1),\n",
    "        Holiday('Victory in Europe Day', month=5, day=8),\n",
    "        Holiday('Ascension Day', month=1, day=1, offset=[Easter(), Day(39)]),\n",
    "        Holiday('Bastille Day', month=7, day=14),\n",
    "        Holiday('Assumption of Mary to Heaven', month=8, day=15),\n",
    "        Holiday('All Saints Day', month=11, day=1),\n",
    "        Holiday('Armistice Day', month=11, day=11),\n",
    "        Holiday('Christmas Day', month=12, day=25)\n",
    "    ]"
   ]
  },
  {
   "cell_type": "code",
   "execution_count": null,
   "metadata": {},
   "outputs": [
    {
     "name": "stdout",
     "output_type": "stream",
     "text": [
      "2007-01-01\n",
      "2007-12-30\n"
     ]
    },
    {
     "data": {
      "text/plain": [
       "DatetimeIndex(['2007-01-01', '2007-04-09', '2007-05-01', '2007-05-08',\n",
       "               '2007-05-17', '2007-07-14', '2007-08-15', '2007-11-01',\n",
       "               '2007-11-11', '2007-12-25'],\n",
       "              dtype='datetime64[ns]', freq=None)"
      ]
     },
     "execution_count": 140,
     "metadata": {},
     "output_type": "execute_result"
    }
   ],
   "source": [
    "year = 2007\n",
    "start = datetime.date(year, 1, 1)\n",
    "print(start)\n",
    "end = datetime.date(year, 12, 30)\n",
    "print(end)\n",
    "cal = FrBusinessCalendar()\n",
    "# Getting the holidays (off-days) between two dates\n",
    "cal.holidays(start=start, end=end)"
   ]
  },
  {
   "cell_type": "markdown",
   "metadata": {},
   "source": [
    "### partie de theophile"
   ]
  },
  {
   "cell_type": "code",
   "execution_count": null,
   "metadata": {},
   "outputs": [
    {
     "name": "stderr",
     "output_type": "stream",
     "text": [
      "<ipython-input-43-a3b257f52555>:5: FutureWarning: weekofyear and week have been deprecated, please use DatetimeIndex.isocalendar().week instead, which returns a Series.  To exactly reproduce the behavior of week and weekofyear and return an Index, you may call pd.Int64Index(idx.isocalendar().week)\n",
      "  df_grouped = df_copy.groupby(by=[df_copy.index.month,df_copy.index.week]).mean()\n"
     ]
    },
    {
     "data": {
      "text/html": [
       "<div>\n",
       "<style scoped>\n",
       "    .dataframe tbody tr th:only-of-type {\n",
       "        vertical-align: middle;\n",
       "    }\n",
       "\n",
       "    .dataframe tbody tr th {\n",
       "        vertical-align: top;\n",
       "    }\n",
       "\n",
       "    .dataframe thead th {\n",
       "        text-align: right;\n",
       "    }\n",
       "</style>\n",
       "<table border=\"1\" class=\"dataframe\">\n",
       "  <thead>\n",
       "    <tr style=\"text-align: right;\">\n",
       "      <th></th>\n",
       "      <th></th>\n",
       "      <th>Global_active_power</th>\n",
       "      <th>Global_reactive_power</th>\n",
       "      <th>Voltage</th>\n",
       "      <th>Global_intensity</th>\n",
       "      <th>Sub_metering_1</th>\n",
       "      <th>Sub_metering_2</th>\n",
       "      <th>Sub_metering_3</th>\n",
       "    </tr>\n",
       "    <tr>\n",
       "      <th>DateTime</th>\n",
       "      <th>DateTime</th>\n",
       "      <th></th>\n",
       "      <th></th>\n",
       "      <th></th>\n",
       "      <th></th>\n",
       "      <th></th>\n",
       "      <th></th>\n",
       "      <th></th>\n",
       "    </tr>\n",
       "  </thead>\n",
       "  <tbody>\n",
       "    <tr>\n",
       "      <th rowspan=\"5\" valign=\"top\">1</th>\n",
       "      <th>1</th>\n",
       "      <td>1.152170</td>\n",
       "      <td>0.109718</td>\n",
       "      <td>238.848376</td>\n",
       "      <td>4.885524</td>\n",
       "      <td>1.068856</td>\n",
       "      <td>0.860105</td>\n",
       "      <td>6.093263</td>\n",
       "    </tr>\n",
       "    <tr>\n",
       "      <th>2</th>\n",
       "      <td>1.422602</td>\n",
       "      <td>0.146245</td>\n",
       "      <td>238.996149</td>\n",
       "      <td>6.068642</td>\n",
       "      <td>2.438457</td>\n",
       "      <td>1.494035</td>\n",
       "      <td>6.925731</td>\n",
       "    </tr>\n",
       "    <tr>\n",
       "      <th>3</th>\n",
       "      <td>1.639451</td>\n",
       "      <td>0.136597</td>\n",
       "      <td>240.440150</td>\n",
       "      <td>6.968413</td>\n",
       "      <td>2.324901</td>\n",
       "      <td>1.991567</td>\n",
       "      <td>8.086508</td>\n",
       "    </tr>\n",
       "    <tr>\n",
       "      <th>4</th>\n",
       "      <td>1.517470</td>\n",
       "      <td>0.106522</td>\n",
       "      <td>241.991723</td>\n",
       "      <td>6.397440</td>\n",
       "      <td>1.138506</td>\n",
       "      <td>1.482588</td>\n",
       "      <td>7.149717</td>\n",
       "    </tr>\n",
       "    <tr>\n",
       "      <th>5</th>\n",
       "      <td>1.401438</td>\n",
       "      <td>0.123291</td>\n",
       "      <td>240.897201</td>\n",
       "      <td>5.913565</td>\n",
       "      <td>0.519907</td>\n",
       "      <td>1.775000</td>\n",
       "      <td>8.901620</td>\n",
       "    </tr>\n",
       "    <tr>\n",
       "      <th>...</th>\n",
       "      <th>...</th>\n",
       "      <td>...</td>\n",
       "      <td>...</td>\n",
       "      <td>...</td>\n",
       "      <td>...</td>\n",
       "      <td>...</td>\n",
       "      <td>...</td>\n",
       "      <td>...</td>\n",
       "    </tr>\n",
       "    <tr>\n",
       "      <th rowspan=\"5\" valign=\"top\">12</th>\n",
       "      <th>48</th>\n",
       "      <td>1.159342</td>\n",
       "      <td>0.116612</td>\n",
       "      <td>240.818354</td>\n",
       "      <td>4.906319</td>\n",
       "      <td>0.773264</td>\n",
       "      <td>0.290972</td>\n",
       "      <td>6.872569</td>\n",
       "    </tr>\n",
       "    <tr>\n",
       "      <th>49</th>\n",
       "      <td>0.838091</td>\n",
       "      <td>0.120684</td>\n",
       "      <td>238.886729</td>\n",
       "      <td>3.625992</td>\n",
       "      <td>0.762302</td>\n",
       "      <td>1.176091</td>\n",
       "      <td>5.082639</td>\n",
       "    </tr>\n",
       "    <tr>\n",
       "      <th>50</th>\n",
       "      <td>1.486147</td>\n",
       "      <td>0.096026</td>\n",
       "      <td>241.223161</td>\n",
       "      <td>6.239960</td>\n",
       "      <td>1.030655</td>\n",
       "      <td>2.054762</td>\n",
       "      <td>8.114385</td>\n",
       "    </tr>\n",
       "    <tr>\n",
       "      <th>51</th>\n",
       "      <td>1.544693</td>\n",
       "      <td>0.089493</td>\n",
       "      <td>242.717135</td>\n",
       "      <td>6.432880</td>\n",
       "      <td>1.273142</td>\n",
       "      <td>1.669610</td>\n",
       "      <td>8.316004</td>\n",
       "    </tr>\n",
       "    <tr>\n",
       "      <th>52</th>\n",
       "      <td>1.888514</td>\n",
       "      <td>0.120793</td>\n",
       "      <td>242.152803</td>\n",
       "      <td>7.888413</td>\n",
       "      <td>2.303075</td>\n",
       "      <td>2.433730</td>\n",
       "      <td>8.441270</td>\n",
       "    </tr>\n",
       "  </tbody>\n",
       "</table>\n",
       "<p>63 rows × 7 columns</p>\n",
       "</div>"
      ],
      "text/plain": [
       "                   Global_active_power  Global_reactive_power     Voltage  \\\n",
       "DateTime DateTime                                                           \n",
       "1        1                    1.152170               0.109718  238.848376   \n",
       "         2                    1.422602               0.146245  238.996149   \n",
       "         3                    1.639451               0.136597  240.440150   \n",
       "         4                    1.517470               0.106522  241.991723   \n",
       "         5                    1.401438               0.123291  240.897201   \n",
       "...                                ...                    ...         ...   \n",
       "12       48                   1.159342               0.116612  240.818354   \n",
       "         49                   0.838091               0.120684  238.886729   \n",
       "         50                   1.486147               0.096026  241.223161   \n",
       "         51                   1.544693               0.089493  242.717135   \n",
       "         52                   1.888514               0.120793  242.152803   \n",
       "\n",
       "                   Global_intensity  Sub_metering_1  Sub_metering_2  \\\n",
       "DateTime DateTime                                                     \n",
       "1        1                 4.885524        1.068856        0.860105   \n",
       "         2                 6.068642        2.438457        1.494035   \n",
       "         3                 6.968413        2.324901        1.991567   \n",
       "         4                 6.397440        1.138506        1.482588   \n",
       "         5                 5.913565        0.519907        1.775000   \n",
       "...                             ...             ...             ...   \n",
       "12       48                4.906319        0.773264        0.290972   \n",
       "         49                3.625992        0.762302        1.176091   \n",
       "         50                6.239960        1.030655        2.054762   \n",
       "         51                6.432880        1.273142        1.669610   \n",
       "         52                7.888413        2.303075        2.433730   \n",
       "\n",
       "                   Sub_metering_3  \n",
       "DateTime DateTime                  \n",
       "1        1               6.093263  \n",
       "         2               6.925731  \n",
       "         3               8.086508  \n",
       "         4               7.149717  \n",
       "         5               8.901620  \n",
       "...                           ...  \n",
       "12       48              6.872569  \n",
       "         49              5.082639  \n",
       "         50              8.114385  \n",
       "         51              8.316004  \n",
       "         52              8.441270  \n",
       "\n",
       "[63 rows x 7 columns]"
      ]
     },
     "execution_count": 43,
     "metadata": {},
     "output_type": "execute_result"
    }
   ],
   "source": [
    "df_copy = df.copy().loc[df[\"DateTime\"].dt.year == 2007]\n",
    "\n",
    "df_copy.index = pd.to_datetime(df_copy['DateTime'])\n",
    "df_copy = df_copy.drop(['DateTime'], axis=1)\n",
    "df_grouped = df_copy.groupby(by=[df_copy.index.month,df_copy.index.week,df_copy()]).mean()\n",
    "df_grouped.head(200)\n",
    "#df.head()"
   ]
  },
  {
   "cell_type": "code",
   "execution_count": null,
   "metadata": {},
   "outputs": [],
   "source": [
    "df_copy2 = df.copy().loc[df[\"DateTime\"].dt.year == 2008]\n",
    "df_copy2.index = pd.to_datetime(df_copy2['DateTime'])\n",
    "df_copy2 = df_copy2.drop(['DateTime'], axis=1)\n",
    "daily_avg = df_copy2.resample(\"D\").mean()\n"
   ]
  },
  {
   "cell_type": "code",
   "execution_count": null,
   "metadata": {},
   "outputs": [
    {
     "data": {
      "text/html": [
       "<div>\n",
       "<style scoped>\n",
       "    .dataframe tbody tr th:only-of-type {\n",
       "        vertical-align: middle;\n",
       "    }\n",
       "\n",
       "    .dataframe tbody tr th {\n",
       "        vertical-align: top;\n",
       "    }\n",
       "\n",
       "    .dataframe thead th {\n",
       "        text-align: right;\n",
       "    }\n",
       "</style>\n",
       "<table border=\"1\" class=\"dataframe\">\n",
       "  <thead>\n",
       "    <tr style=\"text-align: right;\">\n",
       "      <th></th>\n",
       "      <th>min_t</th>\n",
       "      <th>max_t</th>\n",
       "    </tr>\n",
       "    <tr>\n",
       "      <th>DateTime</th>\n",
       "      <th></th>\n",
       "      <th></th>\n",
       "    </tr>\n",
       "  </thead>\n",
       "  <tbody>\n",
       "    <tr>\n",
       "      <th>2008-01-01</th>\n",
       "      <td>3.6</td>\n",
       "      <td>6.3</td>\n",
       "    </tr>\n",
       "    <tr>\n",
       "      <th>2008-01-02</th>\n",
       "      <td>0.1</td>\n",
       "      <td>2.7</td>\n",
       "    </tr>\n",
       "    <tr>\n",
       "      <th>2008-01-03</th>\n",
       "      <td>-1.4</td>\n",
       "      <td>6.1</td>\n",
       "    </tr>\n",
       "    <tr>\n",
       "      <th>2008-01-04</th>\n",
       "      <td>4.2</td>\n",
       "      <td>10.3</td>\n",
       "    </tr>\n",
       "    <tr>\n",
       "      <th>2008-01-05</th>\n",
       "      <td>6.2</td>\n",
       "      <td>9.5</td>\n",
       "    </tr>\n",
       "  </tbody>\n",
       "</table>\n",
       "</div>"
      ],
      "text/plain": [
       "            min_t  max_t\n",
       "DateTime                \n",
       "2008-01-01    3.6    6.3\n",
       "2008-01-02    0.1    2.7\n",
       "2008-01-03   -1.4    6.1\n",
       "2008-01-04    4.2   10.3\n",
       "2008-01-05    6.2    9.5"
      ]
     },
     "execution_count": 73,
     "metadata": {},
     "output_type": "execute_result"
    }
   ],
   "source": [
    "temp_2008 = pd.read_csv(\"data_analysis_2/temperatures_2008.csv\", sep=',', parse_dates=[\"Date\"])\n",
    "temp_2008 = temp_2008.set_index(daily_avg.index)\n",
    "temp_2008 = temp_2008.drop(['Date'], axis = 1)\n",
    "temp_2008.head()"
   ]
  },
  {
   "cell_type": "code",
   "execution_count": null,
   "metadata": {},
   "outputs": [
    {
     "name": "stdout",
     "output_type": "stream",
     "text": [
      "(366, 7)\n",
      "(366, 2)\n"
     ]
    }
   ],
   "source": [
    "print(daily_avg.shape)\n",
    "print(temp_2008.shape)"
   ]
  },
  {
   "cell_type": "code",
   "execution_count": null,
   "metadata": {},
   "outputs": [
    {
     "data": {
      "text/html": [
       "<div>\n",
       "<style scoped>\n",
       "    .dataframe tbody tr th:only-of-type {\n",
       "        vertical-align: middle;\n",
       "    }\n",
       "\n",
       "    .dataframe tbody tr th {\n",
       "        vertical-align: top;\n",
       "    }\n",
       "\n",
       "    .dataframe thead th {\n",
       "        text-align: right;\n",
       "    }\n",
       "</style>\n",
       "<table border=\"1\" class=\"dataframe\">\n",
       "  <thead>\n",
       "    <tr style=\"text-align: right;\">\n",
       "      <th></th>\n",
       "      <th>Global_active_power</th>\n",
       "      <th>Global_reactive_power</th>\n",
       "      <th>Voltage</th>\n",
       "      <th>Global_intensity</th>\n",
       "      <th>Sub_metering_1</th>\n",
       "      <th>Sub_metering_2</th>\n",
       "      <th>Sub_metering_3</th>\n",
       "      <th>min_temp</th>\n",
       "      <th>max_temp</th>\n",
       "    </tr>\n",
       "    <tr>\n",
       "      <th>DateTime</th>\n",
       "      <th></th>\n",
       "      <th></th>\n",
       "      <th></th>\n",
       "      <th></th>\n",
       "      <th></th>\n",
       "      <th></th>\n",
       "      <th></th>\n",
       "      <th></th>\n",
       "      <th></th>\n",
       "    </tr>\n",
       "  </thead>\n",
       "  <tbody>\n",
       "    <tr>\n",
       "      <th>2008-01-01</th>\n",
       "      <td>1.916485</td>\n",
       "      <td>0.098964</td>\n",
       "      <td>241.036674</td>\n",
       "      <td>7.978611</td>\n",
       "      <td>1.709028</td>\n",
       "      <td>1.902083</td>\n",
       "      <td>8.579861</td>\n",
       "      <td>3.6</td>\n",
       "      <td>6.3</td>\n",
       "    </tr>\n",
       "    <tr>\n",
       "      <th>2008-01-02</th>\n",
       "      <td>1.065731</td>\n",
       "      <td>0.124479</td>\n",
       "      <td>240.360271</td>\n",
       "      <td>4.517639</td>\n",
       "      <td>0.233333</td>\n",
       "      <td>0.194444</td>\n",
       "      <td>5.028472</td>\n",
       "      <td>0.1</td>\n",
       "      <td>2.7</td>\n",
       "    </tr>\n",
       "    <tr>\n",
       "      <th>2008-01-03</th>\n",
       "      <td>0.792969</td>\n",
       "      <td>0.073026</td>\n",
       "      <td>239.431514</td>\n",
       "      <td>3.277639</td>\n",
       "      <td>0.000000</td>\n",
       "      <td>0.893750</td>\n",
       "      <td>1.891667</td>\n",
       "      <td>-1.4</td>\n",
       "      <td>6.1</td>\n",
       "    </tr>\n",
       "    <tr>\n",
       "      <th>2008-01-04</th>\n",
       "      <td>1.478508</td>\n",
       "      <td>0.118331</td>\n",
       "      <td>241.615806</td>\n",
       "      <td>6.202500</td>\n",
       "      <td>0.749306</td>\n",
       "      <td>4.622917</td>\n",
       "      <td>10.079861</td>\n",
       "      <td>4.2</td>\n",
       "      <td>10.3</td>\n",
       "    </tr>\n",
       "    <tr>\n",
       "      <th>2008-01-05</th>\n",
       "      <td>0.400010</td>\n",
       "      <td>0.104650</td>\n",
       "      <td>241.446264</td>\n",
       "      <td>1.702361</td>\n",
       "      <td>0.000000</td>\n",
       "      <td>0.368056</td>\n",
       "      <td>1.795833</td>\n",
       "      <td>6.2</td>\n",
       "      <td>9.5</td>\n",
       "    </tr>\n",
       "    <tr>\n",
       "      <th>...</th>\n",
       "      <td>...</td>\n",
       "      <td>...</td>\n",
       "      <td>...</td>\n",
       "      <td>...</td>\n",
       "      <td>...</td>\n",
       "      <td>...</td>\n",
       "      <td>...</td>\n",
       "      <td>...</td>\n",
       "      <td>...</td>\n",
       "    </tr>\n",
       "    <tr>\n",
       "      <th>2008-04-05</th>\n",
       "      <td>1.021507</td>\n",
       "      <td>0.145432</td>\n",
       "      <td>241.380479</td>\n",
       "      <td>4.362500</td>\n",
       "      <td>1.525000</td>\n",
       "      <td>1.994444</td>\n",
       "      <td>3.794444</td>\n",
       "      <td>8.4</td>\n",
       "      <td>11.4</td>\n",
       "    </tr>\n",
       "    <tr>\n",
       "      <th>2008-04-06</th>\n",
       "      <td>1.103411</td>\n",
       "      <td>0.105836</td>\n",
       "      <td>234.706472</td>\n",
       "      <td>4.827778</td>\n",
       "      <td>1.076389</td>\n",
       "      <td>5.334722</td>\n",
       "      <td>4.519444</td>\n",
       "      <td>2.3</td>\n",
       "      <td>9.8</td>\n",
       "    </tr>\n",
       "    <tr>\n",
       "      <th>2008-04-07</th>\n",
       "      <td>0.654181</td>\n",
       "      <td>0.130647</td>\n",
       "      <td>240.179653</td>\n",
       "      <td>2.828333</td>\n",
       "      <td>0.000000</td>\n",
       "      <td>0.409028</td>\n",
       "      <td>5.765278</td>\n",
       "      <td>0.0</td>\n",
       "      <td>9.8</td>\n",
       "    </tr>\n",
       "    <tr>\n",
       "      <th>2008-04-08</th>\n",
       "      <td>0.782432</td>\n",
       "      <td>0.134552</td>\n",
       "      <td>237.863461</td>\n",
       "      <td>3.417234</td>\n",
       "      <td>0.414177</td>\n",
       "      <td>3.250174</td>\n",
       "      <td>3.064628</td>\n",
       "      <td>1.8</td>\n",
       "      <td>9.3</td>\n",
       "    </tr>\n",
       "    <tr>\n",
       "      <th>2008-04-09</th>\n",
       "      <td>0.850847</td>\n",
       "      <td>0.105467</td>\n",
       "      <td>238.663493</td>\n",
       "      <td>3.654722</td>\n",
       "      <td>1.545139</td>\n",
       "      <td>0.280556</td>\n",
       "      <td>6.533333</td>\n",
       "      <td>5.5</td>\n",
       "      <td>9.6</td>\n",
       "    </tr>\n",
       "  </tbody>\n",
       "</table>\n",
       "<p>100 rows × 9 columns</p>\n",
       "</div>"
      ],
      "text/plain": [
       "            Global_active_power  Global_reactive_power     Voltage  \\\n",
       "DateTime                                                             \n",
       "2008-01-01             1.916485               0.098964  241.036674   \n",
       "2008-01-02             1.065731               0.124479  240.360271   \n",
       "2008-01-03             0.792969               0.073026  239.431514   \n",
       "2008-01-04             1.478508               0.118331  241.615806   \n",
       "2008-01-05             0.400010               0.104650  241.446264   \n",
       "...                         ...                    ...         ...   \n",
       "2008-04-05             1.021507               0.145432  241.380479   \n",
       "2008-04-06             1.103411               0.105836  234.706472   \n",
       "2008-04-07             0.654181               0.130647  240.179653   \n",
       "2008-04-08             0.782432               0.134552  237.863461   \n",
       "2008-04-09             0.850847               0.105467  238.663493   \n",
       "\n",
       "            Global_intensity  Sub_metering_1  Sub_metering_2  Sub_metering_3  \\\n",
       "DateTime                                                                       \n",
       "2008-01-01          7.978611        1.709028        1.902083        8.579861   \n",
       "2008-01-02          4.517639        0.233333        0.194444        5.028472   \n",
       "2008-01-03          3.277639        0.000000        0.893750        1.891667   \n",
       "2008-01-04          6.202500        0.749306        4.622917       10.079861   \n",
       "2008-01-05          1.702361        0.000000        0.368056        1.795833   \n",
       "...                      ...             ...             ...             ...   \n",
       "2008-04-05          4.362500        1.525000        1.994444        3.794444   \n",
       "2008-04-06          4.827778        1.076389        5.334722        4.519444   \n",
       "2008-04-07          2.828333        0.000000        0.409028        5.765278   \n",
       "2008-04-08          3.417234        0.414177        3.250174        3.064628   \n",
       "2008-04-09          3.654722        1.545139        0.280556        6.533333   \n",
       "\n",
       "            min_temp  max_temp  \n",
       "DateTime                        \n",
       "2008-01-01       3.6       6.3  \n",
       "2008-01-02       0.1       2.7  \n",
       "2008-01-03      -1.4       6.1  \n",
       "2008-01-04       4.2      10.3  \n",
       "2008-01-05       6.2       9.5  \n",
       "...              ...       ...  \n",
       "2008-04-05       8.4      11.4  \n",
       "2008-04-06       2.3       9.8  \n",
       "2008-04-07       0.0       9.8  \n",
       "2008-04-08       1.8       9.3  \n",
       "2008-04-09       5.5       9.6  \n",
       "\n",
       "[100 rows x 9 columns]"
      ]
     },
     "execution_count": 75,
     "metadata": {},
     "output_type": "execute_result"
    }
   ],
   "source": [
    "daily_avg['min_temp'] = temp_2008['min_t']\n",
    "daily_avg['max_temp'] = temp_2008['max_t']\n",
    "daily_avg.head(100)"
   ]
  },
  {
   "cell_type": "code",
   "execution_count": null,
   "metadata": {},
   "outputs": [
    {
     "name": "stdout",
     "output_type": "stream",
     "text": [
      "Global electic consumption = -0.01970275381965199*x + 1.3178072418696054\n"
     ]
    },
    {
     "data": {
      "text/plain": [
       "[<matplotlib.lines.Line2D at 0xffff859599d0>]"
      ]
     },
     "execution_count": 95,
     "metadata": {},
     "output_type": "execute_result"
    },
    {
     "data": {
      "image/png": "[encoded data removed]",
      "text/plain": [
       "<Figure size 432x288 with 1 Axes>"
      ]
     },
     "metadata": {
      "needs_background": "light"
     },
     "output_type": "display_data"
    }
   ],
   "source": [
    "x = (daily_avg['max_temp']+daily_avg['min_temp'])/2\n",
    "y = daily_avg['Global_active_power']\n",
    "\n",
    "m, b = np.polyfit(x, y, 1)\n",
    "print('Global electic consumption = {}*x + {}'.format(m,b)) \n",
    "\n",
    "plt.plot(x,y, linestyle='None',marker='o')\n",
    "plt.plot(x, m*x+b)"
   ]
  },
  {
   "cell_type": "code",
   "execution_count": null,
   "metadata": {},
   "outputs": [
    {
     "name": "stdout",
     "output_type": "stream",
     "text": [
      "active energy (consumed per minute) = -0.2831824831897965*x + 12.999537826740752\n"
     ]
    },
    {
     "data": {
      "text/plain": [
       "[<matplotlib.lines.Line2D at 0xffff850e8a90>]"
      ]
     },
     "execution_count": 118,
     "metadata": {},
     "output_type": "execute_result"
    },
    {
     "data": {
      "image/png": "[encoded data removed]",
      "text/plain": [
       "<Figure size 432x288 with 1 Axes>"
      ]
     },
     "metadata": {
      "needs_background": "light"
     },
     "output_type": "display_data"
    }
   ],
   "source": [
    "x = (daily_avg['max_temp']+daily_avg['min_temp'])/2\n",
    "y = (daily_avg['Global_active_power']*1000/60)-daily_avg['Sub_metering_1']-daily_avg['Sub_metering_2']-daily_avg['Sub_metering_3']\n",
    "\n",
    "m, b = np.polyfit(x, y, 1)\n",
    "print('active energy of non measured electic devices = {}*x + {}'.format(m,b)) \n",
    "\n",
    "plt.plot(x,y, linestyle='None',marker='o')\n",
    "plt.plot(x, m*x+b)"
   ]
  },
  {
   "cell_type": "code",
   "execution_count": null,
   "metadata": {},
   "outputs": [
    {
     "name": "stdout",
     "output_type": "stream",
     "text": [
      "active energy of non measured electic devices + sub3= -0.325498733486341*x + 19.561370217947406\n"
     ]
    },
    {
     "data": {
      "text/plain": [
       "[<matplotlib.lines.Line2D at 0xffff85050640>]"
      ]
     },
     "execution_count": 119,
     "metadata": {},
     "output_type": "execute_result"
    },
    {
     "data": {
      "image/png": "[encoded data removed]",
      "text/plain": [
       "<Figure size 432x288 with 1 Axes>"
      ]
     },
     "metadata": {
      "needs_background": "light"
     },
     "output_type": "display_data"
    }
   ],
   "source": [
    "x = (daily_avg['max_temp']+daily_avg['min_temp'])/2\n",
    "y = (daily_avg['Global_active_power']*1000/60)-daily_avg['Sub_metering_1']-daily_avg['Sub_metering_2']\n",
    "\n",
    "m, b = np.polyfit(x, y, 1)\n",
    "print('active energy of non measured electic devices + sub3= {}*x + {}'.format(m,b)) \n",
    "\n",
    "plt.plot(x,y, linestyle='None',marker='o')\n",
    "plt.plot(x, m*x+b)"
   ]
  },
  {
   "cell_type": "code",
   "execution_count": null,
   "metadata": {},
   "outputs": [],
   "source": []
  },
  {
   "cell_type": "code",
   "execution_count": null,
   "metadata": {},
   "outputs": [],
   "source": []
  }
 ],
 "metadata": {
  "kernelspec": {
   "display_name": "Python 3",
   "language": "python",
   "name": "python3"
  },
  "language_info": {
   "codemirror_mode": {
    "name": "ipython",
    "version": 3
   },
   "file_extension": ".py",
   "mimetype": "text/x-python",
   "name": "python",
   "nbconvert_exporter": "python",
   "pygments_lexer": "ipython3",
   "version": "3.8.10"
  }
 },
 "nbformat": 4,
 "nbformat_minor": 4
}
