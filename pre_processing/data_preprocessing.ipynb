{
 "cells": [
  {
   "cell_type": "code",
   "execution_count": 2,
   "metadata": {},
   "outputs": [],
   "source": [
    "import pandas as pd\n",
    "import numpy as np\n",
    "import datetime"
   ]
  },
  {
   "cell_type": "code",
   "execution_count": null,
   "metadata": {},
   "outputs": [],
   "source": [
    "#!wget \"https://archive.ics.uci.edu/ml/machine-learning-databases/00235/household_power_consumption.zip\"\n",
    "#!unzip household_power_consumption.zip\n",
    "#!rm household_power_consumption.zip"
   ]
  },
  {
   "cell_type": "code",
   "execution_count": null,
   "metadata": {},
   "outputs": [],
   "source": [
    "df = pd.read_csv(\"household_power_consumption.txt\", sep=';', header=0, low_memory=False, infer_datetime_format=True, parse_dates={'DateTime':[0,1]}, index_col=['DateTime'],na_values = '?', dtype = float)"
   ]
  },
  {
   "cell_type": "code",
   "execution_count": null,
   "metadata": {},
   "outputs": [],
   "source": [
    "df.head()\n",
    "df.info()"
   ]
  },
  {
   "cell_type": "markdown",
   "metadata": {},
   "source": [
    "Converting '?' values to NaN"
   ]
  },
  {
   "cell_type": "code",
   "execution_count": null,
   "metadata": {},
   "outputs": [],
   "source": [
    "for columns in df.iloc[:, 0:]:\n",
    "  df[columns].fillna(value = df[columns].mean(), inplace = True)\n",
    "pass\n",
    "df.isnull().sum()"
   ]
  },
  {
   "cell_type": "code",
   "execution_count": null,
   "metadata": {},
   "outputs": [],
   "source": [
    "print(df.isna().sum().sum())"
   ]
  },
  {
   "cell_type": "markdown",
   "metadata": {},
   "source": [
    "Dropping NaNs"
   ]
  },
  {
   "cell_type": "markdown",
   "metadata": {},
   "source": [
    "Merging 'Date' and 'Time' columns into one Datetime type column"
   ]
  },
  {
   "cell_type": "code",
   "execution_count": null,
   "metadata": {},
   "outputs": [],
   "source": [
    "df.info()"
   ]
  },
  {
   "cell_type": "code",
   "execution_count": null,
   "metadata": {},
   "outputs": [],
   "source": [
    "df.head()"
   ]
  },
  {
   "cell_type": "markdown",
   "metadata": {},
   "source": [
    "Preprocessing finished, saving to csv"
   ]
  },
  {
   "cell_type": "code",
   "execution_count": null,
   "metadata": {},
   "outputs": [],
   "source": [
    "df.to_csv(\"dataset_traite.csv\", sep=\",\", index=True)"
   ]
  },
  {
   "cell_type": "code",
   "execution_count": 14,
   "metadata": {},
   "outputs": [
    {
     "name": "stdout",
     "output_type": "stream",
     "text": [
      "         Date  min_t  max_t\n",
      "0  2006-01-02    3.0    7.6\n",
      "1  2006-01-03    3.9    6.8\n",
      "2  2006-01-04    4.5    6.9\n",
      "3  2006-01-05    1.8    4.3\n",
      "4  2006-01-06   -0.2    1.5\n"
     ]
    }
   ],
   "source": [
    "df_temperatures = pd.read_csv(\"temperatures.csv\")\n",
    "print(df_temperatures.head())\n",
    "df_newdatecol =[]\n",
    "prev_date =''\n",
    "\n",
    "for i in range(len(df_temperatures['Date'])):\n",
    "    if df_temperatures['Date'][i] == prev_date:\n",
    "        new_date = datetime.datetime.strptime(df_temperatures['Date'][i], \"%Y-%m-%d\")\n",
    "        new_date += datetime.timedelta(days=1)\n",
    "        df_newdatecol.append(new_date.strftime(\"%Y-%m-%d\"))\n",
    "        prev_date = new_date.strftime(\"%Y-%m-%d\")\n",
    "    else:\n",
    "        prev_date = df_temperatures['Date'][i]\n",
    "        df_newdatecol.append(df_temperatures['Date'][i])\n",
    "\n",
    "df_temperatures[\"Date\"] = df_newdatecol"
   ]
  },
  {
   "cell_type": "code",
   "execution_count": 13,
   "metadata": {},
   "outputs": [],
   "source": [
    "df_temperatures.to_csv(\"temperatures.csv\", sep=\",\", index=False)"
   ]
  }
 ],
 "metadata": {
  "kernelspec": {
   "display_name": "Python 3 (ipykernel)",
   "language": "python",
   "name": "python3"
  },
  "language_info": {
   "codemirror_mode": {
    "name": "ipython",
    "version": 3
   },
   "file_extension": ".py",
   "mimetype": "text/x-python",
   "name": "python",
   "nbconvert_exporter": "python",
   "pygments_lexer": "ipython3",
   "version": "3.9.6"
  }
 },
 "nbformat": 4,
 "nbformat_minor": 4
}
