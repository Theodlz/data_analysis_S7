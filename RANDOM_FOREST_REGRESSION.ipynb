{
 "cells": [
  {
   "cell_type": "markdown",
   "id": "4e9d1a55",
   "metadata": {},
   "source": [
    "# Random forest regression"
   ]
  },
  {
   "cell_type": "markdown",
   "id": "1883abcf",
   "metadata": {},
   "source": [
    "### Imports"
   ]
  },
  {
   "cell_type": "code",
   "execution_count": 1,
   "id": "094b36ac-aebd-4516-b7a2-48c51395e608",
   "metadata": {},
   "outputs": [],
   "source": [
    "import os\n",
    "import pandas as pd\n",
    "import numpy as np\n",
    "import datetime\n",
    "import matplotlib.pyplot as plt\n",
    "\n",
    "from sklearn.ensemble import RandomForestRegressor\n",
    "from sklearn.ensemble import GradientBoostingRegressor\n",
    "from sklearn.model_selection import train_test_split\n",
    "from sklearn.metrics import mean_squared_error\n",
    "from sklearn.metrics import r2_score\n",
    "\n",
    "from sklearn.preprocessing import MinMaxScaler\n",
    "from tensorflow.keras.models import Sequential\n",
    "from tensorflow.keras.layers import LSTM, Dense, Dropout\n",
    "from sklearn.metrics import mean_squared_error,r2_score\n",
    "from tensorflow.keras.callbacks import TensorBoard\n",
    "\n",
    "import pickle"
   ]
  },
  {
   "cell_type": "markdown",
   "id": "2b5a7d88",
   "metadata": {},
   "source": [
    "### Data loading"
   ]
  },
  {
   "cell_type": "code",
   "execution_count": 2,
   "id": "f66695ab",
   "metadata": {},
   "outputs": [],
   "source": [
    "df = pd.read_csv(os.getcwd()+\"/pre_processing/dataset_traite_minute_mean_na.csv\", sep=',', parse_dates=[\"DateTime\"])"
   ]
  },
  {
   "cell_type": "code",
   "execution_count": null,
   "id": "d5dcdeab",
   "metadata": {},
   "outputs": [],
   "source": [
    "df.head()"
   ]
  },
  {
   "cell_type": "code",
   "execution_count": null,
   "id": "4df3e313",
   "metadata": {},
   "outputs": [],
   "source": [
    "df.describe()"
   ]
  },
  {
   "cell_type": "markdown",
   "id": "f8ac4d11",
   "metadata": {},
   "source": [
    "### Data preprocessing"
   ]
  },
  {
   "cell_type": "code",
   "execution_count": 3,
   "id": "b0fc50cb",
   "metadata": {},
   "outputs": [
    {
     "data": {
      "text/html": [
       "<div>\n",
       "<style scoped>\n",
       "    .dataframe tbody tr th:only-of-type {\n",
       "        vertical-align: middle;\n",
       "    }\n",
       "\n",
       "    .dataframe tbody tr th {\n",
       "        vertical-align: top;\n",
       "    }\n",
       "\n",
       "    .dataframe thead th {\n",
       "        text-align: right;\n",
       "    }\n",
       "</style>\n",
       "<table border=\"1\" class=\"dataframe\">\n",
       "  <thead>\n",
       "    <tr style=\"text-align: right;\">\n",
       "      <th></th>\n",
       "      <th>Global_active_power</th>\n",
       "      <th>Global_reactive_power</th>\n",
       "      <th>Voltage</th>\n",
       "      <th>Global_intensity</th>\n",
       "      <th>Sub_metering_1</th>\n",
       "      <th>Sub_metering_2</th>\n",
       "      <th>Sub_metering_3</th>\n",
       "      <th>Date</th>\n",
       "    </tr>\n",
       "    <tr>\n",
       "      <th>DateTime</th>\n",
       "      <th></th>\n",
       "      <th></th>\n",
       "      <th></th>\n",
       "      <th></th>\n",
       "      <th></th>\n",
       "      <th></th>\n",
       "      <th></th>\n",
       "      <th></th>\n",
       "    </tr>\n",
       "  </thead>\n",
       "  <tbody>\n",
       "    <tr>\n",
       "      <th>2006-12-16 15:00:00</th>\n",
       "      <td>4.222889</td>\n",
       "      <td>0.229000</td>\n",
       "      <td>234.643889</td>\n",
       "      <td>18.100000</td>\n",
       "      <td>0.0</td>\n",
       "      <td>0.527778</td>\n",
       "      <td>16.861111</td>\n",
       "      <td>2006-12-16</td>\n",
       "    </tr>\n",
       "    <tr>\n",
       "      <th>2006-12-16 18:00:00</th>\n",
       "      <td>3.433667</td>\n",
       "      <td>0.080122</td>\n",
       "      <td>233.961389</td>\n",
       "      <td>14.673333</td>\n",
       "      <td>0.0</td>\n",
       "      <td>2.716667</td>\n",
       "      <td>16.777778</td>\n",
       "      <td>2006-12-16</td>\n",
       "    </tr>\n",
       "    <tr>\n",
       "      <th>2006-12-16 21:00:00</th>\n",
       "      <td>2.439400</td>\n",
       "      <td>0.068089</td>\n",
       "      <td>238.846111</td>\n",
       "      <td>10.488889</td>\n",
       "      <td>0.0</td>\n",
       "      <td>0.211111</td>\n",
       "      <td>7.216667</td>\n",
       "      <td>2006-12-16</td>\n",
       "    </tr>\n",
       "    <tr>\n",
       "      <th>2006-12-17 00:00:00</th>\n",
       "      <td>2.273044</td>\n",
       "      <td>0.105867</td>\n",
       "      <td>242.409611</td>\n",
       "      <td>9.747778</td>\n",
       "      <td>0.0</td>\n",
       "      <td>8.755556</td>\n",
       "      <td>0.000000</td>\n",
       "      <td>2006-12-17</td>\n",
       "    </tr>\n",
       "    <tr>\n",
       "      <th>2006-12-17 03:00:00</th>\n",
       "      <td>1.958233</td>\n",
       "      <td>0.077744</td>\n",
       "      <td>244.026389</td>\n",
       "      <td>8.368889</td>\n",
       "      <td>0.0</td>\n",
       "      <td>0.500000</td>\n",
       "      <td>4.511111</td>\n",
       "      <td>2006-12-17</td>\n",
       "    </tr>\n",
       "  </tbody>\n",
       "</table>\n",
       "</div>"
      ],
      "text/plain": [
       "                     Global_active_power  Global_reactive_power     Voltage  \\\n",
       "DateTime                                                                      \n",
       "2006-12-16 15:00:00             4.222889               0.229000  234.643889   \n",
       "2006-12-16 18:00:00             3.433667               0.080122  233.961389   \n",
       "2006-12-16 21:00:00             2.439400               0.068089  238.846111   \n",
       "2006-12-17 00:00:00             2.273044               0.105867  242.409611   \n",
       "2006-12-17 03:00:00             1.958233               0.077744  244.026389   \n",
       "\n",
       "                     Global_intensity  Sub_metering_1  Sub_metering_2  \\\n",
       "DateTime                                                                \n",
       "2006-12-16 15:00:00         18.100000             0.0        0.527778   \n",
       "2006-12-16 18:00:00         14.673333             0.0        2.716667   \n",
       "2006-12-16 21:00:00         10.488889             0.0        0.211111   \n",
       "2006-12-17 00:00:00          9.747778             0.0        8.755556   \n",
       "2006-12-17 03:00:00          8.368889             0.0        0.500000   \n",
       "\n",
       "                     Sub_metering_3       Date  \n",
       "DateTime                                        \n",
       "2006-12-16 15:00:00       16.861111 2006-12-16  \n",
       "2006-12-16 18:00:00       16.777778 2006-12-16  \n",
       "2006-12-16 21:00:00        7.216667 2006-12-16  \n",
       "2006-12-17 00:00:00        0.000000 2006-12-17  \n",
       "2006-12-17 03:00:00        4.511111 2006-12-17  "
      ]
     },
     "execution_count": 3,
     "metadata": {},
     "output_type": "execute_result"
    }
   ],
   "source": [
    "timeframe = \"3h\"\n",
    "delta_t_seconds=0 #nbr de secondes par time step. ex: 60*60 pour un resample('h')\n",
    "\n",
    "timeframe = timeframe.lower()\n",
    "if(timeframe == \"15min\"):\n",
    "    delta_t_seconds = 60*15\n",
    "elif(timeframe == \"1h\"):\n",
    "    delta_t_seconds = 60*60\n",
    "elif(timeframe == \"3h\"):\n",
    "    delta_t_seconds = 60*60*3\n",
    "else:\n",
    "    print(\"Timeframe not supported\")\n",
    "\n",
    "\n",
    "df_rf = df.set_index('DateTime')\n",
    "df_rf = df_rf.resample(timeframe).mean()\n",
    "df_rf['Date'] = pd.to_datetime(df_rf.index.date)\n",
    "df_rf.head()"
   ]
  },
  {
   "cell_type": "code",
   "execution_count": 4,
   "id": "239b672c",
   "metadata": {},
   "outputs": [
    {
     "data": {
      "text/html": [
       "<div>\n",
       "<style scoped>\n",
       "    .dataframe tbody tr th:only-of-type {\n",
       "        vertical-align: middle;\n",
       "    }\n",
       "\n",
       "    .dataframe tbody tr th {\n",
       "        vertical-align: top;\n",
       "    }\n",
       "\n",
       "    .dataframe thead th {\n",
       "        text-align: right;\n",
       "    }\n",
       "</style>\n",
       "<table border=\"1\" class=\"dataframe\">\n",
       "  <thead>\n",
       "    <tr style=\"text-align: right;\">\n",
       "      <th></th>\n",
       "      <th>min_t</th>\n",
       "      <th>max_t</th>\n",
       "      <th>avg_t</th>\n",
       "    </tr>\n",
       "    <tr>\n",
       "      <th>Date</th>\n",
       "      <th></th>\n",
       "      <th></th>\n",
       "      <th></th>\n",
       "    </tr>\n",
       "  </thead>\n",
       "  <tbody>\n",
       "    <tr>\n",
       "      <th>2006-01-02</th>\n",
       "      <td>3.0</td>\n",
       "      <td>7.6</td>\n",
       "      <td>2.30</td>\n",
       "    </tr>\n",
       "    <tr>\n",
       "      <th>2006-01-03</th>\n",
       "      <td>3.9</td>\n",
       "      <td>6.8</td>\n",
       "      <td>1.45</td>\n",
       "    </tr>\n",
       "  </tbody>\n",
       "</table>\n",
       "</div>"
      ],
      "text/plain": [
       "            min_t  max_t  avg_t\n",
       "Date                           \n",
       "2006-01-02    3.0    7.6   2.30\n",
       "2006-01-03    3.9    6.8   1.45"
      ]
     },
     "execution_count": 4,
     "metadata": {},
     "output_type": "execute_result"
    }
   ],
   "source": [
    "temperatures = pd.read_csv(\"pre_processing/temperatures.csv\", parse_dates=['Date'], index_col='Date')\n",
    "temperatures['avg_t'] = (temperatures['max_t'] - temperatures['min_t'])/2\n",
    "temperatures.head(2)"
   ]
  },
  {
   "cell_type": "code",
   "execution_count": 5,
   "id": "cabcefe1",
   "metadata": {},
   "outputs": [
    {
     "data": {
      "text/html": [
       "<div>\n",
       "<style scoped>\n",
       "    .dataframe tbody tr th:only-of-type {\n",
       "        vertical-align: middle;\n",
       "    }\n",
       "\n",
       "    .dataframe tbody tr th {\n",
       "        vertical-align: top;\n",
       "    }\n",
       "\n",
       "    .dataframe thead th {\n",
       "        text-align: right;\n",
       "    }\n",
       "</style>\n",
       "<table border=\"1\" class=\"dataframe\">\n",
       "  <thead>\n",
       "    <tr style=\"text-align: right;\">\n",
       "      <th></th>\n",
       "      <th>Global_active_power</th>\n",
       "      <th>Global_reactive_power</th>\n",
       "      <th>Sub_metering_1</th>\n",
       "      <th>Sub_metering_2</th>\n",
       "      <th>Sub_metering_3</th>\n",
       "      <th>min_t</th>\n",
       "      <th>max_t</th>\n",
       "    </tr>\n",
       "    <tr>\n",
       "      <th>DateTime</th>\n",
       "      <th></th>\n",
       "      <th></th>\n",
       "      <th></th>\n",
       "      <th></th>\n",
       "      <th></th>\n",
       "      <th></th>\n",
       "      <th></th>\n",
       "    </tr>\n",
       "  </thead>\n",
       "  <tbody>\n",
       "    <tr>\n",
       "      <th>2006-12-16 15:00:00</th>\n",
       "      <td>4.222889</td>\n",
       "      <td>0.229000</td>\n",
       "      <td>0.0</td>\n",
       "      <td>0.527778</td>\n",
       "      <td>16.861111</td>\n",
       "      <td>0.3</td>\n",
       "      <td>9.5</td>\n",
       "    </tr>\n",
       "    <tr>\n",
       "      <th>2006-12-16 18:00:00</th>\n",
       "      <td>3.433667</td>\n",
       "      <td>0.080122</td>\n",
       "      <td>0.0</td>\n",
       "      <td>2.716667</td>\n",
       "      <td>16.777778</td>\n",
       "      <td>0.3</td>\n",
       "      <td>9.5</td>\n",
       "    </tr>\n",
       "    <tr>\n",
       "      <th>2006-12-16 21:00:00</th>\n",
       "      <td>2.439400</td>\n",
       "      <td>0.068089</td>\n",
       "      <td>0.0</td>\n",
       "      <td>0.211111</td>\n",
       "      <td>7.216667</td>\n",
       "      <td>0.3</td>\n",
       "      <td>9.5</td>\n",
       "    </tr>\n",
       "  </tbody>\n",
       "</table>\n",
       "</div>"
      ],
      "text/plain": [
       "                     Global_active_power  Global_reactive_power  \\\n",
       "DateTime                                                          \n",
       "2006-12-16 15:00:00             4.222889               0.229000   \n",
       "2006-12-16 18:00:00             3.433667               0.080122   \n",
       "2006-12-16 21:00:00             2.439400               0.068089   \n",
       "\n",
       "                     Sub_metering_1  Sub_metering_2  Sub_metering_3  min_t  \\\n",
       "DateTime                                                                     \n",
       "2006-12-16 15:00:00             0.0        0.527778       16.861111    0.3   \n",
       "2006-12-16 18:00:00             0.0        2.716667       16.777778    0.3   \n",
       "2006-12-16 21:00:00             0.0        0.211111        7.216667    0.3   \n",
       "\n",
       "                     max_t  \n",
       "DateTime                    \n",
       "2006-12-16 15:00:00    9.5  \n",
       "2006-12-16 18:00:00    9.5  \n",
       "2006-12-16 21:00:00    9.5  "
      ]
     },
     "execution_count": 5,
     "metadata": {},
     "output_type": "execute_result"
    }
   ],
   "source": [
    "df_rf = df_rf.join(temperatures, how=\"left\", on='Date')\n",
    "df_rf = df_rf.drop(columns=['Date','avg_t', 'Voltage', 'Global_intensity'])\n",
    "# df_rf = df_rf[[\"Global_active_power\", \"min_t\", \"max_t\"]]\n",
    "df_rf.head(3)"
   ]
  },
  {
   "cell_type": "code",
   "execution_count": 6,
   "id": "b83c8638",
   "metadata": {},
   "outputs": [
    {
     "data": {
      "text/html": [
       "<div>\n",
       "<style scoped>\n",
       "    .dataframe tbody tr th:only-of-type {\n",
       "        vertical-align: middle;\n",
       "    }\n",
       "\n",
       "    .dataframe tbody tr th {\n",
       "        vertical-align: top;\n",
       "    }\n",
       "\n",
       "    .dataframe thead th {\n",
       "        text-align: right;\n",
       "    }\n",
       "</style>\n",
       "<table border=\"1\" class=\"dataframe\">\n",
       "  <thead>\n",
       "    <tr style=\"text-align: right;\">\n",
       "      <th></th>\n",
       "      <th>Global_active_power</th>\n",
       "      <th>Global_reactive_power</th>\n",
       "      <th>Sub_metering_1</th>\n",
       "      <th>Sub_metering_2</th>\n",
       "      <th>Sub_metering_3</th>\n",
       "      <th>min_t</th>\n",
       "      <th>max_t</th>\n",
       "      <th>Hour</th>\n",
       "      <th>Day</th>\n",
       "      <th>Month</th>\n",
       "    </tr>\n",
       "    <tr>\n",
       "      <th>DateTime</th>\n",
       "      <th></th>\n",
       "      <th></th>\n",
       "      <th></th>\n",
       "      <th></th>\n",
       "      <th></th>\n",
       "      <th></th>\n",
       "      <th></th>\n",
       "      <th></th>\n",
       "      <th></th>\n",
       "      <th></th>\n",
       "    </tr>\n",
       "  </thead>\n",
       "  <tbody>\n",
       "    <tr>\n",
       "      <th>2006-12-16 15:00:00</th>\n",
       "      <td>4.222889</td>\n",
       "      <td>0.229000</td>\n",
       "      <td>0.0</td>\n",
       "      <td>0.527778</td>\n",
       "      <td>16.861111</td>\n",
       "      <td>0.3</td>\n",
       "      <td>9.5</td>\n",
       "      <td>15.0</td>\n",
       "      <td>5</td>\n",
       "      <td>12</td>\n",
       "    </tr>\n",
       "    <tr>\n",
       "      <th>2006-12-16 18:00:00</th>\n",
       "      <td>3.433667</td>\n",
       "      <td>0.080122</td>\n",
       "      <td>0.0</td>\n",
       "      <td>2.716667</td>\n",
       "      <td>16.777778</td>\n",
       "      <td>0.3</td>\n",
       "      <td>9.5</td>\n",
       "      <td>18.0</td>\n",
       "      <td>5</td>\n",
       "      <td>12</td>\n",
       "    </tr>\n",
       "    <tr>\n",
       "      <th>2006-12-16 21:00:00</th>\n",
       "      <td>2.439400</td>\n",
       "      <td>0.068089</td>\n",
       "      <td>0.0</td>\n",
       "      <td>0.211111</td>\n",
       "      <td>7.216667</td>\n",
       "      <td>0.3</td>\n",
       "      <td>9.5</td>\n",
       "      <td>21.0</td>\n",
       "      <td>5</td>\n",
       "      <td>12</td>\n",
       "    </tr>\n",
       "  </tbody>\n",
       "</table>\n",
       "</div>"
      ],
      "text/plain": [
       "                     Global_active_power  Global_reactive_power  \\\n",
       "DateTime                                                          \n",
       "2006-12-16 15:00:00             4.222889               0.229000   \n",
       "2006-12-16 18:00:00             3.433667               0.080122   \n",
       "2006-12-16 21:00:00             2.439400               0.068089   \n",
       "\n",
       "                     Sub_metering_1  Sub_metering_2  Sub_metering_3  min_t  \\\n",
       "DateTime                                                                     \n",
       "2006-12-16 15:00:00             0.0        0.527778       16.861111    0.3   \n",
       "2006-12-16 18:00:00             0.0        2.716667       16.777778    0.3   \n",
       "2006-12-16 21:00:00             0.0        0.211111        7.216667    0.3   \n",
       "\n",
       "                     max_t  Hour  Day  Month  \n",
       "DateTime                                      \n",
       "2006-12-16 15:00:00    9.5  15.0    5     12  \n",
       "2006-12-16 18:00:00    9.5  18.0    5     12  \n",
       "2006-12-16 21:00:00    9.5  21.0    5     12  "
      ]
     },
     "execution_count": 6,
     "metadata": {},
     "output_type": "execute_result"
    }
   ],
   "source": [
    "df_rf[\"Hour\"] = df_rf.index.hour + df_rf.index.minute/60\n",
    "df_rf[\"Day\"] = df_rf.index.dayofweek\n",
    "df_rf[\"Month\"] = df_rf.index.month\n",
    "df_rf.head(3)"
   ]
  },
  {
   "cell_type": "code",
   "execution_count": 7,
   "id": "2ff6b819",
   "metadata": {},
   "outputs": [
    {
     "name": "stdout",
     "output_type": "stream",
     "text": [
      "Global_active_power      0\n",
      "Global_reactive_power    0\n",
      "Sub_metering_1           0\n",
      "Sub_metering_2           0\n",
      "Sub_metering_3           0\n",
      "min_t                    0\n",
      "max_t                    0\n",
      "Hour                     0\n",
      "Day                      0\n",
      "Month                    0\n",
      "dtype: int64\n"
     ]
    }
   ],
   "source": [
    "# Check if there are any NaNs in the data\n",
    "print(df_rf.isnull().sum())"
   ]
  },
  {
   "cell_type": "markdown",
   "id": "49451494",
   "metadata": {},
   "source": [
    "### Creating a Validation set"
   ]
  },
  {
   "cell_type": "code",
   "execution_count": 8,
   "id": "b40f51c3",
   "metadata": {},
   "outputs": [
    {
     "name": "stdout",
     "output_type": "stream",
     "text": [
      "Taille du validation set : 92\n",
      "Train set shape :  (92, 10)\n",
      "Validation set shape :  (11439, 10)\n"
     ]
    }
   ],
   "source": [
    "# dataset de validation qu'on garde dans l'ordre chronologique, pour tester une fois le modele entrainé avec le reste des données shuffled\n",
    "validation_size = 0.008\n",
    "\n",
    "df_val = None\n",
    "if(validation_size != 0.0):\n",
    "    n_rows_val_set = round(df_rf.shape[0]*validation_size)\n",
    "    print(f\"Taille du validation set : {n_rows_val_set}\")\n",
    "\n",
    "    df_val = df_rf.iloc[-n_rows_val_set:]\n",
    "    df_rf = df_rf.iloc[:-n_rows_val_set]\n",
    "    print(\"Train set shape : \", df_val.shape)\n",
    "    print(\"Validation set shape : \", df_rf.shape)"
   ]
  },
  {
   "cell_type": "markdown",
   "id": "80080244",
   "metadata": {},
   "source": [
    "### Scaling"
   ]
  },
  {
   "cell_type": "code",
   "execution_count": 9,
   "id": "eb30d060",
   "metadata": {},
   "outputs": [
    {
     "data": {
      "text/html": [
       "<div>\n",
       "<style scoped>\n",
       "    .dataframe tbody tr th:only-of-type {\n",
       "        vertical-align: middle;\n",
       "    }\n",
       "\n",
       "    .dataframe tbody tr th {\n",
       "        vertical-align: top;\n",
       "    }\n",
       "\n",
       "    .dataframe thead th {\n",
       "        text-align: right;\n",
       "    }\n",
       "</style>\n",
       "<table border=\"1\" class=\"dataframe\">\n",
       "  <thead>\n",
       "    <tr style=\"text-align: right;\">\n",
       "      <th></th>\n",
       "      <th>Global_active_power</th>\n",
       "      <th>Global_reactive_power</th>\n",
       "      <th>Sub_metering_1</th>\n",
       "      <th>Sub_metering_2</th>\n",
       "      <th>Sub_metering_3</th>\n",
       "      <th>min_t</th>\n",
       "      <th>max_t</th>\n",
       "      <th>Hour</th>\n",
       "      <th>Day</th>\n",
       "      <th>Month</th>\n",
       "    </tr>\n",
       "  </thead>\n",
       "  <tbody>\n",
       "    <tr>\n",
       "      <th>count</th>\n",
       "      <td>11439.000000</td>\n",
       "      <td>11439.000000</td>\n",
       "      <td>11439.000000</td>\n",
       "      <td>11439.000000</td>\n",
       "      <td>11439.000000</td>\n",
       "      <td>11439.000000</td>\n",
       "      <td>11439.000000</td>\n",
       "      <td>11439.000000</td>\n",
       "      <td>11439.000000</td>\n",
       "      <td>11439.000000</td>\n",
       "    </tr>\n",
       "    <tr>\n",
       "      <th>mean</th>\n",
       "      <td>-0.653061</td>\n",
       "      <td>-0.698133</td>\n",
       "      <td>-0.913698</td>\n",
       "      <td>-0.922700</td>\n",
       "      <td>-0.352713</td>\n",
       "      <td>0.143172</td>\n",
       "      <td>0.024577</td>\n",
       "      <td>10.499869</td>\n",
       "      <td>3.001574</td>\n",
       "      <td>6.414547</td>\n",
       "    </tr>\n",
       "    <tr>\n",
       "      <th>std</th>\n",
       "      <td>0.287355</td>\n",
       "      <td>0.193282</td>\n",
       "      <td>0.196330</td>\n",
       "      <td>0.188526</td>\n",
       "      <td>0.610898</td>\n",
       "      <td>0.361932</td>\n",
       "      <td>0.379078</td>\n",
       "      <td>6.874450</td>\n",
       "      <td>2.001398</td>\n",
       "      <td>3.405382</td>\n",
       "    </tr>\n",
       "    <tr>\n",
       "      <th>min</th>\n",
       "      <td>-1.000000</td>\n",
       "      <td>-1.000000</td>\n",
       "      <td>-1.000000</td>\n",
       "      <td>-1.000000</td>\n",
       "      <td>-1.000000</td>\n",
       "      <td>-1.000000</td>\n",
       "      <td>-1.000000</td>\n",
       "      <td>0.000000</td>\n",
       "      <td>0.000000</td>\n",
       "      <td>1.000000</td>\n",
       "    </tr>\n",
       "    <tr>\n",
       "      <th>25%</th>\n",
       "      <td>-0.902866</td>\n",
       "      <td>-0.827395</td>\n",
       "      <td>-1.000000</td>\n",
       "      <td>-0.986801</td>\n",
       "      <td>-0.873678</td>\n",
       "      <td>-0.117460</td>\n",
       "      <td>-0.250633</td>\n",
       "      <td>4.500000</td>\n",
       "      <td>1.000000</td>\n",
       "      <td>3.000000</td>\n",
       "    </tr>\n",
       "    <tr>\n",
       "      <th>50%</th>\n",
       "      <td>-0.712174</td>\n",
       "      <td>-0.743270</td>\n",
       "      <td>-1.000000</td>\n",
       "      <td>-0.980201</td>\n",
       "      <td>-0.544240</td>\n",
       "      <td>0.155556</td>\n",
       "      <td>0.037975</td>\n",
       "      <td>9.000000</td>\n",
       "      <td>3.000000</td>\n",
       "      <td>6.000000</td>\n",
       "    </tr>\n",
       "    <tr>\n",
       "      <th>75%</th>\n",
       "      <td>-0.472789</td>\n",
       "      <td>-0.633396</td>\n",
       "      <td>-0.997007</td>\n",
       "      <td>-0.968322</td>\n",
       "      <td>0.104619</td>\n",
       "      <td>0.441270</td>\n",
       "      <td>0.321519</td>\n",
       "      <td>16.500000</td>\n",
       "      <td>5.000000</td>\n",
       "      <td>9.000000</td>\n",
       "    </tr>\n",
       "    <tr>\n",
       "      <th>max</th>\n",
       "      <td>1.000000</td>\n",
       "      <td>1.000000</td>\n",
       "      <td>1.000000</td>\n",
       "      <td>1.000000</td>\n",
       "      <td>1.000000</td>\n",
       "      <td>1.000000</td>\n",
       "      <td>1.000000</td>\n",
       "      <td>21.000000</td>\n",
       "      <td>6.000000</td>\n",
       "      <td>12.000000</td>\n",
       "    </tr>\n",
       "  </tbody>\n",
       "</table>\n",
       "</div>"
      ],
      "text/plain": [
       "       Global_active_power  Global_reactive_power  Sub_metering_1  \\\n",
       "count         11439.000000           11439.000000    11439.000000   \n",
       "mean             -0.653061              -0.698133       -0.913698   \n",
       "std               0.287355               0.193282        0.196330   \n",
       "min              -1.000000              -1.000000       -1.000000   \n",
       "25%              -0.902866              -0.827395       -1.000000   \n",
       "50%              -0.712174              -0.743270       -1.000000   \n",
       "75%              -0.472789              -0.633396       -0.997007   \n",
       "max               1.000000               1.000000        1.000000   \n",
       "\n",
       "       Sub_metering_2  Sub_metering_3         min_t         max_t  \\\n",
       "count    11439.000000    11439.000000  11439.000000  11439.000000   \n",
       "mean        -0.922700       -0.352713      0.143172      0.024577   \n",
       "std          0.188526        0.610898      0.361932      0.379078   \n",
       "min         -1.000000       -1.000000     -1.000000     -1.000000   \n",
       "25%         -0.986801       -0.873678     -0.117460     -0.250633   \n",
       "50%         -0.980201       -0.544240      0.155556      0.037975   \n",
       "75%         -0.968322        0.104619      0.441270      0.321519   \n",
       "max          1.000000        1.000000      1.000000      1.000000   \n",
       "\n",
       "               Hour           Day         Month  \n",
       "count  11439.000000  11439.000000  11439.000000  \n",
       "mean      10.499869      3.001574      6.414547  \n",
       "std        6.874450      2.001398      3.405382  \n",
       "min        0.000000      0.000000      1.000000  \n",
       "25%        4.500000      1.000000      3.000000  \n",
       "50%        9.000000      3.000000      6.000000  \n",
       "75%       16.500000      5.000000      9.000000  \n",
       "max       21.000000      6.000000     12.000000  "
      ]
     },
     "execution_count": 9,
     "metadata": {},
     "output_type": "execute_result"
    }
   ],
   "source": [
    "columns_not_to_scale=[\"Hour\", \"Day\", \"Month\"] #these columns are not scaled, to allow for easy incrementation later on\n",
    "columns_to_scale = list(df_rf.columns)\n",
    "for col in columns_not_to_scale:\n",
    "    if(col in columns_to_scale):\n",
    "        columns_to_scale.remove(col)\n",
    "\n",
    "\n",
    "scaler = MinMaxScaler(feature_range=(-1,1))\n",
    "df_rf[columns_to_scale] = scaler.fit_transform(df_rf[columns_to_scale])\n",
    "df_rf.describe()"
   ]
  },
  {
   "cell_type": "code",
   "execution_count": 10,
   "id": "f4f4b7b8",
   "metadata": {},
   "outputs": [
    {
     "data": {
      "text/html": [
       "<div>\n",
       "<style scoped>\n",
       "    .dataframe tbody tr th:only-of-type {\n",
       "        vertical-align: middle;\n",
       "    }\n",
       "\n",
       "    .dataframe tbody tr th {\n",
       "        vertical-align: top;\n",
       "    }\n",
       "\n",
       "    .dataframe thead th {\n",
       "        text-align: right;\n",
       "    }\n",
       "</style>\n",
       "<table border=\"1\" class=\"dataframe\">\n",
       "  <thead>\n",
       "    <tr style=\"text-align: right;\">\n",
       "      <th></th>\n",
       "      <th>Global_active_power</th>\n",
       "      <th>Global_reactive_power</th>\n",
       "      <th>Sub_metering_1</th>\n",
       "      <th>Sub_metering_2</th>\n",
       "      <th>Sub_metering_3</th>\n",
       "      <th>min_t</th>\n",
       "      <th>max_t</th>\n",
       "      <th>Hour</th>\n",
       "      <th>Day</th>\n",
       "      <th>Month</th>\n",
       "    </tr>\n",
       "    <tr>\n",
       "      <th>DateTime</th>\n",
       "      <th></th>\n",
       "      <th></th>\n",
       "      <th></th>\n",
       "      <th></th>\n",
       "      <th></th>\n",
       "      <th></th>\n",
       "      <th></th>\n",
       "      <th></th>\n",
       "      <th></th>\n",
       "      <th></th>\n",
       "    </tr>\n",
       "  </thead>\n",
       "  <tbody>\n",
       "    <tr>\n",
       "      <th>2010-11-15 12:00:00</th>\n",
       "      <td>-0.245870</td>\n",
       "      <td>-0.668865</td>\n",
       "      <td>-1.000000</td>\n",
       "      <td>0.083650</td>\n",
       "      <td>0.111297</td>\n",
       "      <td>0.320635</td>\n",
       "      <td>-0.113924</td>\n",
       "      <td>12.0</td>\n",
       "      <td>0</td>\n",
       "      <td>11</td>\n",
       "    </tr>\n",
       "    <tr>\n",
       "      <th>2010-11-15 15:00:00</th>\n",
       "      <td>-0.838615</td>\n",
       "      <td>-0.907406</td>\n",
       "      <td>-1.000000</td>\n",
       "      <td>-0.973272</td>\n",
       "      <td>-1.000000</td>\n",
       "      <td>0.320635</td>\n",
       "      <td>-0.113924</td>\n",
       "      <td>15.0</td>\n",
       "      <td>0</td>\n",
       "      <td>11</td>\n",
       "    </tr>\n",
       "    <tr>\n",
       "      <th>2010-11-15 18:00:00</th>\n",
       "      <td>-0.330357</td>\n",
       "      <td>-0.798480</td>\n",
       "      <td>-0.787043</td>\n",
       "      <td>-0.969312</td>\n",
       "      <td>-0.486923</td>\n",
       "      <td>0.320635</td>\n",
       "      <td>-0.113924</td>\n",
       "      <td>18.0</td>\n",
       "      <td>0</td>\n",
       "      <td>11</td>\n",
       "    </tr>\n",
       "  </tbody>\n",
       "</table>\n",
       "</div>"
      ],
      "text/plain": [
       "                     Global_active_power  Global_reactive_power  \\\n",
       "DateTime                                                          \n",
       "2010-11-15 12:00:00            -0.245870              -0.668865   \n",
       "2010-11-15 15:00:00            -0.838615              -0.907406   \n",
       "2010-11-15 18:00:00            -0.330357              -0.798480   \n",
       "\n",
       "                     Sub_metering_1  Sub_metering_2  Sub_metering_3     min_t  \\\n",
       "DateTime                                                                        \n",
       "2010-11-15 12:00:00       -1.000000        0.083650        0.111297  0.320635   \n",
       "2010-11-15 15:00:00       -1.000000       -0.973272       -1.000000  0.320635   \n",
       "2010-11-15 18:00:00       -0.787043       -0.969312       -0.486923  0.320635   \n",
       "\n",
       "                        max_t  Hour  Day  Month  \n",
       "DateTime                                         \n",
       "2010-11-15 12:00:00 -0.113924  12.0    0     11  \n",
       "2010-11-15 15:00:00 -0.113924  15.0    0     11  \n",
       "2010-11-15 18:00:00 -0.113924  18.0    0     11  "
      ]
     },
     "execution_count": 10,
     "metadata": {},
     "output_type": "execute_result"
    }
   ],
   "source": [
    "#We don't fit the scaler on the validation data set to avoid data leakage\n",
    "df_val[columns_to_scale] = scaler.transform(df_val[columns_to_scale])\n",
    "df_val.head(3)"
   ]
  },
  {
   "cell_type": "code",
   "execution_count": 11,
   "id": "7e15c89a",
   "metadata": {},
   "outputs": [],
   "source": [
    "def data_to_supervised(df, col_to_predict=\"Global_active_power\"):\n",
    "    data = pd.DataFrame(df)\n",
    "    columns = []\n",
    "    columns.append(data.shift(1))\n",
    "    columns.append(data.shift(0)[col_to_predict])\n",
    "    df_labeled = pd.concat(columns, axis=1)\n",
    "    names = [col + \"(t-1)\" for col in df.columns]\n",
    "    names.append(f\"{col_to_predict}(t)\")\n",
    "    df_labeled.columns = names\n",
    "    df_labeled.dropna(inplace=True)\n",
    "    \n",
    "    return df_labeled"
   ]
  },
  {
   "cell_type": "markdown",
   "id": "3acfa8fb",
   "metadata": {},
   "source": [
    "### Random Forest modeling"
   ]
  },
  {
   "cell_type": "markdown",
   "id": "578657cb",
   "metadata": {},
   "source": [
    "For one variable :"
   ]
  },
  {
   "cell_type": "code",
   "execution_count": 12,
   "id": "996b495f",
   "metadata": {},
   "outputs": [],
   "source": [
    "def create_train_model(model_type, df_rf, y_col=\"Global_active_power\", train_size = 0.8, shuffle=True, n_estimators=500, learning_rate=0.1):\n",
    "    df = df_rf.copy()\n",
    "\n",
    "    df = data_to_supervised(df, y_col)\n",
    "    y_col = y_col + '(t)'\n",
    "\n",
    "    X = df.drop(columns=[y_col])\n",
    "    y = df[y_col]\n",
    "    \n",
    "    train_X, test_X, train_y, test_y = train_test_split(X, y, train_size=train_size, shuffle=shuffle, random_state = 1)\n",
    "\n",
    "    model = None\n",
    "    if(model_type == \"RandomForestRegressor\"):\n",
    "        model = RandomForestRegressor(n_estimators = n_estimators, random_state = 1)\n",
    "    elif(model_type == \"GradientBoostingRegressor\"):\n",
    "        model = GradientBoostingRegressor(n_estimators = n_estimators, learning_rate=learning_rate, random_state = 1)\n",
    "    else:\n",
    "        return 0\n",
    "    \n",
    "    model.fit(train_X, train_y)\n",
    "\n",
    "    ypred = model.predict(test_X)\n",
    "    \n",
    "    r2 = r2_score(test_y, ypred)\n",
    "    r_adjusted = 1 - ( 1-r2 ) * ( len(test_y) - 1 ) / ( len(test_y) - test_X.shape[1] - 1 )\n",
    "    mse = mean_squared_error(test_y, ypred)\n",
    "    rmse = np.sqrt(mse)\n",
    "\n",
    "    scores = {}\n",
    "    scores['r2'] = r2\n",
    "    scores['r_adjusted'] = r_adjusted\n",
    "    scores['mse'] = mse\n",
    "    scores['rmse'] = rmse\n",
    "\n",
    "    return model, scores\n",
    "    "
   ]
  },
  {
   "cell_type": "code",
   "execution_count": 77,
   "id": "05284af3",
   "metadata": {},
   "outputs": [],
   "source": [
    "def plot_val_set_predictions(df_val, model, scaler, y_col, nbr_steps=0):\n",
    "    val_X = df_val.copy()\n",
    "\n",
    "    descaled_val = df_val.copy()\n",
    "    descaled_val[columns_to_scale] = scaler.inverse_transform(descaled_val[columns_to_scale])\n",
    "    val_y = descaled_val[y_col] #actual y\n",
    "    val_y = val_y.append(pd.Series([np.nan]))\n",
    "\n",
    "    names = [col + \"(t-1)\" for col in val_X.columns]\n",
    "    val_X.columns = names\n",
    "\n",
    "    val_ypred = model.predict(val_X)\n",
    "    val_ypred = np.insert(val_ypred, 0, np.nan)\n",
    "    nbr_steps = len(val_ypred)\n",
    "    fake_df_for_descaling = pd.DataFrame(np.zeros((nbr_steps, len(list(val_X.columns)))), columns=df_val.columns)\n",
    "    fake_df_for_descaling[y_col] = list(val_ypred)\n",
    "    fake_df_for_descaling[columns_to_scale] = scaler.inverse_transform(fake_df_for_descaling[columns_to_scale])\n",
    "    val_ypred = fake_df_for_descaling[\"Global_active_power\"].tolist()\n",
    "\n",
    "    if(nbr_steps == 0):\n",
    "        nbr_steps = len(val_ypred)\n",
    "    aa=[x for x in range(nbr_steps)]\n",
    "    plt.figure(figsize=(40,10))\n",
    "    plt.title(\"One step prediction over the dataset\")\n",
    "    plt.plot(aa, val_y[:nbr_steps], marker='.', label=\"actual\")\n",
    "    plt.plot(aa, val_ypred[:nbr_steps], 'r', label=\"prediction\")\n",
    "    plt.ylabel(df.columns[1], size=15)\n",
    "    plt.xlabel('Time steps', size=15)\n",
    "    plt.legend(fontsize=15)\n",
    "    plt.show()"
   ]
  },
  {
   "cell_type": "markdown",
   "id": "daaef73c",
   "metadata": {},
   "source": [
    "Test of the 2 functions above"
   ]
  },
  {
   "cell_type": "code",
   "execution_count": 15,
   "id": "2cb523a0-7984-46ca-973f-58e9e5f38109",
   "metadata": {},
   "outputs": [],
   "source": [
    "# y_col = \"Global_active_power\"\n",
    "\n",
    "# model, scores= create_train_model(\"RandomForestRegressor\", df_rf, y_col, train_size = 0.5, shuffle=True, n_estimators=500)\n",
    "# print(f\"R-squared: {scores['r2']}\")\n",
    "# print(f\"Adjusted R-squared: {scores['r_adjusted']}\")\n",
    "# print(f\"Test MSE: {scores['mse']}\")\n",
    "# print(f\"Test RMSE: {scores['rmse']}\")"
   ]
  },
  {
   "cell_type": "code",
   "execution_count": 16,
   "id": "e5a4185e",
   "metadata": {},
   "outputs": [],
   "source": [
    "# plot_val_set_predictions(df_val, model, scaler, y_col)"
   ]
  },
  {
   "cell_type": "markdown",
   "id": "094fdc78",
   "metadata": {},
   "source": [
    "Creation and training of models for each variable of the dataset, in order to be able to predict a full new row of the dataset (and later use it to further predict one more step in time)"
   ]
  },
  {
   "cell_type": "code",
   "execution_count": 17,
   "id": "32105653-fa2c-460b-affb-da7f182b17dd",
   "metadata": {},
   "outputs": [],
   "source": [
    "def create_models_all_var(model_type, df_rf, train_size=0.8, shuffle=True, n_estimators=500, learning_rate=0.1, verbose=False):\n",
    "    non_predictable_vars = [\"min_t\", \"max_t\", \"avg_t\", \"Hour\", \"Day\", \"Month\"]\n",
    "    models = {}\n",
    "    for col in df_rf.columns:\n",
    "        if(col not in non_predictable_vars):\n",
    "            if(verbose):\n",
    "                print(f\"Training a model on predicting the {col} variable\")\n",
    "                model, scores = create_train_model(model_type, df_rf, col, train_size, shuffle, n_estimators=n_estimators, learning_rate=learning_rate)\n",
    "            model_and_scores = {}\n",
    "            model_and_scores[\"model\"] = model\n",
    "            model_and_scores[\"scores\"] = scores\n",
    "            models[col] = model_and_scores\n",
    "\n",
    "    return models"
   ]
  },
  {
   "cell_type": "code",
   "execution_count": 19,
   "id": "df7cb8fb-98fd-48df-b77f-d2ebaf1e9853",
   "metadata": {},
   "outputs": [
    {
     "name": "stdout",
     "output_type": "stream",
     "text": [
      "Training a model on predicting the Global_active_power variable\n",
      "Training a model on predicting the Global_reactive_power variable\n",
      "Training a model on predicting the Sub_metering_1 variable\n",
      "Training a model on predicting the Sub_metering_2 variable\n",
      "Training a model on predicting the Sub_metering_3 variable\n"
     ]
    }
   ],
   "source": [
    "model_type = [\"RandomForestRegressor\", \"GradientBoostingRegressor\"]\n",
    "models = create_models_all_var(model_type[0], df_rf, train_size=0.999, shuffle=True, n_estimators=500, learning_rate=0.12, verbose=True)"
   ]
  },
  {
   "cell_type": "code",
   "execution_count": 21,
   "id": "f55f48ff-13a2-4115-9664-163b3716c31d",
   "metadata": {},
   "outputs": [
    {
     "name": "stdout",
     "output_type": "stream",
     "text": [
      "\n",
      "Scores for the model trained to predict Global_active_power:\n",
      "R-squared: 0.6122160879759936\n",
      "Adjusted R-squared: -3.2656230322640702\n",
      "Test MSE: 0.04225927693123166\n",
      "Test RMSE: 0.2055706130049518\n",
      "\n",
      "Scores for the model trained to predict Global_reactive_power:\n",
      "R-squared: 0.6313435929138953\n",
      "Adjusted R-squared: -3.0552204779471515\n",
      "Test MSE: 0.016258239647695728\n",
      "Test RMSE: 0.12750780230125422\n",
      "\n",
      "Scores for the model trained to predict Sub_metering_1:\n",
      "R-squared: 0.12186365460702075\n",
      "Adjusted R-squared: -8.659499799322772\n",
      "Test MSE: 0.11866861406961386\n",
      "Test RMSE: 0.34448311144323734\n",
      "\n",
      "Scores for the model trained to predict Sub_metering_2:\n",
      "R-squared: 0.2674352583853974\n",
      "Adjusted R-squared: -7.058212157760629\n",
      "Test MSE: 0.016823620298665097\n",
      "Test RMSE: 0.12970589924388595\n",
      "\n",
      "Scores for the model trained to predict Sub_metering_3:\n",
      "R-squared: 0.1008003508593257\n",
      "Adjusted R-squared: -8.891196140547418\n",
      "Test MSE: 0.14755131014757095\n",
      "Test RMSE: 0.38412408170742296\n"
     ]
    }
   ],
   "source": [
    "#scores of models trained above\n",
    "for variable in models.keys():\n",
    "    print(f\"\\nScores for the model trained to predict {variable}:\")\n",
    "    print(f\"R-squared: {models[variable]['scores']['r2']}\")\n",
    "    print(f\"Adjusted R-squared: {models[variable]['scores']['r_adjusted']}\")\n",
    "    print(f\"Test MSE: {models[variable]['scores']['mse']}\")\n",
    "    print(f\"Test RMSE: {models[variable]['scores']['rmse']}\")"
   ]
  },
  {
   "cell_type": "markdown",
   "id": "c9ea8d5b",
   "metadata": {},
   "source": [
    "Multistep forecasting/prediction : predicted rows are used as inputs again, to make new predictions recursively."
   ]
  },
  {
   "cell_type": "code",
   "execution_count": 22,
   "id": "aee95e1b-fc8b-412a-9572-8458058edf66",
   "metadata": {},
   "outputs": [],
   "source": [
    "def predict_all_variables(models, x_row, temperatures_predictions, timesteps_forward=1, delta_t_seconds=60*60*1):\n",
    "    date = datetime.datetime.fromisoformat(str(x_row.index[0]))\n",
    "\n",
    "    rows = x_row.copy()\n",
    "    names = [col + \"(t-1)\" for col in rows.columns]\n",
    "    rows.columns = names\n",
    "    for i in range(timesteps_forward):\n",
    "        date = date + datetime.timedelta(seconds=delta_t_seconds)\n",
    "        prediction = []\n",
    "        for model_name in models.keys():\n",
    "            last_line = pd.DataFrame(rows.iloc[rows.shape[0]-1]).transpose()\n",
    "            prediction.append(models[model_name].predict(last_line)[0])\n",
    "        prediction.append(temperatures_predictions.loc[str(date)][\"min_t\"])\n",
    "        prediction.append(temperatures_predictions.loc[str(date)][\"max_t\"])\n",
    "        prediction.append(date.hour + date.minute/60)\n",
    "        prediction.append(date.weekday())\n",
    "        prediction.append(date.month)\n",
    "\n",
    "        prediction = pd.Series(prediction, index = names)\n",
    "        rows = rows.append(prediction, ignore_index=True)\n",
    "\n",
    "    rows = rows.drop(index=0)#drop the first initial row, used to start the predictions\n",
    "    return rows"
   ]
  },
  {
   "cell_type": "code",
   "execution_count": 28,
   "id": "9ab9f98c",
   "metadata": {},
   "outputs": [],
   "source": [
    "def forecast(initial_row, temperatures_predictions, model_type = \"RandomForestRegressor\", timesteps_forward=1, timeframe=\"3h\"):\n",
    "    delta_t_seconds=0\n",
    "    timeframe = timeframe.lower()\n",
    "    if(timeframe == \"15min\"):\n",
    "        delta_t_seconds = 60*15\n",
    "    elif(timeframe == \"1h\"):\n",
    "        delta_t_seconds = 60*60\n",
    "    elif(timeframe == \"3h\"):\n",
    "        delta_t_seconds = 60*60*3\n",
    "    else:\n",
    "        print(\"Timeframe not supported\")\n",
    "        return 0\n",
    "    \n",
    "    models = {}\n",
    "    for var in initial_row.columns:\n",
    "        non_predictable_vars = [\"min_t\", \"max_t\", \"avg_t\", \"Hour\", \"Day\", \"Month\"]\n",
    "        if(var not in non_predictable_vars):\n",
    "            try:\n",
    "                models[var] = pickle.load(open(f'models/{timeframe}/{model_type}/{var}.pkl', 'rb'))\n",
    "            except:\n",
    "                print(f\"Model for variable {var} was not found on disk.\")\n",
    "                return 0\n",
    "    \n",
    "    predictions = predict_all_variables(models, initial_row, temperatures_predictions, timesteps_forward, delta_t_seconds)\n",
    "\n",
    "    return predictions"
   ]
  },
  {
   "cell_type": "code",
   "execution_count": 24,
   "id": "25f9cf4f",
   "metadata": {},
   "outputs": [],
   "source": [
    "def forecast_from_row_dataset(initial_date, df, temperatures_predictions, model_type = \"RandomForestRegressor\", timesteps_forward=1, timeframe=\"3h\"):\n",
    "    initial_date = str(datetime.datetime.fromisoformat(initial_date))#je passe en datetime uniquement pour verifier que la date est bien à un format valide. ça levera une exception sinon\n",
    "    if(not initial_date in df.index):\n",
    "        print(f\"The date given ({initial_date}) was not found in the dataset\")\n",
    "    initial_row = pd.DataFrame(df.loc[initial_date]).transpose()\n",
    "\n",
    "    predictions = forecast(initial_row, temperatures_predictions, model_type=model_type, timesteps_forward=timesteps_forward, timeframe=timeframe)\n",
    "    \n",
    "    return predictions"
   ]
  },
  {
   "cell_type": "markdown",
   "id": "34dcdea8",
   "metadata": {},
   "source": [
    "Prediction tests and graphs on the validation set"
   ]
  },
  {
   "cell_type": "code",
   "execution_count": 25,
   "id": "78d00cad",
   "metadata": {},
   "outputs": [
    {
     "name": "stdout",
     "output_type": "stream",
     "text": [
      "Starting datetime of the validation set : 2010-11-15 12:00:00\n"
     ]
    }
   ],
   "source": [
    "first_day_valset = df_val.iloc[0].name\n",
    "print(f\"Starting datetime of the validation set : {str(first_day_valset)}\")"
   ]
  },
  {
   "cell_type": "code",
   "execution_count": 36,
   "id": "3d9be51e",
   "metadata": {},
   "outputs": [],
   "source": [
    "df_to_use = df_val.copy()\n",
    "\n",
    "nbr_predictions = 12\n",
    "initial_date = \"2010-11-15 12:00:00\"\n",
    "model_type = [\"RandomForestRegressor\", \"GradientBoostingRegressor\"]\n",
    "temperatures_predictions = df_val[[\"min_t\", \"max_t\"]]\n",
    "\n",
    "#Making multistep prediction\n",
    "predictions = forecast_from_row_dataset(initial_date, df_to_use, temperatures_predictions, model_type[0], nbr_predictions, timeframe)"
   ]
  },
  {
   "cell_type": "code",
   "execution_count": 76,
   "id": "d1eddb93",
   "metadata": {},
   "outputs": [
    {
     "ename": "TypeError",
     "evalue": "'str' object is not callable",
     "output_type": "error",
     "traceback": [
      "\u001b[1;31m---------------------------------------------------------------------------\u001b[0m",
      "\u001b[1;31mTypeError\u001b[0m                                 Traceback (most recent call last)",
      "\u001b[1;32m~\\AppData\\Local\\Temp/ipykernel_10156/3314105069.py\u001b[0m in \u001b[0;36m<module>\u001b[1;34m\u001b[0m\n\u001b[0;32m     18\u001b[0m \u001b[0maa\u001b[0m\u001b[1;33m=\u001b[0m\u001b[1;33m[\u001b[0m\u001b[0mx\u001b[0m \u001b[1;32mfor\u001b[0m \u001b[0mx\u001b[0m \u001b[1;32min\u001b[0m \u001b[0mrange\u001b[0m\u001b[1;33m(\u001b[0m\u001b[0mnbr_steps\u001b[0m\u001b[1;33m)\u001b[0m\u001b[1;33m]\u001b[0m\u001b[1;33m\u001b[0m\u001b[1;33m\u001b[0m\u001b[0m\n\u001b[0;32m     19\u001b[0m \u001b[0mplt\u001b[0m\u001b[1;33m.\u001b[0m\u001b[0mfigure\u001b[0m\u001b[1;33m(\u001b[0m\u001b[0mfigsize\u001b[0m\u001b[1;33m=\u001b[0m\u001b[1;33m(\u001b[0m\u001b[1;36m25\u001b[0m\u001b[1;33m,\u001b[0m\u001b[1;36m10\u001b[0m\u001b[1;33m)\u001b[0m\u001b[1;33m)\u001b[0m\u001b[1;33m\u001b[0m\u001b[1;33m\u001b[0m\u001b[0m\n\u001b[1;32m---> 20\u001b[1;33m \u001b[0mplt\u001b[0m\u001b[1;33m.\u001b[0m\u001b[0mtitle\u001b[0m\u001b[1;33m(\u001b[0m\u001b[1;34m\"Forecast over multiple steps, based only on the information at time 0\"\u001b[0m\u001b[1;33m)\u001b[0m\u001b[1;33m\u001b[0m\u001b[1;33m\u001b[0m\u001b[0m\n\u001b[0m\u001b[0;32m     21\u001b[0m \u001b[0mplt\u001b[0m\u001b[1;33m.\u001b[0m\u001b[0mplot\u001b[0m\u001b[1;33m(\u001b[0m\u001b[0maa\u001b[0m\u001b[1;33m,\u001b[0m \u001b[0my\u001b[0m\u001b[1;33m[\u001b[0m\u001b[1;33m:\u001b[0m\u001b[0mnbr_steps\u001b[0m\u001b[1;33m]\u001b[0m\u001b[1;33m,\u001b[0m \u001b[0mmarker\u001b[0m\u001b[1;33m=\u001b[0m\u001b[1;34m'.'\u001b[0m\u001b[1;33m,\u001b[0m \u001b[0mlabel\u001b[0m\u001b[1;33m=\u001b[0m\u001b[1;34m\"actual\"\u001b[0m\u001b[1;33m)\u001b[0m\u001b[1;33m\u001b[0m\u001b[1;33m\u001b[0m\u001b[0m\n\u001b[0;32m     22\u001b[0m \u001b[0mplt\u001b[0m\u001b[1;33m.\u001b[0m\u001b[0mplot\u001b[0m\u001b[1;33m(\u001b[0m\u001b[0maa\u001b[0m\u001b[1;33m,\u001b[0m \u001b[0myhat\u001b[0m\u001b[1;33m[\u001b[0m\u001b[1;33m:\u001b[0m\u001b[0mnbr_steps\u001b[0m\u001b[1;33m]\u001b[0m\u001b[1;33m,\u001b[0m \u001b[1;34m'r'\u001b[0m\u001b[1;33m,\u001b[0m \u001b[0mlabel\u001b[0m\u001b[1;33m=\u001b[0m\u001b[1;34m\"prediction\"\u001b[0m\u001b[1;33m)\u001b[0m\u001b[1;33m\u001b[0m\u001b[1;33m\u001b[0m\u001b[0m\n",
      "\u001b[1;31mTypeError\u001b[0m: 'str' object is not callable"
     ]
    },
    {
     "data": {
      "text/plain": [
       "<Figure size 1800x720 with 0 Axes>"
      ]
     },
     "metadata": {},
     "output_type": "display_data"
    }
   ],
   "source": [
    "initial_date_dt = datetime.datetime.fromisoformat(initial_date)\n",
    "\n",
    "descaled_df = df_to_use.copy()\n",
    "descaled_df[columns_to_scale] = scaler.inverse_transform(descaled_df[columns_to_scale])\n",
    "\n",
    "y = descaled_df.loc[(descaled_df.index >= str(initial_date_dt)) & (descaled_df.index < str(initial_date_dt+datetime.timedelta(seconds=delta_t_seconds*(nbr_predictions+1))))][\"Global_active_power\"]\n",
    "yhat = predictions[\"Global_active_power(t-1)\"]\n",
    "yhat = pd.concat([pd.Series([np.nan]), yhat])\n",
    "\n",
    "\n",
    "fake_df_for_descaling = pd.DataFrame(np.zeros((len(yhat), len(list(df_to_use.columns)))), columns=df_val.columns)\n",
    "fake_df_for_descaling[\"Global_active_power\"] = list(yhat)\n",
    "fake_df_for_descaling[columns_to_scale] = scaler.inverse_transform(fake_df_for_descaling[columns_to_scale])\n",
    "yhat = fake_df_for_descaling[\"Global_active_power\"].tolist()\n",
    "\n",
    "#Graph of Actual Global_active_power and predicted Global_active_power together to compare\n",
    "nbr_steps = len(yhat)\n",
    "aa=[x for x in range(nbr_steps)]\n",
    "plt.figure(figsize=(25,10))\n",
    "plt.title(\"Forecast over multiple steps, based only on the information at time 0\")\n",
    "plt.plot(aa, y[:nbr_steps], marker='.', label=\"actual\")\n",
    "plt.plot(aa, yhat[:nbr_steps], 'r', label=\"prediction\")\n",
    "plt.ylabel(df_to_use.columns[1], size=15)\n",
    "plt.xlabel(f'Time steps', size=15)\n",
    "plt.legend(fontsize=15)\n",
    "plt.show()\n",
    "\n",
    "#Scores of this recursive prediciton :\n",
    "y = y.tolist()\n",
    "y.pop(0)\n",
    "yhat.pop(0)\n",
    "\n",
    "# r2 = r2_score(y, yhat)\n",
    "# r_adjusted = 1 - ( 1-r2 ) * ( len(y) - 1 ) / ( len(y) - initial_row.shape[1] - 1 )\n",
    "mse = mean_squared_error(y, yhat)\n",
    "rmse = np.sqrt(mse)\n",
    "\n",
    "scores = {}\n",
    "# scores['r2'] = r2\n",
    "# scores['r_adjusted'] = r_adjusted\n",
    "scores['mse'] = mse\n",
    "scores['rmse'] = rmse\n",
    "\n",
    "# print(f\"R-squared: {scores['r2']}\")\n",
    "# print(f\"Adjusted R-squared: {scores['r_adjusted']}\")\n",
    "print(f\"Validation MSE: {scores['mse']}\")\n",
    "print(f\"Validation RMSE: {scores['rmse']}\")"
   ]
  },
  {
   "cell_type": "markdown",
   "id": "282ebe89",
   "metadata": {},
   "source": [
    "Graph of predictions, only one prediction per real data row (not multistep)"
   ]
  },
  {
   "cell_type": "code",
   "execution_count": 78,
   "id": "3b0b8d47",
   "metadata": {},
   "outputs": [
    {
     "ename": "TypeError",
     "evalue": "'str' object is not callable",
     "output_type": "error",
     "traceback": [
      "\u001b[1;31m---------------------------------------------------------------------------\u001b[0m",
      "\u001b[1;31mTypeError\u001b[0m                                 Traceback (most recent call last)",
      "\u001b[1;32m~\\AppData\\Local\\Temp/ipykernel_10156/883089591.py\u001b[0m in \u001b[0;36m<module>\u001b[1;34m\u001b[0m\n\u001b[1;32m----> 1\u001b[1;33m \u001b[0mplot_val_set_predictions\u001b[0m\u001b[1;33m(\u001b[0m\u001b[0mdf_val\u001b[0m\u001b[1;33m,\u001b[0m \u001b[0mmodels\u001b[0m\u001b[1;33m[\u001b[0m\u001b[1;34m\"Global_active_power\"\u001b[0m\u001b[1;33m]\u001b[0m\u001b[1;33m[\u001b[0m\u001b[1;34m\"model\"\u001b[0m\u001b[1;33m]\u001b[0m\u001b[1;33m,\u001b[0m \u001b[0mscaler\u001b[0m\u001b[1;33m,\u001b[0m \u001b[1;34m\"Global_active_power\"\u001b[0m\u001b[1;33m)\u001b[0m\u001b[1;33m\u001b[0m\u001b[1;33m\u001b[0m\u001b[0m\n\u001b[0m",
      "\u001b[1;32m~\\AppData\\Local\\Temp/ipykernel_10156/2296534613.py\u001b[0m in \u001b[0;36mplot_val_set_predictions\u001b[1;34m(df_val, model, scaler, y_col, nbr_steps)\u001b[0m\n\u001b[0;32m     22\u001b[0m     \u001b[0maa\u001b[0m\u001b[1;33m=\u001b[0m\u001b[1;33m[\u001b[0m\u001b[0mx\u001b[0m \u001b[1;32mfor\u001b[0m \u001b[0mx\u001b[0m \u001b[1;32min\u001b[0m \u001b[0mrange\u001b[0m\u001b[1;33m(\u001b[0m\u001b[0mnbr_steps\u001b[0m\u001b[1;33m)\u001b[0m\u001b[1;33m]\u001b[0m\u001b[1;33m\u001b[0m\u001b[1;33m\u001b[0m\u001b[0m\n\u001b[0;32m     23\u001b[0m     \u001b[0mplt\u001b[0m\u001b[1;33m.\u001b[0m\u001b[0mfigure\u001b[0m\u001b[1;33m(\u001b[0m\u001b[0mfigsize\u001b[0m\u001b[1;33m=\u001b[0m\u001b[1;33m(\u001b[0m\u001b[1;36m40\u001b[0m\u001b[1;33m,\u001b[0m\u001b[1;36m10\u001b[0m\u001b[1;33m)\u001b[0m\u001b[1;33m)\u001b[0m\u001b[1;33m\u001b[0m\u001b[1;33m\u001b[0m\u001b[0m\n\u001b[1;32m---> 24\u001b[1;33m     \u001b[0mplt\u001b[0m\u001b[1;33m.\u001b[0m\u001b[0mtitle\u001b[0m\u001b[1;33m(\u001b[0m\u001b[1;34m\"One step prediction over the dataset\"\u001b[0m\u001b[1;33m)\u001b[0m\u001b[1;33m\u001b[0m\u001b[1;33m\u001b[0m\u001b[0m\n\u001b[0m\u001b[0;32m     25\u001b[0m     \u001b[0mplt\u001b[0m\u001b[1;33m.\u001b[0m\u001b[0mplot\u001b[0m\u001b[1;33m(\u001b[0m\u001b[0maa\u001b[0m\u001b[1;33m,\u001b[0m \u001b[0mval_y\u001b[0m\u001b[1;33m[\u001b[0m\u001b[1;33m:\u001b[0m\u001b[0mnbr_steps\u001b[0m\u001b[1;33m]\u001b[0m\u001b[1;33m,\u001b[0m \u001b[0mmarker\u001b[0m\u001b[1;33m=\u001b[0m\u001b[1;34m'.'\u001b[0m\u001b[1;33m,\u001b[0m \u001b[0mlabel\u001b[0m\u001b[1;33m=\u001b[0m\u001b[1;34m\"actual\"\u001b[0m\u001b[1;33m)\u001b[0m\u001b[1;33m\u001b[0m\u001b[1;33m\u001b[0m\u001b[0m\n\u001b[0;32m     26\u001b[0m     \u001b[0mplt\u001b[0m\u001b[1;33m.\u001b[0m\u001b[0mplot\u001b[0m\u001b[1;33m(\u001b[0m\u001b[0maa\u001b[0m\u001b[1;33m,\u001b[0m \u001b[0mval_ypred\u001b[0m\u001b[1;33m[\u001b[0m\u001b[1;33m:\u001b[0m\u001b[0mnbr_steps\u001b[0m\u001b[1;33m]\u001b[0m\u001b[1;33m,\u001b[0m \u001b[1;34m'r'\u001b[0m\u001b[1;33m,\u001b[0m \u001b[0mlabel\u001b[0m\u001b[1;33m=\u001b[0m\u001b[1;34m\"prediction\"\u001b[0m\u001b[1;33m)\u001b[0m\u001b[1;33m\u001b[0m\u001b[1;33m\u001b[0m\u001b[0m\n",
      "\u001b[1;31mTypeError\u001b[0m: 'str' object is not callable"
     ]
    },
    {
     "data": {
      "text/plain": [
       "<Figure size 2880x720 with 0 Axes>"
      ]
     },
     "metadata": {},
     "output_type": "display_data"
    }
   ],
   "source": [
    "plot_val_set_predictions(df_val, models[\"Global_active_power\"][\"model\"], scaler, \"Global_active_power\")"
   ]
  },
  {
   "cell_type": "markdown",
   "id": "a699925c",
   "metadata": {},
   "source": [
    "Serializing the trained models to be able to use them later"
   ]
  },
  {
   "cell_type": "code",
   "execution_count": 34,
   "id": "b3eb5cb7",
   "metadata": {},
   "outputs": [
    {
     "name": "stdout",
     "output_type": "stream",
     "text": [
      "'Global_active_power' predicting model saved on disk as models/3h/RandomForestRegressor/Global_active_power.pkl\n",
      "'Global_reactive_power' predicting model saved on disk as models/3h/RandomForestRegressor/Global_reactive_power.pkl\n",
      "'Sub_metering_1' predicting model saved on disk as models/3h/RandomForestRegressor/Sub_metering_1.pkl\n",
      "'Sub_metering_2' predicting model saved on disk as models/3h/RandomForestRegressor/Sub_metering_2.pkl\n",
      "'Sub_metering_3' predicting model saved on disk as models/3h/RandomForestRegressor/Sub_metering_3.pkl\n"
     ]
    }
   ],
   "source": [
    "#serialize models\n",
    "model_type = models[list(models.keys())[0]]['model'].__class__.__name__\n",
    "path = f\"models/{timeframe}/{model_type}/\"\n",
    "for variable in models.keys():\n",
    "    if(not os.path.exists(path)):\n",
    "        os.makedirs(path)\n",
    "    filename =f\"{path}{variable}.pkl\"\n",
    "    pickle.dump(models[variable][\"model\"], open(filename, 'wb'))\n",
    "    print(f\"'{variable}' predicting model saved on disk as {filename}\")"
   ]
  },
  {
   "cell_type": "code",
   "execution_count": 35,
   "id": "f3a1eafb",
   "metadata": {},
   "outputs": [
    {
     "name": "stdout",
     "output_type": "stream",
     "text": [
      "Scaler saved on disk as models/3h/RandomForestRegressor/scaler.pkl\n"
     ]
    }
   ],
   "source": [
    "#serialize scaler\n",
    "filename =f\"{path}scaler.pkl\"\n",
    "pickle.dump(scaler, open(filename, 'wb'))\n",
    "print(f\"Scaler saved on disk as {filename}\")"
   ]
  },
  {
   "cell_type": "markdown",
   "id": "cbe660a0",
   "metadata": {},
   "source": [
    "### LSTM Modeling"
   ]
  },
  {
   "cell_type": "code",
   "execution_count": 67,
   "id": "5982bbc5",
   "metadata": {},
   "outputs": [
    {
     "name": "stdout",
     "output_type": "stream",
     "text": [
      "Taille du trainset : 9150\n",
      "(9150, 1, 10) (9150,) (2288, 1, 10) (2288,)\n",
      "Model: \"sequential\"\n",
      "_________________________________________________________________\n",
      " Layer (type)                Output Shape              Param #   \n",
      "=================================================================\n",
      " lstm (LSTM)                 (None, 120)               62880     \n",
      "                                                                 \n",
      " dense (Dense)               (None, 1)                 121       \n",
      "                                                                 \n",
      "=================================================================\n",
      "Total params: 63,001\n",
      "Trainable params: 63,001\n",
      "Non-trainable params: 0\n",
      "_________________________________________________________________\n"
     ]
    }
   ],
   "source": [
    "df_lstm = data_to_supervised(df_rf)\n",
    "values = df_lstm.values\n",
    "\n",
    "trainsize = 0.8\n",
    "n_rows = round(len(values)*trainsize)\n",
    "print(f\"Taille du trainset : {n_rows}\")\n",
    "\n",
    "train = values[:n_rows, :]\n",
    "test = values[n_rows:, :]\n",
    "\n",
    "train_X, train_y = train[:, :-1], train[:, -1]\n",
    "test_X, test_y = test[:, :-1], test[:, -1]\n",
    "\n",
    "# reshape input to be 3D format as expected by LSTMs [samples, timesteps, features]\n",
    "train_X = train_X.reshape((train_X.shape[0], 1, train_X.shape[1]))\n",
    "test_X = test_X.reshape((test_X.shape[0], 1, test_X.shape[1]))\n",
    "print(train_X.shape, train_y.shape, test_X.shape, test_y.shape)\n",
    "\n",
    "model = Sequential()\n",
    "#recurrent_activation ='selu' # 1er place\n",
    "#recurrent_activation ='softsign' # 2e place\n",
    "\n",
    "model.add(LSTM(5*24, input_shape=(train_X.shape[1], train_X.shape[2]),recurrent_activation ='sigmoid',activation='tanh',return_sequences=False))\n",
    "# model.add(LSTM(5*24,recurrent_activation ='sigmoid',activation='tanh',return_sequences=False))\n",
    "#model.add(LSTM(2*24,recurrent_activation ='sigmoid',activation='tanh'))\n",
    "#model.add(Dropout(0.2))\n",
    "model.add(Dense(1))\n",
    "model.compile(loss='mean_squared_error', optimizer='adam')\n",
    "\n",
    "# model.compile(loss='mean_absolute_error', optimizer='adam')\n",
    "#model.compile(optimizer=tensorflow.keras.optimizers.SGD(learning_rate=0.001),\n",
    "             # loss=tensorflow.keras.losses.MeanSquaredError(),\n",
    "             # metrics=['mse'])\n",
    "model.summary()"
   ]
  },
  {
   "cell_type": "code",
   "execution_count": 68,
   "id": "366bc192",
   "metadata": {},
   "outputs": [
    {
     "name": "stdout",
     "output_type": "stream",
     "text": [
      "Epoch 1/33\n",
      "398/398 [==============================] - 3s 3ms/step - loss: 0.0741 - val_loss: 0.0587\n",
      "Epoch 2/33\n",
      "398/398 [==============================] - 1s 2ms/step - loss: 0.0671 - val_loss: 0.0401\n",
      "Epoch 3/33\n",
      "398/398 [==============================] - 1s 2ms/step - loss: 0.0639 - val_loss: 0.0380\n",
      "Epoch 4/33\n",
      "398/398 [==============================] - 1s 2ms/step - loss: 0.0615 - val_loss: 0.0372\n",
      "Epoch 5/33\n",
      "398/398 [==============================] - 1s 2ms/step - loss: 0.0598 - val_loss: 0.0367\n",
      "Epoch 6/33\n",
      "398/398 [==============================] - 1s 2ms/step - loss: 0.0584 - val_loss: 0.0364\n",
      "Epoch 7/33\n",
      "398/398 [==============================] - 1s 2ms/step - loss: 0.0571 - val_loss: 0.0360\n",
      "Epoch 8/33\n",
      "398/398 [==============================] - 1s 2ms/step - loss: 0.0560 - val_loss: 0.0357\n",
      "Epoch 9/33\n",
      "398/398 [==============================] - 1s 2ms/step - loss: 0.0549 - val_loss: 0.0354\n",
      "Epoch 10/33\n",
      "398/398 [==============================] - 1s 2ms/step - loss: 0.0538 - val_loss: 0.0352\n",
      "Epoch 11/33\n",
      "398/398 [==============================] - 1s 2ms/step - loss: 0.0528 - val_loss: 0.0352\n",
      "Epoch 12/33\n",
      "398/398 [==============================] - 1s 2ms/step - loss: 0.0519 - val_loss: 0.0354\n",
      "Epoch 13/33\n",
      "398/398 [==============================] - 1s 2ms/step - loss: 0.0511 - val_loss: 0.0359\n",
      "Epoch 14/33\n",
      "398/398 [==============================] - 1s 2ms/step - loss: 0.0504 - val_loss: 0.0365\n",
      "Epoch 15/33\n",
      "398/398 [==============================] - 1s 2ms/step - loss: 0.0498 - val_loss: 0.0373\n",
      "Epoch 16/33\n",
      "398/398 [==============================] - 1s 2ms/step - loss: 0.0493 - val_loss: 0.0383\n",
      "Epoch 17/33\n",
      "398/398 [==============================] - 1s 2ms/step - loss: 0.0488 - val_loss: 0.0393\n",
      "Epoch 18/33\n",
      "398/398 [==============================] - 1s 2ms/step - loss: 0.0484 - val_loss: 0.0403\n",
      "Epoch 19/33\n",
      "398/398 [==============================] - 1s 2ms/step - loss: 0.0481 - val_loss: 0.0412\n",
      "Epoch 20/33\n",
      "398/398 [==============================] - 1s 2ms/step - loss: 0.0478 - val_loss: 0.0421\n",
      "Epoch 21/33\n",
      "398/398 [==============================] - 1s 2ms/step - loss: 0.0475 - val_loss: 0.0429\n",
      "Epoch 22/33\n",
      "398/398 [==============================] - 1s 2ms/step - loss: 0.0473 - val_loss: 0.0437\n",
      "Epoch 23/33\n",
      "398/398 [==============================] - 1s 2ms/step - loss: 0.0471 - val_loss: 0.0443\n",
      "Epoch 24/33\n",
      "398/398 [==============================] - 1s 2ms/step - loss: 0.0469 - val_loss: 0.0450\n",
      "Epoch 25/33\n",
      "398/398 [==============================] - 1s 2ms/step - loss: 0.0467 - val_loss: 0.0456\n",
      "Epoch 26/33\n",
      "398/398 [==============================] - 1s 2ms/step - loss: 0.0465 - val_loss: 0.0462\n",
      "Epoch 27/33\n",
      "398/398 [==============================] - 1s 2ms/step - loss: 0.0464 - val_loss: 0.0468\n",
      "Epoch 28/33\n",
      "398/398 [==============================] - 1s 2ms/step - loss: 0.0462 - val_loss: 0.0474\n",
      "Epoch 29/33\n",
      "398/398 [==============================] - 1s 2ms/step - loss: 0.0461 - val_loss: 0.0480\n",
      "Epoch 30/33\n",
      "398/398 [==============================] - 1s 2ms/step - loss: 0.0459 - val_loss: 0.0485\n",
      "Epoch 31/33\n",
      "398/398 [==============================] - 1s 3ms/step - loss: 0.0458 - val_loss: 0.0490\n",
      "Epoch 32/33\n",
      "398/398 [==============================] - 1s 3ms/step - loss: 0.0457 - val_loss: 0.0496\n",
      "Epoch 33/33\n",
      "398/398 [==============================] - 1s 2ms/step - loss: 0.0456 - val_loss: 0.0501\n"
     ]
    }
   ],
   "source": [
    "# fit network\n",
    "history = model.fit(train_X, train_y, epochs=33, batch_size=23, validation_data=(test_X, test_y), verbose=1, shuffle=False)"
   ]
  },
  {
   "cell_type": "code",
   "execution_count": 69,
   "id": "f4fa362f",
   "metadata": {},
   "outputs": [
    {
     "data": {
      "image/png": "[encoded data removed]",
      "text/plain": [
       "<Figure size 432x288 with 1 Axes>"
      ]
     },
     "metadata": {
      "needs_background": "light"
     },
     "output_type": "display_data"
    }
   ],
   "source": [
    "# summarize history for loss\n",
    "plt.plot(history.history['loss'])\n",
    "plt.plot(history.history['val_loss'])\n",
    "plt.title('model loss')\n",
    "plt.ylabel('loss')\n",
    "plt.xlabel('epoch')\n",
    "plt.legend(['train', 'test'], loc='upper right')\n",
    "plt.show()"
   ]
  },
  {
   "cell_type": "code",
   "execution_count": 70,
   "id": "1682e4c1",
   "metadata": {},
   "outputs": [
    {
     "ename": "ValueError",
     "evalue": "operands could not be broadcast together with shapes (2288,10) (7,) (2288,10) ",
     "output_type": "error",
     "traceback": [
      "\u001b[1;31m---------------------------------------------------------------------------\u001b[0m",
      "\u001b[1;31mValueError\u001b[0m                                Traceback (most recent call last)",
      "\u001b[1;32m~\\AppData\\Local\\Temp/ipykernel_10156/2153577786.py\u001b[0m in \u001b[0;36m<module>\u001b[1;34m\u001b[0m\n\u001b[0;32m      5\u001b[0m \u001b[1;31m# invert scaling for forecast\u001b[0m\u001b[1;33m\u001b[0m\u001b[1;33m\u001b[0m\u001b[1;33m\u001b[0m\u001b[0m\n\u001b[0;32m      6\u001b[0m \u001b[0minv_yhat\u001b[0m \u001b[1;33m=\u001b[0m \u001b[0mnp\u001b[0m\u001b[1;33m.\u001b[0m\u001b[0mconcatenate\u001b[0m\u001b[1;33m(\u001b[0m\u001b[1;33m(\u001b[0m\u001b[0myhat\u001b[0m\u001b[1;33m,\u001b[0m \u001b[0mtest_X\u001b[0m\u001b[1;33m[\u001b[0m\u001b[1;33m:\u001b[0m\u001b[1;33m,\u001b[0m \u001b[1;36m1\u001b[0m\u001b[1;33m-\u001b[0m\u001b[0msize\u001b[0m\u001b[1;33m:\u001b[0m\u001b[1;33m]\u001b[0m\u001b[1;33m)\u001b[0m\u001b[1;33m,\u001b[0m \u001b[0maxis\u001b[0m\u001b[1;33m=\u001b[0m\u001b[1;36m1\u001b[0m\u001b[1;33m)\u001b[0m\u001b[1;33m\u001b[0m\u001b[1;33m\u001b[0m\u001b[0m\n\u001b[1;32m----> 7\u001b[1;33m \u001b[0minv_yhat\u001b[0m \u001b[1;33m=\u001b[0m \u001b[0mscaler\u001b[0m\u001b[1;33m.\u001b[0m\u001b[0minverse_transform\u001b[0m\u001b[1;33m(\u001b[0m\u001b[0minv_yhat\u001b[0m\u001b[1;33m)\u001b[0m\u001b[1;33m\u001b[0m\u001b[1;33m\u001b[0m\u001b[0m\n\u001b[0m\u001b[0;32m      8\u001b[0m \u001b[0minv_yhat\u001b[0m \u001b[1;33m=\u001b[0m \u001b[0minv_yhat\u001b[0m\u001b[1;33m[\u001b[0m\u001b[1;33m:\u001b[0m\u001b[1;33m,\u001b[0m\u001b[1;36m0\u001b[0m\u001b[1;33m]\u001b[0m\u001b[1;33m\u001b[0m\u001b[1;33m\u001b[0m\u001b[0m\n\u001b[0;32m      9\u001b[0m \u001b[1;31m# invert scaling for actual\u001b[0m\u001b[1;33m\u001b[0m\u001b[1;33m\u001b[0m\u001b[1;33m\u001b[0m\u001b[0m\n",
      "\u001b[1;32mc:\\Users\\paulm\\OneDrive\\Documents\\ESILV\\INFO\\Python for data analysis S7\\Final project\\venv\\lib\\site-packages\\sklearn\\preprocessing\\_data.py\u001b[0m in \u001b[0;36minverse_transform\u001b[1;34m(self, X)\u001b[0m\n\u001b[0;32m    527\u001b[0m         )\n\u001b[0;32m    528\u001b[0m \u001b[1;33m\u001b[0m\u001b[0m\n\u001b[1;32m--> 529\u001b[1;33m         \u001b[0mX\u001b[0m \u001b[1;33m-=\u001b[0m \u001b[0mself\u001b[0m\u001b[1;33m.\u001b[0m\u001b[0mmin_\u001b[0m\u001b[1;33m\u001b[0m\u001b[1;33m\u001b[0m\u001b[0m\n\u001b[0m\u001b[0;32m    530\u001b[0m         \u001b[0mX\u001b[0m \u001b[1;33m/=\u001b[0m \u001b[0mself\u001b[0m\u001b[1;33m.\u001b[0m\u001b[0mscale_\u001b[0m\u001b[1;33m\u001b[0m\u001b[1;33m\u001b[0m\u001b[0m\n\u001b[0;32m    531\u001b[0m         \u001b[1;32mreturn\u001b[0m \u001b[0mX\u001b[0m\u001b[1;33m\u001b[0m\u001b[1;33m\u001b[0m\u001b[0m\n",
      "\u001b[1;31mValueError\u001b[0m: operands could not be broadcast together with shapes (2288,10) (7,) (2288,10) "
     ]
    }
   ],
   "source": [
    "size = df_lstm.shape[1]-1\n",
    "# make a prediction\n",
    "yhat = model.predict(test_X)\n",
    "test_X = test_X.reshape((test_X.shape[0], size))\n",
    "# invert scaling for forecast\n",
    "inv_yhat = np.concatenate((yhat, test_X[:, 1-size:]), axis=1)\n",
    "inv_yhat = scaler.inverse_transform(inv_yhat)\n",
    "inv_yhat = inv_yhat[:,0]\n",
    "# invert scaling for actual\n",
    "test_y = test_y.reshape((len(test_y), 1))\n",
    "inv_y = np.concatenate((test_y, test_X[:, 1-size:]), axis=1)\n",
    "inv_y = scaler.inverse_transform(inv_y)\n",
    "inv_y = inv_y[:,0]"
   ]
  },
  {
   "cell_type": "code",
   "execution_count": null,
   "id": "62ddffc9",
   "metadata": {},
   "outputs": [],
   "source": [
    "# calculate RMSE\n",
    "rmse = np.sqrt(mean_squared_error(inv_y, inv_yhat))\n",
    "print('Test RMSE: %.3f' % rmse)\n",
    "\n",
    "import sklearn\n",
    "r2 = sklearn.metrics.r2_score(inv_y, inv_yhat)\n",
    "print(r2)\n",
    "r_adjusted = 1 - ( 1-r2 ) * ( len(test_y) - 1 ) / ( len(test_y) - test_X.shape[1] - 1 )\n",
    "print(r_adjusted)"
   ]
  },
  {
   "cell_type": "code",
   "execution_count": null,
   "id": "2decd8cd",
   "metadata": {},
   "outputs": [],
   "source": [
    "nbr_steps = 50\n",
    "aa=[x for x in range(nbr_steps)]\n",
    "plt.figure(figsize=(40,10))\n",
    "plt.plot(aa, inv_y[:nbr_steps], marker='.', label=\"actual\")\n",
    "plt.plot(aa, inv_yhat[:nbr_steps], 'r', label=\"prediction\")\n",
    "plt.ylabel(df.columns[1], size=15)\n",
    "plt.xlabel('Time step for first 500 hours', size=15)\n",
    "plt.legend(fontsize=15)\n",
    "plt.show()"
   ]
  }
 ],
 "metadata": {
  "interpreter": {
   "hash": "4f88139315d5ec23b44fa64c54362fa08c0a3946effd571c30f30bcb69076bbd"
  },
  "kernelspec": {
   "display_name": "data_analysis",
   "language": "python",
   "name": "python3"
  },
  "language_info": {
   "codemirror_mode": {
    "name": "ipython",
    "version": 3
   },
   "file_extension": ".py",
   "mimetype": "text/x-python",
   "name": "python",
   "nbconvert_exporter": "python",
   "pygments_lexer": "ipython3",
   "version": "3.9.6"
  }
 },
 "nbformat": 4,
 "nbformat_minor": 5
}
