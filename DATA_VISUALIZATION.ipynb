{
 "cells": [
  {
   "cell_type": "markdown",
   "metadata": {},
   "source": [
    "## Imports"
   ]
  },
  {
   "cell_type": "code",
   "execution_count": 1,
   "metadata": {},
   "outputs": [],
   "source": [
    "import pandas as pd\n",
    "import numpy as np\n",
    "import matplotlib.pyplot as plt\n",
    "import datetime\n",
    "import os\n",
    "from statsmodels.tsa.seasonal import seasonal_decompose\n",
    "# from sklearn import datasets, svm, preprocessing\n",
    "# from sklearn.ensemble import RandomForestRegressor\n",
    "# from sklearn.metrics import mean_absolute_error, classification_report\n",
    "# from sklearn.model_selection import train_test_split, GridSearchCV\n",
    "from sklearn.preprocessing import OneHotEncoder, MinMaxScaler"
   ]
  },
  {
   "cell_type": "markdown",
   "metadata": {},
   "source": [
    "## Data loading"
   ]
  },
  {
   "cell_type": "code",
   "execution_count": null,
   "metadata": {},
   "outputs": [],
   "source": [
    "df = pd.read_csv(os.getcwd()+\"/pre_processing/dataset_traite.csv\", sep=',', parse_dates=[\"DateTime\"],index_col=['DateTime'])"
   ]
  },
  {
   "cell_type": "code",
   "execution_count": null,
   "metadata": {},
   "outputs": [],
   "source": [
    "df.head()"
   ]
  },
  {
   "cell_type": "code",
   "execution_count": null,
   "metadata": {},
   "outputs": [],
   "source": [
    "df.info()"
   ]
  },
  {
   "cell_type": "code",
   "execution_count": null,
   "metadata": {},
   "outputs": [],
   "source": [
    "df.describe()"
   ]
  },
  {
   "cell_type": "code",
   "execution_count": null,
   "metadata": {},
   "outputs": [],
   "source": [
    "df.corr()"
   ]
  },
  {
   "cell_type": "markdown",
   "metadata": {},
   "source": [
    "## Data viz"
   ]
  },
  {
   "cell_type": "code",
   "execution_count": null,
   "metadata": {},
   "outputs": [],
   "source": [
    "active_power_df = df[['Global_active_power']]\n",
    "active_power_df = active_power_df.loc[active_power_df.index.year == 2007]\n",
    "active_power_df"
   ]
  },
  {
   "cell_type": "markdown",
   "metadata": {},
   "source": [
    "#### Average global active power (in kilowatt) per week in 2007"
   ]
  },
  {
   "cell_type": "code",
   "execution_count": null,
   "metadata": {},
   "outputs": [],
   "source": [
    "weekly_avg = active_power_df.resample(\"W\").mean()\n",
    "weekly_avg.plot(figsize=(12,6), title=\"Average global active power (in watt) per week in 2007\")"
   ]
  },
  {
   "cell_type": "markdown",
   "metadata": {},
   "source": [
    "#### Moving average of the daily average global active power (in watt) in 2007"
   ]
  },
  {
   "cell_type": "code",
   "execution_count": null,
   "metadata": {},
   "outputs": [],
   "source": [
    "daily_avg = active_power_df.resample(\"D\").mean()\n",
    "\n",
    "sma_length = 15\n",
    "sma = daily_avg[\"Global_active_power\"].rolling(window=sma_length).mean()\n",
    "sma.plot(figsize=(12,6))\n",
    "# sma"
   ]
  },
  {
   "cell_type": "code",
   "execution_count": null,
   "metadata": {},
   "outputs": [],
   "source": [
    "data2 = df.copy()\n",
    "data2 = data2.resample('M').mean()\n",
    "data2.fillna(data2.mean(), inplace=True)\n",
    "seasonal_decompose(data2[\"Global_active_power\"]).plot()"
   ]
  },
  {
   "cell_type": "code",
   "execution_count": null,
   "metadata": {},
   "outputs": [],
   "source": [
    "data = df.copy()\n",
    "i = 1\n",
    "cols=[0, 1, 3, 4, 5, 6]\n",
    "plt.figure(figsize=(20, 10))\n",
    "for col in cols:\n",
    "    plt.subplot(len(cols), 1, i)\n",
    "    plt.plot(data.resample('m').mean().values[:, col])\n",
    "    plt.title(data.columns[col] + ' data resample over month for mean', y=0.75, loc='left')\n",
    "    i += 1\n",
    "plt.show()"
   ]
  },
  {
   "cell_type": "code",
   "execution_count": null,
   "metadata": {},
   "outputs": [],
   "source": [
    "#plot global et sub sur meme plot, remettre a echelle\n",
    "\n",
    "linestyle_str = ['solid','dotted','dashed','-.','-','--',':','dashdot']\n",
    "\n",
    "data = df.copy()\n",
    "data['Date'] = pd.to_datetime(data.index.date)\n",
    "temperatures = pd.read_csv(\"pre_processing/temperatures.csv\", parse_dates=['Date'], index_col='Date')\n",
    "temperatures['avg_t'] = (temperatures['max_t'] - temperatures['min_t'])/2\n",
    "data = data.join(temperatures, how=\"left\", on='Date')\n",
    "data = data.drop(columns=['Date','max_t','min_t'])\n",
    "data = data.resample('m').mean()\n",
    "\n",
    "scaler = MinMaxScaler(feature_range=(0, 1))\n",
    "scaler.fit(data)\n",
    "data[data.columns] = scaler.transform(data[data.columns])\n",
    "plt.figure(figsize=(30, 15))\n",
    "cols=[0, 1, 2, 3, 4, 5, 6, 7]\n",
    "for col in cols:\n",
    "    plt.plot(data.values[:, col],linestyle=linestyle_str[col])\n",
    "plt.legend(data.columns,loc=4, bbox_to_anchor=(0.5, 0., 0.5, 0.5),fontsize=\"large\")\n",
    "plt.show()"
   ]
  },
  {
   "cell_type": "code",
   "execution_count": null,
   "metadata": {},
   "outputs": [],
   "source": [
    "import seaborn as sns\n",
    "fig,axs= plt.subplots(1,3,figsize=(30, 8))\n",
    "\n",
    "dfm = df.resample('M').mean()\n",
    "sns.heatmap(dfm.corr(), vmin=-1, vmax=1, annot=True, ax = axs[0])\n",
    "axs[0].set_title('Monthly resampling', size=12)\n",
    "\n",
    "dfd = df.resample('D').mean()\n",
    "sns.heatmap(dfd.corr(), vmin=-1, vmax=1, annot=True, ax = axs[1])\n",
    "axs[1].set_title('Day resampling', size=12)\n",
    "  \n",
    "dfh = df.resample('H').mean()\n",
    "sns.heatmap(dfh.corr(), vmin=-1, vmax=1, annot=True, ax = axs[2])\n",
    "axs[2].set_title('Hourly resampling', size=12)\n",
    "\n",
    "fig.tight_layout()\n",
    "fig.show()"
   ]
  },
  {
   "cell_type": "markdown",
   "metadata": {},
   "source": [
    "#### Sub metering 1 (kitchen) per hour of the day"
   ]
  },
  {
   "cell_type": "code",
   "execution_count": null,
   "metadata": {},
   "outputs": [],
   "source": [
    "from vacances_scolaires_france import SchoolHolidayDates\n",
    "import datetime\n",
    "d = SchoolHolidayDates()\n",
    "dict_holidays = d.holidays_for_year_and_zone(2007, 'C')\n",
    "holidays = dict_holidays.keys()\n",
    "\n",
    "fig_sm1, axs = plt.subplots(2,2,figsize=(20, 15))\n",
    "\n",
    "sub1_df = df[['Sub_metering_1']]\n",
    "sub1_df = sub1_df.reset_index()\n",
    "\n",
    "sub1_df_all = sub1_df.loc[sub1_df[\"DateTime\"].dt.year == 2007]\n",
    "sub1_df_all.set_index('DateTime', inplace=True)\n",
    "(sub1_df_all.groupby(sub1_df_all.index.hour)[\"Sub_metering_1\"].mean()).plot(kind='bar',ax=axs[0,0])\n",
    "axs[0,0].set_title(\"Sub metering 1 per hour of a day\")\n",
    "\n",
    "sub1_df_bd = sub1_df.loc[(sub1_df[\"DateTime\"].dt.year == 2007) & (sub1_df[\"DateTime\"].dt.weekday != 5) & (sub1_df[\"DateTime\"].dt.weekday != 6) & (sub1_df[\"DateTime\"].dt.date.isin(holidays)==False)]\n",
    "sub1_df_bd.set_index('DateTime', inplace=True)\n",
    "(sub1_df_bd.groupby(sub1_df_bd.index.hour)[\"Sub_metering_1\"].mean()).plot(kind='bar',ax=axs[0,1])\n",
    "axs[0,1].set_title(\"Sub metering 1 per hour on a business day\")\n",
    "\n",
    "sub1_df_we = sub1_df.loc[(sub1_df[\"DateTime\"].dt.year == 2007) & (sub1_df[\"DateTime\"].dt.weekday.isin([5,6]))]\n",
    "sub1_df_we.set_index('DateTime', inplace=True)\n",
    "(sub1_df_we.groupby(sub1_df_we.index.hour)[\"Sub_metering_1\"].mean()).plot(kind='bar',ax=axs[1,0])\n",
    "axs[1,0].set_title(\"Sub metering 1 per hour on the weekend\")\n",
    "\n",
    "sub1_df_hd = sub1_df.loc[(sub1_df[\"DateTime\"].dt.year == 2007) & (sub1_df[\"DateTime\"].dt.date.isin(holidays))]\n",
    "sub1_df_hd.set_index('DateTime', inplace=True)\n",
    "(sub1_df_hd.groupby(sub1_df_hd.index.hour)[\"Sub_metering_1\"].mean()).plot(kind='bar',ax=axs[1,1])\n",
    "axs[1,1].set_title(\"Sub metering 1 per hour of a vacation day\")\n",
    "\n",
    "fig_sm1.show()\n",
    "\n",
    "# add curves"
   ]
  },
  {
   "cell_type": "code",
   "execution_count": null,
   "metadata": {},
   "outputs": [],
   "source": [
    "from vacances_scolaires_france import SchoolHolidayDates\n",
    "import datetime\n",
    "curves = [\"Sub metering 1 per hour of a day\",\"Sub metering 1 per hour on a business day\",\"Sub metering 1 per hour on the weekend\",\"Sub metering 1 per hour of a vacation day\"]\n",
    "d = SchoolHolidayDates()\n",
    "dict_holidays = d.holidays_for_year_and_zone(2007, 'C')\n",
    "holidays = dict_holidays.keys()\n",
    "\n",
    "plt.figure(figsize=(30, 15))\n",
    "\n",
    "sub1_df = df[['Sub_metering_1']]\n",
    "sub1_df = sub1_df.reset_index()\n",
    "\n",
    "sub1_df_all = sub1_df.loc[sub1_df[\"DateTime\"].dt.year == 2007]\n",
    "sub1_df_all.set_index('DateTime', inplace=True)\n",
    "plt.plot(sub1_df_all.groupby(sub1_df_all.index.hour)[\"Sub_metering_1\"].mean(),linestyle='-')\n",
    "\n",
    "sub1_df_bd = sub1_df.loc[(sub1_df[\"DateTime\"].dt.year == 2007) & (sub1_df[\"DateTime\"].dt.weekday != 5) & (sub1_df[\"DateTime\"].dt.weekday != 6) & (sub1_df[\"DateTime\"].dt.date.isin(holidays)==False)]\n",
    "sub1_df_bd.set_index('DateTime', inplace=True)\n",
    "plt.plot(sub1_df_bd.groupby(sub1_df_bd.index.hour)[\"Sub_metering_1\"].mean(),linestyle='--')\n",
    "\n",
    "sub1_df_we = sub1_df.loc[(sub1_df[\"DateTime\"].dt.year == 2007) & (sub1_df[\"DateTime\"].dt.weekday.isin([5,6]))]\n",
    "sub1_df_we.set_index('DateTime', inplace=True)\n",
    "plt.plot(sub1_df_we.groupby(sub1_df_we.index.hour)[\"Sub_metering_1\"].mean(),linestyle='-.')\n",
    "\n",
    "sub1_df_hd = sub1_df.loc[(sub1_df[\"DateTime\"].dt.year == 2007) & (sub1_df[\"DateTime\"].dt.date.isin(holidays))]\n",
    "sub1_df_hd.set_index('DateTime', inplace=True)\n",
    "plt.plot(sub1_df_hd.groupby(sub1_df_hd.index.hour)[\"Sub_metering_1\"].mean(),linestyle=':')\n",
    "\n",
    "plt.legend(curves,loc=2,fontsize=\"large\")\n",
    "\n",
    "plt.show()\n",
    "\n",
    "# add curves"
   ]
  },
  {
   "cell_type": "code",
   "execution_count": null,
   "metadata": {},
   "outputs": [],
   "source": [
    "from vacances_scolaires_france import SchoolHolidayDates\n",
    "import datetime\n",
    "curves = [\"Sub metering 1 during a day\",\"Sub metering 1 during a business day\",\"Sub metering 1 during the weekend\",\"Sub metering 1 during a vacation day\"]\n",
    "d = SchoolHolidayDates()\n",
    "dict_holidays = d.holidays_for_year_and_zone(2007, 'C')\n",
    "holidays = dict_holidays.keys()\n",
    "\n",
    "plt.figure(figsize=(30, 15))\n",
    "\n",
    "sub1_df = df[['Sub_metering_1']]\n",
    "sub1_df = sub1_df.reset_index()\n",
    "\n",
    "sub1_df_all = sub1_df.loc[sub1_df[\"DateTime\"].dt.year == 2007]\n",
    "sub1_df_all.set_index('DateTime', inplace=True)\n",
    "sub1_df_all = sub1_df_all.groupby([sub1_df_all.index.hour, sub1_df_all.index.minute]).mean()\n",
    "sub1_df_all.set_index(pd.date_range(\"00:00\",\"23:59\", freq=\"1min\").time,inplace=True)\n",
    "plt.plot(sub1_df_all)\n",
    "\n",
    "sub1_df_bd = sub1_df.loc[(sub1_df[\"DateTime\"].dt.year == 2007) & (sub1_df[\"DateTime\"].dt.weekday != 5) & (sub1_df[\"DateTime\"].dt.weekday != 6) & (sub1_df[\"DateTime\"].dt.date.isin(holidays)==False)]\n",
    "sub1_df_bd.set_index('DateTime', inplace=True)\n",
    "sub1_df_bd = sub1_df_bd.groupby([sub1_df_bd.index.hour, sub1_df_bd.index.minute]).mean()\n",
    "sub1_df_bd.set_index(pd.date_range(\"00:00\",\"23:59\", freq=\"1min\").time,inplace=True)\n",
    "plt.plot(sub1_df_bd)\n",
    "\n",
    "sub1_df_we = sub1_df.loc[(sub1_df[\"DateTime\"].dt.year == 2007) & (sub1_df[\"DateTime\"].dt.weekday.isin([5,6]))]\n",
    "sub1_df_we.set_index('DateTime', inplace=True)\n",
    "sub1_df_we = sub1_df_we.groupby([sub1_df_we.index.hour, sub1_df_we.index.minute]).mean()\n",
    "sub1_df_we.set_index(pd.date_range(\"00:00\",\"23:59\", freq=\"1min\").time,inplace=True)\n",
    "plt.plot(sub1_df_we)\n",
    "\n",
    "sub1_df_hd = sub1_df.loc[(sub1_df[\"DateTime\"].dt.year == 2007) & (sub1_df[\"DateTime\"].dt.date.isin(holidays))]\n",
    "sub1_df_hd.set_index('DateTime', inplace=True)\n",
    "sub1_df_hd = sub1_df_hd.groupby([sub1_df_hd.index.hour, sub1_df_hd.index.minute]).mean()\n",
    "sub1_df_hd.set_index(pd.date_range(\"00:00\",\"23:59\", freq=\"1min\").time,inplace=True)\n",
    "plt.plot(sub1_df_hd)\n",
    "\n",
    "\n",
    "plt.show()"
   ]
  },
  {
   "cell_type": "markdown",
   "metadata": {},
   "source": [
    "#### Sub metering 2 per hour"
   ]
  },
  {
   "cell_type": "code",
   "execution_count": null,
   "metadata": {},
   "outputs": [],
   "source": [
    "fig_sm2, axs = plt.subplots(2,2,figsize=(20, 15))\n",
    "\n",
    "sub2_df = df[['Sub_metering_2']]\n",
    "sub2_df = sub2_df.reset_index()\n",
    "\n",
    "sub2_df_all = sub2_df.loc[sub2_df[\"DateTime\"].dt.year == 2007]\n",
    "sub2_df_all.set_index('DateTime', inplace=True)\n",
    "(sub2_df_all.groupby(sub2_df_all.index.hour)[\"Sub_metering_2\"].mean()).plot(kind='bar',ax=axs[0,0])\n",
    "axs[0,0].set_title(\"Sub metering 2 per hour of a day\")\n",
    "\n",
    "sub2_df_bd = sub2_df.loc[(sub2_df[\"DateTime\"].dt.year == 2007) & (sub2_df[\"DateTime\"].dt.weekday != 5) & (sub2_df[\"DateTime\"].dt.weekday != 6) & (sub2_df[\"DateTime\"].dt.date.isin(holidays)==False)]\n",
    "sub2_df_bd.set_index('DateTime', inplace=True)\n",
    "(sub2_df_bd.groupby(sub2_df_bd.index.hour)[\"Sub_metering_2\"].mean()).plot(kind='bar',ax=axs[0,1])\n",
    "axs[0,1].set_title(\"Sub metering 2 per hour on a business day\")\n",
    "\n",
    "sub2_df_we = sub2_df.loc[(sub2_df[\"DateTime\"].dt.year == 2007) & (sub2_df[\"DateTime\"].dt.weekday.isin([5,6]))]\n",
    "sub2_df_we.set_index('DateTime', inplace=True)\n",
    "(sub2_df_we.groupby(sub2_df_we.index.hour)[\"Sub_metering_2\"].mean()).plot(kind='bar',ax=axs[1,0])\n",
    "axs[1,0].set_title(\"Sub metering 2 per hour on the weekend\")\n",
    "\n",
    "sub2_df_hd = sub2_df.loc[(sub2_df[\"DateTime\"].dt.year == 2007) & (sub2_df[\"DateTime\"].dt.date.isin(holidays))]\n",
    "sub2_df_hd.set_index('DateTime', inplace=True)\n",
    "(sub2_df_hd.groupby(sub2_df_hd.index.hour)[\"Sub_metering_2\"].mean()).plot(kind='bar',ax=axs[1,1])\n",
    "axs[1,1].set_title(\"Sub metering 2 per hour of a vacation day\")\n",
    "\n",
    "fig_sm2.show()"
   ]
  },
  {
   "cell_type": "code",
   "execution_count": null,
   "metadata": {},
   "outputs": [],
   "source": [
    "from vacances_scolaires_france import SchoolHolidayDates\n",
    "import datetime\n",
    "curves = [\"Sub metering 2 per hour of a day\",\"Sub metering 2 per hour on a business day\",\"Sub metering 2 per hour on the weekend\",\"Sub metering 2 per hour of a vacation day\"]\n",
    "d = SchoolHolidayDates()\n",
    "dict_holidays = d.holidays_for_year_and_zone(2007, 'C')\n",
    "holidays = dict_holidays.keys()\n",
    "\n",
    "plt.figure(figsize=(30, 15))\n",
    "\n",
    "sub2_df = df[['Sub_metering_2']]\n",
    "sub2_df = sub2_df.reset_index()\n",
    "\n",
    "sub2_df_all = sub2_df.loc[sub2_df[\"DateTime\"].dt.year == 2007]\n",
    "sub2_df_all.set_index('DateTime', inplace=True)\n",
    "plt.plot(sub2_df_all.groupby(sub2_df_all.index.hour)[\"Sub_metering_2\"].mean(),linestyle='-')\n",
    "\n",
    "sub2_df_bd = sub2_df.loc[(sub2_df[\"DateTime\"].dt.year == 2007) & (sub2_df[\"DateTime\"].dt.weekday != 5) & (sub2_df[\"DateTime\"].dt.weekday != 6) & (sub2_df[\"DateTime\"].dt.date.isin(holidays)==False)]\n",
    "sub2_df_bd.set_index('DateTime', inplace=True)\n",
    "plt.plot(sub2_df_bd.groupby(sub2_df_bd.index.hour)[\"Sub_metering_2\"].mean(),linestyle='--')\n",
    "\n",
    "sub2_df_we = sub2_df.loc[(sub2_df[\"DateTime\"].dt.year == 2007) & (sub2_df[\"DateTime\"].dt.weekday.isin([5,6]))]\n",
    "sub2_df_we.set_index('DateTime', inplace=True)\n",
    "plt.plot(sub2_df_we.groupby(sub2_df_we.index.hour)[\"Sub_metering_2\"].mean(),linestyle='-.')\n",
    "\n",
    "sub2_df_hd = sub2_df.loc[(sub2_df[\"DateTime\"].dt.year == 2007) & (sub2_df[\"DateTime\"].dt.date.isin(holidays))]\n",
    "sub2_df_hd.set_index('DateTime', inplace=True)\n",
    "plt.plot(sub2_df_hd.groupby(sub2_df_hd.index.hour)[\"Sub_metering_2\"].mean(),linestyle=':')\n",
    "\n",
    "plt.legend(curves,loc=2,fontsize=\"large\")\n",
    "\n",
    "plt.show()\n",
    "\n",
    "# add curves"
   ]
  },
  {
   "cell_type": "code",
   "execution_count": null,
   "metadata": {},
   "outputs": [],
   "source": [
    "from vacances_scolaires_france import SchoolHolidayDates\n",
    "import datetime\n",
    "curves = [\"Sub metering 2 during a day\",\"Sub metering 2 during a business day\",\"Sub metering 2 during the weekend\",\"Sub metering 2 during a vacation day\"]\n",
    "d = SchoolHolidayDates()\n",
    "dict_holidays = d.holidays_for_year_and_zone(2007, 'C')\n",
    "holidays = dict_holidays.keys()\n",
    "\n",
    "plt.figure(figsize=(30, 15))\n",
    "\n",
    "sub2_df = df[['Sub_metering_2']]\n",
    "sub2_df = sub2_df.reset_index()\n",
    "\n",
    "sub2_df_all = sub2_df.loc[sub2_df[\"DateTime\"].dt.year == 2007]\n",
    "sub2_df_all.set_index('DateTime', inplace=True)\n",
    "sub2_df_all = sub2_df_all.groupby([sub2_df_all.index.hour, sub2_df_all.index.minute]).mean()\n",
    "sub2_df_all.set_index(pd.date_range(\"00:00\",\"23:59\", freq=\"1min\").time,inplace=True)\n",
    "plt.plot(sub2_df_all)\n",
    "\n",
    "sub2_df_bd = sub2_df.loc[(sub2_df[\"DateTime\"].dt.year == 2007) & (sub2_df[\"DateTime\"].dt.weekday != 5) & (sub2_df[\"DateTime\"].dt.weekday != 6) & (sub2_df[\"DateTime\"].dt.date.isin(holidays)==False)]\n",
    "sub2_df_bd.set_index('DateTime', inplace=True)\n",
    "sub2_df_bd = sub2_df_bd.groupby([sub2_df_bd.index.hour, sub2_df_bd.index.minute]).mean()\n",
    "sub2_df_bd.set_index(pd.date_range(\"00:00\",\"23:59\", freq=\"1min\").time,inplace=True)\n",
    "plt.plot(sub2_df_bd)\n",
    "\n",
    "sub2_df_we = sub2_df.loc[(sub2_df[\"DateTime\"].dt.year == 2007) & (sub2_df[\"DateTime\"].dt.weekday.isin([5,6]))]\n",
    "sub2_df_we.set_index('DateTime', inplace=True)\n",
    "sub2_df_we = sub2_df_we.groupby([sub2_df_we.index.hour, sub2_df_we.index.minute]).mean()\n",
    "sub2_df_we.set_index(pd.date_range(\"00:00\",\"23:59\", freq=\"1min\").time,inplace=True)\n",
    "plt.plot(sub2_df_we)\n",
    "\n",
    "sub2_df_hd = sub2_df.loc[(sub2_df[\"DateTime\"].dt.year == 2007) & (sub2_df[\"DateTime\"].dt.date.isin(holidays))]\n",
    "sub2_df_hd.set_index('DateTime', inplace=True)\n",
    "sub2_df_hd = sub2_df_hd.groupby([sub2_df_hd.index.hour, sub2_df_hd.index.minute]).mean()\n",
    "sub2_df_hd.set_index(pd.date_range(\"00:00\",\"23:59\", freq=\"1min\").time,inplace=True)\n",
    "plt.plot(sub2_df_hd)\n",
    "\n",
    "plt.legend(curves,loc=2,fontsize=\"large\")\n",
    "\n",
    "plt.show()"
   ]
  },
  {
   "cell_type": "markdown",
   "metadata": {},
   "source": [
    "#### Sub metering 3 per hour"
   ]
  },
  {
   "cell_type": "code",
   "execution_count": null,
   "metadata": {},
   "outputs": [],
   "source": [
    "fig_sm3, axs = plt.subplots(2,2,figsize=(20, 15))\n",
    "\n",
    "sub3_df = df[['Sub_metering_3']]\n",
    "sub3_df = sub3_df.reset_index()\n",
    "\n",
    "sub3_df_all = sub3_df.loc[sub3_df[\"DateTime\"].dt.year == 2007]\n",
    "sub3_df_all.set_index('DateTime', inplace=True)\n",
    "(sub3_df_all.groupby(sub3_df_all.index.hour)[\"Sub_metering_3\"].mean()).plot(kind='bar',ax=axs[0,0])\n",
    "axs[0,0].set_title(\"Sub metering 3 per hour of a day\")\n",
    "\n",
    "sub3_df_bd = sub3_df.loc[(sub3_df[\"DateTime\"].dt.year == 2007) & (sub3_df[\"DateTime\"].dt.weekday != 5) & (sub3_df[\"DateTime\"].dt.weekday != 6) & (sub3_df[\"DateTime\"].dt.date.isin(holidays)==False)]\n",
    "sub3_df_bd.set_index('DateTime', inplace=True)\n",
    "(sub3_df_bd.groupby(sub3_df_bd.index.hour)[\"Sub_metering_3\"].mean()).plot(kind='bar',ax=axs[0,1])\n",
    "axs[0,1].set_title(\"Sub metering 3 per hour on a business day\")\n",
    "\n",
    "sub3_df_we = sub3_df.loc[(sub3_df[\"DateTime\"].dt.year == 2007) & (sub3_df[\"DateTime\"].dt.weekday.isin([5,6]))]\n",
    "sub3_df_we.set_index('DateTime', inplace=True)\n",
    "(sub3_df_we.groupby(sub3_df_we.index.hour)[\"Sub_metering_3\"].mean()).plot(kind='bar',ax=axs[1,0])\n",
    "axs[1,0].set_title(\"Sub metering 3 per hour on the weekend\")\n",
    "\n",
    "sub3_df_hd = sub3_df.loc[(sub3_df[\"DateTime\"].dt.year == 2007) & (sub3_df[\"DateTime\"].dt.date.isin(holidays))]\n",
    "sub3_df_hd.set_index('DateTime', inplace=True)\n",
    "(sub3_df_hd.groupby(sub3_df_hd.index.hour)[\"Sub_metering_3\"].mean()).plot(kind='bar',ax=axs[1,1])\n",
    "axs[1,1].set_title(\"Sub metering 3 per hour of a vacation day\")\n",
    "\n",
    "fig_sm3.show()"
   ]
  },
  {
   "cell_type": "code",
   "execution_count": null,
   "metadata": {},
   "outputs": [],
   "source": [
    "from vacances_scolaires_france import SchoolHolidayDates\n",
    "import datetime\n",
    "curves = [\"Sub metering 3 per hour of a day\",\"Sub metering 3 per hour on a business day\",\"Sub metering 3 per hour on the weekend\",\"Sub metering 3 per hour of a vacation day\"]\n",
    "d = SchoolHolidayDates()\n",
    "dict_holidays = d.holidays_for_year_and_zone(2007, 'C')\n",
    "holidays = dict_holidays.keys()\n",
    "\n",
    "plt.figure(figsize=(30, 15))\n",
    "\n",
    "sub3_df = df[['Sub_metering_3']]\n",
    "sub3_df = sub3_df.reset_index()\n",
    "\n",
    "sub3_df_all = sub3_df.loc[sub3_df[\"DateTime\"].dt.year == 2007]\n",
    "sub3_df_all.set_index('DateTime', inplace=True)\n",
    "plt.plot(sub3_df_all.groupby(sub3_df_all.index.hour)[\"Sub_metering_3\"].mean(),linestyle='-')\n",
    "\n",
    "sub3_df_bd = sub3_df.loc[(sub3_df[\"DateTime\"].dt.year == 2007) & (sub3_df[\"DateTime\"].dt.weekday != 5) & (sub3_df[\"DateTime\"].dt.weekday != 6) & (sub3_df[\"DateTime\"].dt.date.isin(holidays)==False)]\n",
    "sub3_df_bd.set_index('DateTime', inplace=True)\n",
    "plt.plot(sub3_df_bd.groupby(sub3_df_bd.index.hour)[\"Sub_metering_3\"].mean(),linestyle='--')\n",
    "\n",
    "sub3_df_we = sub3_df.loc[(sub3_df[\"DateTime\"].dt.year == 2007) & (sub3_df[\"DateTime\"].dt.weekday.isin([5,6]))]\n",
    "sub3_df_we.set_index('DateTime', inplace=True)\n",
    "plt.plot(sub3_df_we.groupby(sub3_df_we.index.hour)[\"Sub_metering_3\"].mean(),linestyle='-.')\n",
    "\n",
    "sub3_df_hd = sub3_df.loc[(sub3_df[\"DateTime\"].dt.year == 2007) & (sub3_df[\"DateTime\"].dt.date.isin(holidays))]\n",
    "sub3_df_hd.set_index('DateTime', inplace=True)\n",
    "plt.plot(sub3_df_hd.groupby(sub3_df_hd.index.hour)[\"Sub_metering_3\"].mean(),linestyle=':')\n",
    "\n",
    "plt.legend(curves,loc=2,fontsize=\"large\")\n",
    "\n",
    "plt.show()\n",
    "\n",
    "# add curves"
   ]
  },
  {
   "cell_type": "code",
   "execution_count": null,
   "metadata": {},
   "outputs": [],
   "source": [
    "from vacances_scolaires_france import SchoolHolidayDates\n",
    "import datetime\n",
    "curves = [\"Sub metering 3 during a day\",\"Sub metering 3 during a business day\",\"Sub metering 3 during the weekend\",\"Sub metering 3 during a vacation day\"]\n",
    "d = SchoolHolidayDates()\n",
    "dict_holidays = d.holidays_for_year_and_zone(2007, 'C')\n",
    "holidays = dict_holidays.keys()\n",
    "\n",
    "plt.figure(figsize=(30, 15))\n",
    "\n",
    "sub3_df = df[['Sub_metering_3']]\n",
    "sub3_df = sub3_df.reset_index()\n",
    "\n",
    "sub3_df_all = sub3_df.loc[sub3_df[\"DateTime\"].dt.year == 2007]\n",
    "sub3_df_all.set_index('DateTime', inplace=True)\n",
    "sub3_df_all = sub3_df_all.groupby([sub3_df_all.index.hour, sub3_df_all.index.minute]).mean()\n",
    "sub3_df_all.set_index(pd.date_range(\"00:00\",\"23:59\", freq=\"1min\").time,inplace=True)\n",
    "plt.plot(sub3_df_all)\n",
    "\n",
    "sub3_df_bd = sub3_df.loc[(sub3_df[\"DateTime\"].dt.year == 2007) & (sub3_df[\"DateTime\"].dt.weekday != 5) & (sub3_df[\"DateTime\"].dt.weekday != 6) & (sub3_df[\"DateTime\"].dt.date.isin(holidays)==False)]\n",
    "sub3_df_bd.set_index('DateTime', inplace=True)\n",
    "sub3_df_bd = sub3_df_bd.groupby([sub3_df_bd.index.hour, sub3_df_bd.index.minute]).mean()\n",
    "sub3_df_bd.set_index(pd.date_range(\"00:00\",\"23:59\", freq=\"1min\").time,inplace=True)\n",
    "plt.plot(sub3_df_bd)\n",
    "\n",
    "sub3_df_we = sub3_df.loc[(sub3_df[\"DateTime\"].dt.year == 2007) & (sub3_df[\"DateTime\"].dt.weekday.isin([5,6]))]\n",
    "sub3_df_we.set_index('DateTime', inplace=True)\n",
    "sub3_df_we = sub3_df_we.groupby([sub3_df_we.index.hour, sub3_df_we.index.minute]).mean()\n",
    "sub3_df_we.set_index(pd.date_range(\"00:00\",\"23:59\", freq=\"1min\").time,inplace=True)\n",
    "plt.plot(sub3_df_we)\n",
    "\n",
    "sub3_df_hd = sub3_df.loc[(sub3_df[\"DateTime\"].dt.year == 2007) & (sub3_df[\"DateTime\"].dt.date.isin(holidays))]\n",
    "sub3_df_hd.set_index('DateTime', inplace=True)\n",
    "sub3_df_hd = sub3_df_hd.groupby([sub3_df_hd.index.hour, sub3_df_hd.index.minute]).mean()\n",
    "sub3_df_hd.set_index(pd.date_range(\"00:00\",\"23:59\", freq=\"1min\").time,inplace=True)\n",
    "plt.plot(sub3_df_hd)\n",
    "\n",
    "plt.legend(curves,loc=2,fontsize=\"large\")\n",
    "\n",
    "plt.show()\n",
    "\n",
    "# add curves"
   ]
  },
  {
   "cell_type": "code",
   "execution_count": null,
   "metadata": {},
   "outputs": [],
   "source": [
    "from vacances_scolaires_france import SchoolHolidayDates\n",
    "import datetime\n",
    "import math\n",
    "curves = [\"Sub metering 3 per hour of a day\",\"Sub metering 3 per hour on a business day\",\"Sub metering 3 per hour on the weekend\",\"Sub metering 3 per hour of a vacation day\"]\n",
    "d = SchoolHolidayDates()\n",
    "dict_holidays = d.holidays_for_year_and_zone(2007, 'C')\n",
    "holidays = dict_holidays.keys()\n",
    "\n",
    "plt.figure(figsize=(30, 15))\n",
    "\n",
    "sub3_df = df[['Sub_metering_3']]\n",
    "sub3_df = sub3_df.reset_index()\n",
    "\n",
    "sub3_df_all = sub3_df.loc[sub3_df[\"DateTime\"].dt.year == 2007]\n",
    "sub3_df_all.set_index('DateTime', inplace=True)\n",
    "sub3_df_all = sub3_df_all.groupby([sub3_df_all.index.hour, sub3_df_all.index.minute]).mean()\n",
    "sub3_df_all.set_index(pd.date_range(\"00:00\",\"23:59\", freq=\"1min\").time,inplace=True)\n",
    "plt.plot(sub3_df_all)"
   ]
  },
  {
   "cell_type": "markdown",
   "metadata": {},
   "source": [
    "#### Sub metering 1 per minute"
   ]
  },
  {
   "cell_type": "code",
   "execution_count": null,
   "metadata": {},
   "outputs": [],
   "source": [
    "fig, axs = plt.subplots(figsize=(20, 4))\n",
    "axs.set_ylim([0, 4.5])\n",
    "sub1_df_all.groupby([sub1_df_all.index.hour, sub1_df_all.index.minute])[\"Sub_metering_1\"].mean()[8].plot(kind='bar', rot=0, ax=axs)"
   ]
  },
  {
   "cell_type": "markdown",
   "metadata": {},
   "source": [
    "#### Sub metering 1 per minute on business days"
   ]
  },
  {
   "cell_type": "code",
   "execution_count": null,
   "metadata": {},
   "outputs": [],
   "source": [
    "fig, axs = plt.subplots(figsize=(20, 4))\n",
    "axs.set_ylim([0, 4.5])\n",
    "sub1_df_bd.groupby([sub1_df_bd.index.hour, sub1_df_bd.index.minute])[\"Sub_metering_1\"].mean()[8].plot(kind='bar', rot=0, ax=axs)"
   ]
  },
  {
   "cell_type": "markdown",
   "metadata": {},
   "source": [
    "#### Sub metering 1 per minute on weekends"
   ]
  },
  {
   "cell_type": "code",
   "execution_count": null,
   "metadata": {},
   "outputs": [],
   "source": [
    "fig, axs = plt.subplots(figsize=(20, 4))\n",
    "axs.set_ylim([0, 4.5])\n",
    "sub1_df_we.groupby([sub1_df_we.index.hour, sub1_df_we.index.minute])[\"Sub_metering_1\"].mean()[8].plot(kind='bar', rot=0, ax=axs)"
   ]
  },
  {
   "cell_type": "markdown",
   "metadata": {},
   "source": [
    "#### Sub metering 1 per minute on holidays"
   ]
  },
  {
   "cell_type": "code",
   "execution_count": null,
   "metadata": {},
   "outputs": [],
   "source": [
    "fig, axs = plt.subplots(figsize=(20, 4))\n",
    "axs.set_ylim([0, 4.5])\n",
    "sub1_df_hd.groupby([sub1_df_hd.index.hour, sub1_df_hd.index.minute])[\"Sub_metering_1\"].mean()[8].plot(kind='bar', rot=0, ax=axs)"
   ]
  },
  {
   "cell_type": "code",
   "execution_count": null,
   "metadata": {},
   "outputs": [],
   "source": [
    "import matplotlib\n",
    "matplotlib.style.use('default')\n",
    "group2 = sub1_df_bd.groupby([sub1_df_bd.index.hour, sub1_df_bd.index.minute])[\"Sub_metering_1\"].mean().unstack().transpose()\n",
    "group2.plot(kind=\"bar\", stacked=True,figsize=(20,20))\n"
   ]
  },
  {
   "cell_type": "markdown",
   "metadata": {},
   "source": [
    "#### work in progress"
   ]
  },
  {
   "cell_type": "code",
   "execution_count": null,
   "metadata": {},
   "outputs": [],
   "source": [
    "sub1_df_bd_march = sub1_df_bd.loc[(sub1_df[\"DateTime\"].dt.month == 3)]\n",
    "cumul\n",
    "\n",
    "# fig, axs = plt.subplots(figsize=(20, 4))\n",
    "# axs.set_ylim([0, 13])\n",
    "# sub1_df_bd.groupby([sub1_df_bd.index.hour, sub1_df_bd.index.minute])[\"Sub_metering_1\"].mean()[7].plot(kind='bar', rot=0, ax=axs)"
   ]
  },
  {
   "cell_type": "markdown",
   "metadata": {},
   "source": [
    "Interpretation of the plot :\n",
    "Sharp increase of power consumption around 8am, implies that the famsilly wakes up around 8 on week days"
   ]
  },
  {
   "cell_type": "markdown",
   "metadata": {},
   "source": [
    "#### Sub metering 1 per hour of the weekend days"
   ]
  },
  {
   "cell_type": "markdown",
   "metadata": {},
   "source": [
    "### partie de theophile"
   ]
  },
  {
   "cell_type": "code",
   "execution_count": null,
   "metadata": {},
   "outputs": [],
   "source": [
    "df_copy2 = df.copy().loc[df[\"DateTime\"].dt.year == 2008]\n",
    "df_copy2.index = pd.to_datetime(df_copy2['DateTime'])\n",
    "df_copy2 = df_copy2.drop(['DateTime'], axis=1)\n",
    "daily_avg = df_copy2.resample(\"D\").mean()\n"
   ]
  },
  {
   "cell_type": "code",
   "execution_count": null,
   "metadata": {},
   "outputs": [],
   "source": [
    "temp_2008 = pd.read_csv(\"pre_processing/temperatures_2008.csv\", sep=',', parse_dates=[\"Date\"])\n",
    "temp_2008 = temp_2008.set_index(daily_avg.index)\n",
    "temp_2008 = temp_2008.drop(['Date'], axis = 1)\n",
    "temp_2008.head()"
   ]
  },
  {
   "cell_type": "code",
   "execution_count": null,
   "metadata": {},
   "outputs": [],
   "source": [
    "print(daily_avg.shape)\n",
    "print(temp_2008.shape)"
   ]
  },
  {
   "cell_type": "code",
   "execution_count": null,
   "metadata": {},
   "outputs": [],
   "source": [
    "daily_avg['min_temp'] = temp_2008['min_t']\n",
    "daily_avg['max_temp'] = temp_2008['max_t']\n",
    "daily_avg.head(100)"
   ]
  },
  {
   "cell_type": "code",
   "execution_count": null,
   "metadata": {},
   "outputs": [],
   "source": [
    "x = (daily_avg['max_temp']+daily_avg['min_temp'])/2\n",
    "y = daily_avg['Global_active_power']\n",
    "\n",
    "m, b = np.polyfit(x, y, 1)\n",
    "print('Global electic consumption = {}*x + {}'.format(m,b)) \n",
    "\n",
    "plt.plot(x,y, linestyle='None',marker='o')\n",
    "plt.plot(x, m*x+b)"
   ]
  },
  {
   "cell_type": "code",
   "execution_count": null,
   "metadata": {},
   "outputs": [],
   "source": [
    "x = (daily_avg['max_temp']+daily_avg['min_temp'])/2\n",
    "y = (daily_avg['Global_active_power']*1000/60)-daily_avg['Sub_metering_1']-daily_avg['Sub_metering_2']-daily_avg['Sub_metering_3']\n",
    "\n",
    "m, b = np.polyfit(x, y, 1)\n",
    "print('active energy of non measured electic devices = {}*x + {}'.format(m,b)) \n",
    "\n",
    "plt.plot(x,y, linestyle='None',marker='o')\n",
    "plt.plot(x, m*x+b)"
   ]
  },
  {
   "cell_type": "code",
   "execution_count": null,
   "metadata": {},
   "outputs": [],
   "source": [
    "x = (daily_avg['max_temp']+daily_avg['min_temp'])/2\n",
    "y = (daily_avg['Global_active_power']*1000/60)-daily_avg['Sub_metering_1']-daily_avg['Sub_metering_2']\n",
    "\n",
    "m, b = np.polyfit(x, y, 1)\n",
    "print('active energy of non measured electic devices + sub3= {}*x + {}'.format(m,b)) \n",
    "\n",
    "plt.plot(x,y, linestyle='None',marker='o')\n",
    "plt.plot(x, m*x+b)"
   ]
  },
  {
   "cell_type": "code",
   "execution_count": null,
   "metadata": {},
   "outputs": [],
   "source": [
    "def subplot_coord(x,y,param=\"all\"):\n",
    "    tuples =[]\n",
    "    if param==\"all\":\n",
    "        for i in range(x+1):\n",
    "            for j in range(y+1):\n",
    "                tuples.append((i,j))\n",
    "    elif param==\"line\":\n",
    "        for j in range(y+1):\n",
    "                tuples.append((x,j))\n",
    "    elif param==\"line\":\n",
    "        for i in range(x+1):\n",
    "                tuples.append((i,y))\n",
    "    return tuples  "
   ]
  },
  {
   "cell_type": "code",
   "execution_count": null,
   "metadata": {},
   "outputs": [],
   "source": [
    "fig, axis = plt.subplots(2,4,figsize=(20, 10))\n",
    "fig.delaxes(axis[1,3])\n",
    "indexes = [(0,0),(0,1),(0,2),(0,3),(1,0),(1,1),(1,2)]\n",
    "variables = list(df.columns)\n",
    "variables.remove('DateTime')\n",
    "data_bd = df.loc[(df[\"DateTime\"].dt.weekday != 5) & (df[\"DateTime\"].dt.weekday !=6) & (df[\"DateTime\"].dt.date.isin(holidays)==False)]\n",
    "data_we = df.loc[(df[\"DateTime\"].dt.weekday == 5) | (df[\"DateTime\"].dt.weekday ==6)]\n",
    "data_hd = df.loc[(df[\"DateTime\"].dt.date.isin(holidays))]\n",
    "\n",
    "\n",
    "for idx, val in enumerate(indexes):\n",
    "    temp_bd=data_bd[['DateTime',variables[idx]]]\n",
    "    temp_we=data_we[['DateTime',variables[idx]]]\n",
    "    temp_hd=data_hd[['DateTime',variables[idx]]]\n",
    "    axis[val[0],val[1]].plot(temp_bd.groupby(temp_bd['DateTime'].dt.hour)[variables[idx]].mean())\n",
    "    axis[val[0],val[1]].plot(temp_we.groupby(temp_we['DateTime'].dt.hour)[variables[idx]].mean())\n",
    "    axis[val[0],val[1]].plot(temp_hd.groupby(temp_hd['DateTime'].dt.hour)[variables[idx]].mean())\n",
    "    axis[val[0],val[1]].set_title(variables[idx])\n",
    "        \n",
    "fig.tight_layout(pad=3.0)\n",
    "fig.legend(['Business days', 'Weekends', 'Holidays'],loc=4, bbox_to_anchor=(0.5, 0., 0.5, 0.5),fontsize=\"large\")\n",
    "fig.show()"
   ]
  },
  {
   "cell_type": "code",
   "execution_count": null,
   "metadata": {},
   "outputs": [],
   "source": [
    "fig, axis = plt.subplots(24,7,figsize=(25, 72))\n",
    "\n",
    "hour = 0\n",
    "variables = list(df.columns)\n",
    "variables.remove('DateTime')\n",
    "data_bd = df.loc[(df[\"DateTime\"].dt.weekday != 5) & (df[\"DateTime\"].dt.weekday !=6) & (df[\"DateTime\"].dt.date.isin(holidays)==False)]\n",
    "data_we = df.loc[(df[\"DateTime\"].dt.weekday == 5) | (df[\"DateTime\"].dt.weekday ==6)]\n",
    "data_hd = df.loc[(df[\"DateTime\"].dt.date.isin(holidays))]\n",
    "\n",
    "for i in range(24):\n",
    "    indexes = subplot_coord(i,6,\"line\")\n",
    "    for idx, val in enumerate(indexes):\n",
    "        temp_bd=data_bd[['DateTime',variables[idx]]].loc[(data_bd[\"DateTime\"].dt.hour ==i)]\n",
    "        temp_we=data_we[['DateTime',variables[idx]]].loc[(data_we[\"DateTime\"].dt.hour ==i)]\n",
    "        temp_hd=data_hd[['DateTime',variables[idx]]].loc[(data_hd[\"DateTime\"].dt.hour ==i)]\n",
    "        axis[val[0],val[1]].plot(temp_bd.groupby(temp_bd['DateTime'].dt.minute)[variables[idx]].mean())\n",
    "        axis[val[0],val[1]].plot(temp_we.groupby(temp_we['DateTime'].dt.minute)[variables[idx]].mean())\n",
    "        axis[val[0],val[1]].plot(temp_hd.groupby(temp_hd['DateTime'].dt.minute)[variables[idx]].mean())\n",
    "        if val[0]==0:\n",
    "            axis[val[0],val[1]].set_title(variables[idx], fontsize=10)\n",
    "        if val[1]==0:\n",
    "            axis[val[0],val[1]].set_title(\"{0}h-{1}h:\".format(i,i+1), loc=\"left\", fontsize=12)\n",
    "\n",
    "fig.tight_layout(pad=3.0)\n",
    "fig.legend(['Business days', 'Weekends', 'Holidays'],loc=4, bbox_to_anchor=(0.5, 0., 0.5, 0.5),fontsize=\"large\")\n",
    "fig.show()"
   ]
  },
  {
   "cell_type": "code",
   "execution_count": null,
   "metadata": {},
   "outputs": [],
   "source": [
    "from sklearn.preprocessing import MinMaxScaler\n",
    "from tensorflow.keras.models import Sequential\n",
    "from tensorflow.keras.layers import LSTM, Dense, Dropout\n",
    "from sklearn.metrics import mean_squared_error,r2_score\n",
    "from tensorflow.keras.callbacks import TensorBoard"
   ]
  },
  {
   "cell_type": "markdown",
   "metadata": {},
   "source": [
    "Preprocessing du df"
   ]
  },
  {
   "cell_type": "code",
   "execution_count": null,
   "metadata": {},
   "outputs": [],
   "source": [
    "def data_to_supervised(df):\n",
    "    data = pd.DataFrame(df)\n",
    "    n_vars = data.shape[1]\n",
    "    columns = []\n",
    "    columns.append(data.shift(0))\n",
    "    # temp = data.shift(0)\n",
    "    columns.append(data.shift(-1)[\"Global_active_power\"])\n",
    "    df_labeled = pd.concat(columns, axis=1)\n",
    "    names = ['gapow(t-1)', 'grpow(t-1)', 'volt(t-1)', 'int(t-1)', 'sub1(t-1)', 'sub2(t-1)', 'sub3(t-1)', 'gapow(t)']\n",
    "    df_labeled.columns = names\n",
    "    df_labeled.dropna(inplace=True)\n",
    "    \n",
    "    return df_labeled"
   ]
  },
  {
   "cell_type": "code",
   "execution_count": null,
   "metadata": {},
   "outputs": [],
   "source": [
    "df_lstm = df.set_index('DateTime')\n",
    "df_lstm = df_lstm.resample('h').mean()\n",
    "df_lstm['Date'] = pd.to_datetime(df_lstm.index.date)\n",
    "df_lstm.head(3)"
   ]
  },
  {
   "cell_type": "code",
   "execution_count": null,
   "metadata": {},
   "outputs": [],
   "source": [
    "temperatures = pd.read_csv(\"pre_processing/temperatures.csv\", parse_dates=['Date'], index_col='Date')\n",
    "temperatures['avg_t'] = (temperatures['max_t'] - temperatures['min_t'])/2\n",
    "temperatures.head(2)"
   ]
  },
  {
   "cell_type": "code",
   "execution_count": null,
   "metadata": {},
   "outputs": [],
   "source": [
    "df_lstm = df_lstm.join(temperatures, how=\"left\", on='Date')\n",
    "df_lstm = df_lstm.drop(columns=['Date','max_t','min_t'])\n",
    "df_lstm.head(3)"
   ]
  },
  {
   "cell_type": "code",
   "execution_count": null,
   "metadata": {},
   "outputs": [],
   "source": [
    "df_lstm = df_lstm.copy()\n",
    "df_lstm[\"Jour\"] = df_lstm.index.dayofweek\n",
    "df_lstm.head(3)"
   ]
  },
  {
   "cell_type": "code",
   "execution_count": null,
   "metadata": {},
   "outputs": [],
   "source": [
    "scaler = MinMaxScaler()\n",
    "df_lstm[df_lstm.columns] = scaler.fit_transform(df_lstm[df_lstm.columns])"
   ]
  },
  {
   "cell_type": "code",
   "execution_count": null,
   "metadata": {},
   "outputs": [],
   "source": [
    "df_lstm.describe()"
   ]
  },
  {
   "cell_type": "code",
   "execution_count": null,
   "metadata": {},
   "outputs": [],
   "source": [
    "df_lstm = data_to_supervised(df_lstm)"
   ]
  },
  {
   "cell_type": "code",
   "execution_count": null,
   "metadata": {},
   "outputs": [],
   "source": [
    "df_lstm.head(3)"
   ]
  },
  {
   "cell_type": "code",
   "execution_count": null,
   "metadata": {},
   "outputs": [],
   "source": [
    "values = df_lstm.values\n",
    "\n",
    "trainsize = 0.5\n",
    "n_rows = round(len(values)*trainsize)\n",
    "print(f\"Taille du trainset : {n_rows}\")\n",
    "\n",
    "train = values[:n_rows, :]\n",
    "test = values[n_rows:, :]\n",
    "\n",
    "train_X, train_y = train[:, :-1], train[:, -1]\n",
    "test_X, test_y = test[:, :-1], test[:, -1]\n",
    "\n",
    "# reshape input to be 3D format as expected by LSTMs [samples, timesteps, features]\n",
    "train_X = train_X.reshape((train_X.shape[0], 1, train_X.shape[1]))\n",
    "test_X = test_X.reshape((test_X.shape[0], 1, test_X.shape[1]))\n",
    "print(train_X.shape, train_y.shape, test_X.shape, test_y.shape)"
   ]
  },
  {
   "cell_type": "code",
   "execution_count": null,
   "metadata": {},
   "outputs": [],
   "source": [
    "model = Sequential()\n",
    "model.add(LSTM(125, input_shape=(train_X.shape[1], train_X.shape[2])))\n",
    "# model.add(Dropout(0.1))\n",
    "model.add(Dense(1))\n",
    "model.compile(loss='mean_squared_error', optimizer='adam')"
   ]
  },
  {
   "cell_type": "code",
   "execution_count": null,
   "metadata": {},
   "outputs": [],
   "source": [
    "model.summary()"
   ]
  },
  {
   "cell_type": "code",
   "execution_count": null,
   "metadata": {},
   "outputs": [],
   "source": [
    "# fit network\n",
    "history = model.fit(train_X, train_y, epochs=10, batch_size=70, validation_data=(test_X, test_y), verbose=2, shuffle=False)"
   ]
  },
  {
   "cell_type": "code",
   "execution_count": null,
   "metadata": {},
   "outputs": [],
   "source": [
    "# summarize history for loss\n",
    "plt.plot(history.history['loss'])\n",
    "plt.plot(history.history['val_loss'])\n",
    "plt.title('model loss')\n",
    "plt.ylabel('loss')\n",
    "plt.xlabel('epoch')\n",
    "plt.legend(['train', 'test'], loc='upper right')\n",
    "plt.show()\n",
    "\n",
    "# make a prediction\n",
    "yhat = model.predict(test_X)\n",
    "test_X = test_X.reshape((test_X.shape[0], 7))\n",
    "# invert scaling for forecast\n",
    "inv_yhat = np.concatenate((yhat, test_X[:, -6:]), axis=1)\n",
    "inv_yhat = scaler.inverse_transform(inv_yhat)\n",
    "inv_yhat = inv_yhat[:,0]\n",
    "# invert scaling for actual\n",
    "test_y = test_y.reshape((len(test_y), 1))\n",
    "inv_y = np.concatenate((test_y, test_X[:, -6:]), axis=1)\n",
    "inv_y = scaler.inverse_transform(inv_y)\n",
    "inv_y = inv_y[:,0]\n",
    "\n",
    "# calculate RMSE\n",
    "rmse = np.sqrt(mean_squared_error(inv_y, inv_yhat))\n",
    "print('Test RMSE: %.3f' % rmse)"
   ]
  },
  {
   "cell_type": "code",
   "execution_count": null,
   "metadata": {},
   "outputs": [],
   "source": [
    "aa=[x for x in range(500)]\n",
    "plt.figure(figsize=(25,10))\n",
    "plt.plot(aa, inv_y[:500], marker='.', label=\"actual\")\n",
    "plt.plot(aa, inv_yhat[:500], 'r', label=\"prediction\")\n",
    "plt.ylabel(df.columns[1], size=15)\n",
    "plt.xlabel('Time step for first 500 hours', size=15)\n",
    "plt.legend(fontsize=15)\n",
    "plt.show()"
   ]
  },
  {
   "cell_type": "code",
   "execution_count": null,
   "metadata": {},
   "outputs": [],
   "source": [
    "df_lstm = df.set_index('DateTime')\n",
    "df_lstm = df_lstm.resample('h').mean()\n",
    "temperatures = pd.read_csv(\"pre_processing/temperatures.csv\")\n",
    "temperatures['Date'].apply(str)\n",
    "temperatures.set_index('Date')\n",
    "df_lstm['Date'] = df_lstm.index.date\n",
    "df_lstm['Date'].apply(str)\n",
    "\n",
    "#df_lstm = df_lstm.merge(temperatures, how='left', left_on='Date', right_on='Date')\n",
    "\n",
    "#df_lstm.drop()\n",
    "df_lstm.head()\n",
    "dict_temp = temperatures.to_dict('index')\n",
    "# dict_temp\n",
    "#temperatures.head(1)\n",
    "#print(df_lstm)"
   ]
  }
 ],
 "metadata": {
  "kernelspec": {
   "display_name": "Python 3 (ipykernel)",
   "language": "python",
   "name": "python3"
  },
  "language_info": {
   "codemirror_mode": {
    "name": "ipython",
    "version": 3
   },
   "file_extension": ".py",
   "mimetype": "text/x-python",
   "name": "python",
   "nbconvert_exporter": "python",
   "pygments_lexer": "ipython3",
   "version": "3.8.10"
  }
 },
 "nbformat": 4,
 "nbformat_minor": 4
}
