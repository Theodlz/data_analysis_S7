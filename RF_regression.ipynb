{
 "cells": [
  {
   "cell_type": "code",
   "execution_count": 23,
   "id": "094b36ac-aebd-4516-b7a2-48c51395e608",
   "metadata": {},
   "outputs": [
    {
     "name": "stderr",
     "output_type": "stream",
     "text": [
      "2021-12-04 09:44:50.447854: W tensorflow/stream_executor/platform/default/dso_loader.cc:64] Could not load dynamic library 'libcudart.so.11.0'; dlerror: libcudart.so.11.0: cannot open shared object file: No such file or directory\n",
      "2021-12-04 09:44:50.447875: I tensorflow/stream_executor/cuda/cudart_stub.cc:29] Ignore above cudart dlerror if you do not have a GPU set up on your machine.\n"
     ]
    }
   ],
   "source": [
    "import os\n",
    "import pandas as pd\n",
    "import numpy as np\n",
    "import datetime\n",
    "import matplotlib.pyplot as plt\n",
    "\n",
    "from sklearn.ensemble import RandomForestRegressor\n",
    "from sklearn.model_selection import train_test_split\n",
    "from sklearn.metrics import mean_squared_error\n",
    "from sklearn.metrics import r2_score\n",
    "\n",
    "from sklearn.preprocessing import MinMaxScaler\n",
    "from tensorflow.keras.models import Sequential\n",
    "from tensorflow.keras.layers import LSTM, Dense, Dropout\n",
    "from sklearn.metrics import mean_squared_error,r2_score\n",
    "from tensorflow.keras.callbacks import TensorBoard"
   ]
  },
  {
   "cell_type": "markdown",
   "id": "4e9d1a55",
   "metadata": {},
   "source": [
    "# Random forest regression"
   ]
  },
  {
   "cell_type": "code",
   "execution_count": 17,
   "id": "f66695ab",
   "metadata": {},
   "outputs": [],
   "source": [
    "df = pd.read_csv(os.getcwd()+\"/pre_processing/dataset_traite.csv\", sep=',', parse_dates=[\"DateTime\"])"
   ]
  },
  {
   "cell_type": "code",
   "execution_count": 18,
   "id": "7e15c89a",
   "metadata": {},
   "outputs": [],
   "source": [
    "def data_to_supervised(df, col_to_predict=\"Global_active_power\"):\n",
    "    data = pd.DataFrame(df)\n",
    "    n_vars = data.shape[1]\n",
    "    columns = []\n",
    "    columns.append(data.shift(1))\n",
    "    columns.append(data.shift(0)[col_to_predict])\n",
    "    df_labeled = pd.concat(columns, axis=1)\n",
    "    names = [col + \"(t-1)\" for col in df.columns]\n",
    "    names.append(f\"{col_to_predict}(t)\")\n",
    "    df_labeled.columns = names\n",
    "    df_labeled.dropna(inplace=True)\n",
    "    \n",
    "    return df_labeled"
   ]
  },
  {
   "cell_type": "code",
   "execution_count": 19,
   "id": "b0fc50cb",
   "metadata": {},
   "outputs": [
    {
     "data": {
      "text/html": [
       "<div>\n",
       "<style scoped>\n",
       "    .dataframe tbody tr th:only-of-type {\n",
       "        vertical-align: middle;\n",
       "    }\n",
       "\n",
       "    .dataframe tbody tr th {\n",
       "        vertical-align: top;\n",
       "    }\n",
       "\n",
       "    .dataframe thead th {\n",
       "        text-align: right;\n",
       "    }\n",
       "</style>\n",
       "<table border=\"1\" class=\"dataframe\">\n",
       "  <thead>\n",
       "    <tr style=\"text-align: right;\">\n",
       "      <th></th>\n",
       "      <th>Global_active_power</th>\n",
       "      <th>Global_reactive_power</th>\n",
       "      <th>Voltage</th>\n",
       "      <th>Global_intensity</th>\n",
       "      <th>Sub_metering_1</th>\n",
       "      <th>Sub_metering_2</th>\n",
       "      <th>Sub_metering_3</th>\n",
       "      <th>Date</th>\n",
       "    </tr>\n",
       "    <tr>\n",
       "      <th>DateTime</th>\n",
       "      <th></th>\n",
       "      <th></th>\n",
       "      <th></th>\n",
       "      <th></th>\n",
       "      <th></th>\n",
       "      <th></th>\n",
       "      <th></th>\n",
       "      <th></th>\n",
       "    </tr>\n",
       "  </thead>\n",
       "  <tbody>\n",
       "    <tr>\n",
       "      <th>2006-12-16 17:00:00</th>\n",
       "      <td>4.222889</td>\n",
       "      <td>0.229000</td>\n",
       "      <td>234.643889</td>\n",
       "      <td>18.100000</td>\n",
       "      <td>0.0</td>\n",
       "      <td>0.527778</td>\n",
       "      <td>16.861111</td>\n",
       "      <td>2006-12-16</td>\n",
       "    </tr>\n",
       "    <tr>\n",
       "      <th>2006-12-16 18:00:00</th>\n",
       "      <td>3.632200</td>\n",
       "      <td>0.080033</td>\n",
       "      <td>234.580167</td>\n",
       "      <td>15.600000</td>\n",
       "      <td>0.0</td>\n",
       "      <td>6.716667</td>\n",
       "      <td>16.866667</td>\n",
       "      <td>2006-12-16</td>\n",
       "    </tr>\n",
       "    <tr>\n",
       "      <th>2006-12-16 19:00:00</th>\n",
       "      <td>3.400233</td>\n",
       "      <td>0.085233</td>\n",
       "      <td>233.232500</td>\n",
       "      <td>14.503333</td>\n",
       "      <td>0.0</td>\n",
       "      <td>1.433333</td>\n",
       "      <td>16.683333</td>\n",
       "      <td>2006-12-16</td>\n",
       "    </tr>\n",
       "  </tbody>\n",
       "</table>\n",
       "</div>"
      ],
      "text/plain": [
       "                     Global_active_power  Global_reactive_power     Voltage  \\\n",
       "DateTime                                                                      \n",
       "2006-12-16 17:00:00             4.222889               0.229000  234.643889   \n",
       "2006-12-16 18:00:00             3.632200               0.080033  234.580167   \n",
       "2006-12-16 19:00:00             3.400233               0.085233  233.232500   \n",
       "\n",
       "                     Global_intensity  Sub_metering_1  Sub_metering_2  \\\n",
       "DateTime                                                                \n",
       "2006-12-16 17:00:00         18.100000             0.0        0.527778   \n",
       "2006-12-16 18:00:00         15.600000             0.0        6.716667   \n",
       "2006-12-16 19:00:00         14.503333             0.0        1.433333   \n",
       "\n",
       "                     Sub_metering_3       Date  \n",
       "DateTime                                        \n",
       "2006-12-16 17:00:00       16.861111 2006-12-16  \n",
       "2006-12-16 18:00:00       16.866667 2006-12-16  \n",
       "2006-12-16 19:00:00       16.683333 2006-12-16  "
      ]
     },
     "execution_count": 19,
     "metadata": {},
     "output_type": "execute_result"
    }
   ],
   "source": [
    "df_rf = df.set_index('DateTime')\n",
    "df_rf = df_rf.resample('h').mean()\n",
    "df_rf['Date'] = pd.to_datetime(df_rf.index.date)\n",
    "df_rf.head(3)"
   ]
  },
  {
   "cell_type": "code",
   "execution_count": 20,
   "id": "239b672c",
   "metadata": {},
   "outputs": [
    {
     "data": {
      "text/html": [
       "<div>\n",
       "<style scoped>\n",
       "    .dataframe tbody tr th:only-of-type {\n",
       "        vertical-align: middle;\n",
       "    }\n",
       "\n",
       "    .dataframe tbody tr th {\n",
       "        vertical-align: top;\n",
       "    }\n",
       "\n",
       "    .dataframe thead th {\n",
       "        text-align: right;\n",
       "    }\n",
       "</style>\n",
       "<table border=\"1\" class=\"dataframe\">\n",
       "  <thead>\n",
       "    <tr style=\"text-align: right;\">\n",
       "      <th></th>\n",
       "      <th>min_t</th>\n",
       "      <th>max_t</th>\n",
       "      <th>avg_t</th>\n",
       "    </tr>\n",
       "    <tr>\n",
       "      <th>Date</th>\n",
       "      <th></th>\n",
       "      <th></th>\n",
       "      <th></th>\n",
       "    </tr>\n",
       "  </thead>\n",
       "  <tbody>\n",
       "    <tr>\n",
       "      <th>2006-01-02</th>\n",
       "      <td>3.0</td>\n",
       "      <td>7.6</td>\n",
       "      <td>2.30</td>\n",
       "    </tr>\n",
       "    <tr>\n",
       "      <th>2006-01-03</th>\n",
       "      <td>3.9</td>\n",
       "      <td>6.8</td>\n",
       "      <td>1.45</td>\n",
       "    </tr>\n",
       "  </tbody>\n",
       "</table>\n",
       "</div>"
      ],
      "text/plain": [
       "            min_t  max_t  avg_t\n",
       "Date                           \n",
       "2006-01-02    3.0    7.6   2.30\n",
       "2006-01-03    3.9    6.8   1.45"
      ]
     },
     "execution_count": 20,
     "metadata": {},
     "output_type": "execute_result"
    }
   ],
   "source": [
    "temperatures = pd.read_csv(\"pre_processing/temperatures.csv\", parse_dates=['Date'], index_col='Date')\n",
    "temperatures['avg_t'] = (temperatures['max_t'] - temperatures['min_t'])/2\n",
    "temperatures.head(2)"
   ]
  },
  {
   "cell_type": "code",
   "execution_count": 21,
   "id": "cabcefe1",
   "metadata": {},
   "outputs": [
    {
     "data": {
      "text/html": [
       "<div>\n",
       "<style scoped>\n",
       "    .dataframe tbody tr th:only-of-type {\n",
       "        vertical-align: middle;\n",
       "    }\n",
       "\n",
       "    .dataframe tbody tr th {\n",
       "        vertical-align: top;\n",
       "    }\n",
       "\n",
       "    .dataframe thead th {\n",
       "        text-align: right;\n",
       "    }\n",
       "</style>\n",
       "<table border=\"1\" class=\"dataframe\">\n",
       "  <thead>\n",
       "    <tr style=\"text-align: right;\">\n",
       "      <th></th>\n",
       "      <th>Global_active_power</th>\n",
       "      <th>Global_reactive_power</th>\n",
       "      <th>Voltage</th>\n",
       "      <th>Sub_metering_1</th>\n",
       "      <th>Sub_metering_2</th>\n",
       "      <th>Sub_metering_3</th>\n",
       "      <th>min_t</th>\n",
       "      <th>max_t</th>\n",
       "    </tr>\n",
       "    <tr>\n",
       "      <th>DateTime</th>\n",
       "      <th></th>\n",
       "      <th></th>\n",
       "      <th></th>\n",
       "      <th></th>\n",
       "      <th></th>\n",
       "      <th></th>\n",
       "      <th></th>\n",
       "      <th></th>\n",
       "    </tr>\n",
       "  </thead>\n",
       "  <tbody>\n",
       "    <tr>\n",
       "      <th>2006-12-16 17:00:00</th>\n",
       "      <td>4.222889</td>\n",
       "      <td>0.229000</td>\n",
       "      <td>234.643889</td>\n",
       "      <td>0.0</td>\n",
       "      <td>0.527778</td>\n",
       "      <td>16.861111</td>\n",
       "      <td>0.3</td>\n",
       "      <td>9.5</td>\n",
       "    </tr>\n",
       "    <tr>\n",
       "      <th>2006-12-16 18:00:00</th>\n",
       "      <td>3.632200</td>\n",
       "      <td>0.080033</td>\n",
       "      <td>234.580167</td>\n",
       "      <td>0.0</td>\n",
       "      <td>6.716667</td>\n",
       "      <td>16.866667</td>\n",
       "      <td>0.3</td>\n",
       "      <td>9.5</td>\n",
       "    </tr>\n",
       "    <tr>\n",
       "      <th>2006-12-16 19:00:00</th>\n",
       "      <td>3.400233</td>\n",
       "      <td>0.085233</td>\n",
       "      <td>233.232500</td>\n",
       "      <td>0.0</td>\n",
       "      <td>1.433333</td>\n",
       "      <td>16.683333</td>\n",
       "      <td>0.3</td>\n",
       "      <td>9.5</td>\n",
       "    </tr>\n",
       "  </tbody>\n",
       "</table>\n",
       "</div>"
      ],
      "text/plain": [
       "                     Global_active_power  Global_reactive_power     Voltage  \\\n",
       "DateTime                                                                      \n",
       "2006-12-16 17:00:00             4.222889               0.229000  234.643889   \n",
       "2006-12-16 18:00:00             3.632200               0.080033  234.580167   \n",
       "2006-12-16 19:00:00             3.400233               0.085233  233.232500   \n",
       "\n",
       "                     Sub_metering_1  Sub_metering_2  Sub_metering_3  min_t  \\\n",
       "DateTime                                                                     \n",
       "2006-12-16 17:00:00             0.0        0.527778       16.861111    0.3   \n",
       "2006-12-16 18:00:00             0.0        6.716667       16.866667    0.3   \n",
       "2006-12-16 19:00:00             0.0        1.433333       16.683333    0.3   \n",
       "\n",
       "                     max_t  \n",
       "DateTime                    \n",
       "2006-12-16 17:00:00    9.5  \n",
       "2006-12-16 18:00:00    9.5  \n",
       "2006-12-16 19:00:00    9.5  "
      ]
     },
     "execution_count": 21,
     "metadata": {},
     "output_type": "execute_result"
    }
   ],
   "source": [
    "df_rf = df_rf.join(temperatures, how=\"left\", on='Date')\n",
    "# df_rf = df_rf.drop(columns=['Date','max_t','min_t'])\n",
    "df_rf = df_rf.drop(columns=['Date','avg_t'])\n",
    "df_rf.head(3)"
   ]
  },
  {
   "cell_type": "code",
   "execution_count": 22,
   "id": "e0fe2e4a",
   "metadata": {},
   "outputs": [],
   "source": [
    "#colonne unique int\n",
    "# df_rf[\"Hour\"] = df_rf.index.hour\n",
    "# df_rf[\"Day\"] = df_rf.index.dayofweek\n",
    "# df_rf[\"Month\"] = df_rf.index.month\n",
    "\n",
    "#pour colonnes binaires :\n",
    "# days=[\"Mon\",\"Tue\",\"Wed\",\"Thu\",\"Fri\",\"Sat\",\"Sun\"]\n",
    "# for i in range(7):\n",
    "#     df_rf[days[i]] = (df_rf.index.dayofweek == i).astype(int)"
   ]
  },
  {
   "cell_type": "code",
   "execution_count": null,
   "id": "b83c8638",
   "metadata": {},
   "outputs": [],
   "source": [
    "scaler = MinMaxScaler(feature_range=(-1,1))\n",
    "df_rf[df_rf.columns] = scaler.fit_transform(df_rf[df_rf.columns])\n",
    "df_rf.describe()\n",
    "\n",
    "df_rf[\"Hour\"] = df_rf.index.hour\n",
    "df_rf[\"Day\"] = df_rf.index.dayofweek\n",
    "df_rf[\"Month\"] = df_rf.index.month\n",
    "\n",
    "# df_rf = data_to_supervised(df_rf)\n",
    "df_rf.head()"
   ]
  },
  {
   "cell_type": "code",
   "execution_count": null,
   "id": "996b495f",
   "metadata": {},
   "outputs": [],
   "source": [
    "def create_train_rf(df_rf, y_col=\"Global_active_power\", train_size = 0.8, shuffle=True):\n",
    "    df_rf = data_to_supervised(df_rf, y_col)\n",
    "    y_col = y_col + '(t)'\n",
    "    X = df_rf.copy().drop(columns=[y_col])\n",
    "    y = df_rf[y_col]\n",
    "\n",
    "    train_X, test_X, train_y, test_y = train_test_split(X, y, train_size=train_size, shuffle=shuffle, random_state = 1)\n",
    "\n",
    "    rf_reg = RandomForestRegressor(n_estimators = 500, random_state = 1)\n",
    "    rf_reg.fit(train_X, train_y)\n",
    "\n",
    "    ypred = rf_reg.predict(test_X)\n",
    "    r2 = r2_score(test_y, ypred)\n",
    "    r_adjusted = 1 - ( 1-r2 ) * ( len(test_y) - 1 ) / ( len(test_y) - test_X.shape[1] - 1 )\n",
    "    mse = mean_squared_error(test_y, ypred)\n",
    "    rmse = np.sqrt(mse)\n",
    "\n",
    "    scores = {}\n",
    "    scores['r2'] = r2\n",
    "    scores['r_adjusted'] = r_adjusted\n",
    "    scores['mse'] = mse\n",
    "    scores['rmse'] = rmse\n",
    "\n",
    "    return rf_reg, scores"
   ]
  },
  {
   "cell_type": "code",
   "execution_count": null,
   "id": "2cb523a0-7984-46ca-973f-58e9e5f38109",
   "metadata": {},
   "outputs": [],
   "source": [
    "#test of function above\n",
    "# model, scores = create_train_rf(df_rf, 'Global_active_power', train_size = 0.3, shuffle=True)\n",
    "# print(f\"R-squared: {scores['r2']}\")\n",
    "# print(f\"Adjusted R-squared: {scores['r_adjusted']}\")\n",
    "# print(f\"Test MSE: {scores['mse']}\")\n",
    "# print(f\"Test RMSE: {scores['rmse']}\")"
   ]
  },
  {
   "cell_type": "code",
   "execution_count": 21,
   "id": "32105653-fa2c-460b-affb-da7f182b17dd",
   "metadata": {},
   "outputs": [],
   "source": [
    "def create_models_all_var(df_rf, train_size=0.8, shuffle=True, verbose=False):\n",
    "    non_predictable_vars = [\"min_t\", \"max_t\", \"avg_t\", \"Hour\", \"Day\", \"Month\"]\n",
    "    models = {}\n",
    "    models_scores = {}\n",
    "    for col in df_rf.columns:\n",
    "        if(col not in non_predictable_vars):\n",
    "            if(verbose):\n",
    "                print(f\"Training a model on predicting the {col} variable\")\n",
    "            model, scores = create_train_rf(df_rf, col, train_size, shuffle)\n",
    "            models[col] = model\n",
    "            models_scores[col] = scores\n",
    "\n",
    "    return models, models_scores"
   ]
  },
  {
   "cell_type": "code",
   "execution_count": null,
   "id": "df7cb8fb-98fd-48df-b77f-d2ebaf1e9853",
   "metadata": {},
   "outputs": [
    {
     "name": "stdout",
     "output_type": "stream",
     "text": [
      "Training a model on predicting the Global_active_power variable\n",
      "Training a model on predicting the Global_reactive_power variable\n",
      "Training a model on predicting the Voltage variable\n",
      "Training a model on predicting the Global_intensity variable\n"
     ]
    }
   ],
   "source": [
    "models, models_scores = create_models_all_var(df_rf, train_size=0.8, shuffle=True, verbose=True)"
   ]
  },
  {
   "cell_type": "code",
   "execution_count": null,
   "id": "f55f48ff-13a2-4115-9664-163b3716c31d",
   "metadata": {},
   "outputs": [],
   "source": [
    "#test of function above\n",
    "for col in models_scores.keys():\n",
    "    print(f\"\\nScores for the model trained to predict {col}:\")\n",
    "    print(f\"R-squared: {models_scores[col]['r2']}\")\n",
    "    print(f\"Adjusted R-squared: {models_scores[col]['r_adjusted']}\")\n",
    "    print(f\"Test MSE: {models_scores[col]['mse']}\")\n",
    "    print(f\"Test RMSE: {models_scores[col]['rmse']}\")"
   ]
  },
  {
   "cell_type": "code",
   "execution_count": null,
   "id": "fa728e5f-bc51-438f-8616-7dabc6f72d0b",
   "metadata": {},
   "outputs": [],
   "source": [
    "row = pd.DataFrame(df_rf.loc[\"2010-10-29 00:00:00\"]).transpose()\n",
    "# names = [col + \"(t-1)\" for col in row.columns]\n",
    "# row.columns = names\n",
    "row"
   ]
  },
  {
   "cell_type": "code",
   "execution_count": null,
   "id": "aee95e1b-fc8b-412a-9572-8458058edf66",
   "metadata": {},
   "outputs": [],
   "source": [
    "def predict_all_variables(models, x_row, timesteps_forward=1):\n",
    "    rows = x_row.copy()\n",
    "    names = [col + \"(t-1)\" for col in rows.columns]\n",
    "    rows.columns = names\n",
    "    for i in range(timesteps_forward):\n",
    "        prediction = []\n",
    "        for model_name in models.keys():\n",
    "            last_line = pd.DataFrame(rows.iloc[rows.shape[0]-1]).transpose()\n",
    "            prediction.append(models[model_name].predict(last_line)[0])\n",
    "        # print(prediction)\n",
    "        prediction.append(rows[\"min_t(t-1)\"].values[-1])\n",
    "        prediction.append(rows[\"max_t(t-1)\"].values[-1])\n",
    "        prediction.append(rows[\"Hour(t-1)\"].values[-1] + 1)\n",
    "        prediction.append(rows[\"Day(t-1)\"].values[-1])\n",
    "        prediction.append(rows[\"Month(t-1)\"].values[-1])\n",
    "\n",
    "        prediction = pd.Series(prediction, index = names)\n",
    "        rows = rows.append(prediction, ignore_index=True)\n",
    "    # prediction_df = pd.DataFrame(prediction)\n",
    "    # rows = rows.append(prediction_df)\n",
    "    return rows"
   ]
  },
  {
   "cell_type": "code",
   "execution_count": null,
   "id": "b2eddb0e-04e7-4bc4-ac8a-9b992b3143c9",
   "metadata": {},
   "outputs": [],
   "source": [
    "res = predict_all_variables(models, row, 5)\n",
    "res"
   ]
  },
  {
   "cell_type": "code",
   "execution_count": null,
   "id": "7e302f2d-b627-4d33-b4fe-185640a28a56",
   "metadata": {},
   "outputs": [],
   "source": []
  },
  {
   "cell_type": "code",
   "execution_count": null,
   "id": "54fb65b3",
   "metadata": {},
   "outputs": [],
   "source": [
    "# X = df_rf.copy().drop(columns=['Global_active_power(t)'])\n",
    "# y = df_rf[\"Global_active_power(t)\"]"
   ]
  },
  {
   "cell_type": "code",
   "execution_count": null,
   "id": "a505a8d1",
   "metadata": {},
   "outputs": [],
   "source": [
    "# dataset de validation qu'on garde dans l'ordre chronologique, pour tester une fois le modele entrainé avec le reste des données shuffled\n",
    "# val_X = X.loc[X.index > \"2010-11-15\"]\n",
    "# val_y = y.loc[y.index > \"2010-11-15\"]\n",
    "# val_X.shape[0]\n",
    "\n",
    "# X = X.loc[X.index <= \"2010-11-15\"]\n",
    "# y = y.loc[y.index <= \"2010-11-15\"]"
   ]
  },
  {
   "cell_type": "code",
   "execution_count": null,
   "id": "d50e0026",
   "metadata": {},
   "outputs": [],
   "source": [
    "# train_X, test_X, train_y, test_y = train_test_split(X, y, train_size=0.8, shuffle=True)"
   ]
  },
  {
   "cell_type": "code",
   "execution_count": null,
   "id": "736da7a7",
   "metadata": {},
   "outputs": [],
   "source": [
    "# rf_reg = RandomForestRegressor(n_estimators = 500, random_state = 1)\n",
    "# rf_reg.fit(train_X, train_y)"
   ]
  },
  {
   "cell_type": "code",
   "execution_count": null,
   "id": "1d0cca64",
   "metadata": {},
   "outputs": [],
   "source": [
    "# ypred = rf_reg.predict(test_X)\n",
    "\n",
    "# r2 = r2_score(test_y, ypred)\n",
    "# print(\"R-squared:\", r2)\n",
    "# r_adjusted = 1 - ( 1-r2 ) * ( len(test_y) - 1 ) / ( len(test_y) - test_X.shape[1] - 1 )\n",
    "# print(\"Adjusted R-squared:\", r_adjusted)\n",
    "\n",
    "# mse = mean_squared_error(test_y, ypred)\n",
    "# print(f'Test MSE: {mse}')\n",
    "# rmse = np.sqrt(mse)\n",
    "# print(f'Test RMSE: {rmse}')"
   ]
  },
  {
   "cell_type": "code",
   "execution_count": null,
   "id": "20c9a810",
   "metadata": {},
   "outputs": [],
   "source": []
  },
  {
   "cell_type": "code",
   "execution_count": null,
   "id": "86519fda",
   "metadata": {},
   "outputs": [],
   "source": [
    "# size = df_rf.shape[1]-1\n",
    "# test_X[\"ypred\"] = ypred\n",
    "# test_X\n",
    "# ypred = ypred.reshape(-1,1)\n",
    "# ypred = scaler.inverse_transform(test_X)[\"ypred\"]\n",
    "# # test_y = scaler.inverse_transform(test_y)\n",
    "\n",
    "# inv_yhat = np.concatenate((ypred, test_X[:, 1-size:]), axis=1)\n",
    "# inv_yhat = scaler.inverse_transform(inv_yhat)\n",
    "# inv_yhat = inv_yhat[:,0]\n",
    "\n",
    "# test_y = test_y.reshape((len(test_y), 1))\n",
    "# inv_y = np.concatenate((test_y, test_X[:, 1-size:]), axis=1)\n",
    "# inv_y = scaler.inverse_transform(inv_y)\n",
    "# inv_y = inv_y[:,0]\n",
    "\n",
    "# descaler = MinMaxScaler()\n",
    "# descaler.min_,descaler.scale_=scaler.min_[0],scaler.scale_[0]\n",
    "# ypred = descaler.inverse_transform(ypred)"
   ]
  },
  {
   "cell_type": "code",
   "execution_count": null,
   "id": "d2a0801c",
   "metadata": {},
   "outputs": [],
   "source": []
  },
  {
   "cell_type": "code",
   "execution_count": null,
   "id": "b825c191",
   "metadata": {},
   "outputs": [],
   "source": []
  },
  {
   "cell_type": "code",
   "execution_count": null,
   "id": "b4bea3c3",
   "metadata": {},
   "outputs": [],
   "source": [
    "val_ypred = rf_reg.predict(val_X)"
   ]
  },
  {
   "cell_type": "code",
   "execution_count": null,
   "id": "28101d94",
   "metadata": {},
   "outputs": [],
   "source": [
    "nbr_steps = 200\n",
    "aa=[x for x in range(nbr_steps)]\n",
    "plt.figure(figsize=(40,10))\n",
    "plt.plot(aa, val_y[:nbr_steps], marker='.', label=\"actual\")\n",
    "plt.plot(aa, val_ypred[:nbr_steps], 'r', label=\"prediction\")\n",
    "plt.ylabel(df.columns[1], size=15)\n",
    "plt.xlabel('Time step for first 500 hours', size=15)\n",
    "plt.legend(fontsize=15)\n",
    "plt.show()"
   ]
  },
  {
   "cell_type": "code",
   "execution_count": null,
   "id": "5982bbc5",
   "metadata": {},
   "outputs": [],
   "source": [
    "values = df_rf.values\n",
    "\n",
    "trainsize = 0.8\n",
    "n_rows = round(len(values)*trainsize)\n",
    "print(f\"Taille du trainset : {n_rows}\")\n",
    "\n",
    "train = values[:n_rows, :]\n",
    "test = values[n_rows:, :]\n",
    "\n",
    "train_X, train_y = train[:, :-1], train[:, -1]\n",
    "test_X, test_y = test[:, :-1], test[:, -1]\n",
    "\n",
    "# reshape input to be 3D format as expected by LSTMs [samples, timesteps, features]\n",
    "train_X = train_X.reshape((train_X.shape[0], 1, train_X.shape[1]))\n",
    "test_X = test_X.reshape((test_X.shape[0], 1, test_X.shape[1]))\n",
    "print(train_X.shape, train_y.shape, test_X.shape, test_y.shape)\n",
    "\n",
    "model = Sequential()\n",
    "#recurrent_activation ='selu' # 1er place\n",
    "#recurrent_activation ='softsign' # 2e place\n",
    "\n",
    "model.add(LSTM(5*24, input_shape=(train_X.shape[1], train_X.shape[2]),recurrent_activation ='sigmoid',activation='tanh',return_sequences=True))\n",
    "model.add(LSTM(5*24,recurrent_activation ='sigmoid',activation='tanh',return_sequences=False))\n",
    "#model.add(LSTM(2*24,recurrent_activation ='sigmoid',activation='tanh'))\n",
    "#model.add(Dropout(0.2))\n",
    "model.add(Dense(1))\n",
    "#model.compile(loss='mean_squared_error', optimizer='adam')\n",
    "\n",
    "model.compile(loss='mean_absolute_error', optimizer='adam')\n",
    "#model.compile(optimizer=tensorflow.keras.optimizers.SGD(learning_rate=0.001),\n",
    "             # loss=tensorflow.keras.losses.MeanSquaredError(),\n",
    "             # metrics=['mse'])\n",
    "model.summary()"
   ]
  },
  {
   "cell_type": "code",
   "execution_count": null,
   "id": "366bc192",
   "metadata": {},
   "outputs": [],
   "source": [
    "# fit network\n",
    "history = model.fit(train_X, train_y, epochs=4, batch_size=100, validation_data=(test_X, test_y), verbose=1, shuffle=False)"
   ]
  },
  {
   "cell_type": "code",
   "execution_count": null,
   "id": "f4fa362f",
   "metadata": {},
   "outputs": [],
   "source": [
    "# summarize history for loss\n",
    "plt.plot(history.history['loss'])\n",
    "plt.plot(history.history['val_loss'])\n",
    "plt.title('model loss')\n",
    "plt.ylabel('loss')\n",
    "plt.xlabel('epoch')\n",
    "plt.legend(['train', 'test'], loc='upper right')\n",
    "plt.show()"
   ]
  },
  {
   "cell_type": "code",
   "execution_count": null,
   "id": "1682e4c1",
   "metadata": {},
   "outputs": [],
   "source": [
    "size = df_rf.shape[1]-1\n",
    "# make a prediction\n",
    "yhat = model.predict(test_X)\n",
    "test_X = test_X.reshape((test_X.shape[0], size))\n",
    "# invert scaling for forecast\n",
    "inv_yhat = np.concatenate((yhat, test_X[:, 1-size:]), axis=1)\n",
    "inv_yhat = scaler.inverse_transform(inv_yhat)\n",
    "inv_yhat = inv_yhat[:,0]\n",
    "# invert scaling for actual\n",
    "test_y = test_y.reshape((len(test_y), 1))\n",
    "inv_y = np.concatenate((test_y, test_X[:, 1-size:]), axis=1)\n",
    "inv_y = scaler.inverse_transform(inv_y)\n",
    "inv_y = inv_y[:,0]"
   ]
  },
  {
   "cell_type": "code",
   "execution_count": null,
   "id": "6bee7337",
   "metadata": {},
   "outputs": [],
   "source": []
  },
  {
   "cell_type": "code",
   "execution_count": null,
   "id": "72682cad",
   "metadata": {},
   "outputs": [],
   "source": []
  },
  {
   "cell_type": "code",
   "execution_count": null,
   "id": "1c63b76d",
   "metadata": {},
   "outputs": [],
   "source": [
    "test_y"
   ]
  },
  {
   "cell_type": "code",
   "execution_count": null,
   "id": "62ddffc9",
   "metadata": {},
   "outputs": [],
   "source": [
    "# calculate RMSE\n",
    "rmse = np.sqrt(mean_squared_error(inv_y, inv_yhat))\n",
    "print('Test RMSE: %.3f' % rmse)\n",
    "\n",
    "import sklearn\n",
    "r2 = sklearn.metrics.r2_score(inv_y, inv_yhat)\n",
    "print(r2)\n",
    "r_adjusted = 1 - ( 1-r2 ) * ( len(test_y) - 1 ) / ( len(test_y) - test_X.shape[1] - 1 )\n",
    "print(r_adjusted)"
   ]
  },
  {
   "cell_type": "code",
   "execution_count": null,
   "id": "2decd8cd",
   "metadata": {},
   "outputs": [],
   "source": [
    "nbr_steps = 50\n",
    "aa=[x for x in range(nbr_steps)]\n",
    "plt.figure(figsize=(40,10))\n",
    "plt.plot(aa, inv_y[:nbr_steps], marker='.', label=\"actual\")\n",
    "plt.plot(aa, inv_yhat[:nbr_steps], 'r', label=\"prediction\")\n",
    "plt.ylabel(df.columns[1], size=15)\n",
    "plt.xlabel('Time step for first 500 hours', size=15)\n",
    "plt.legend(fontsize=15)\n",
    "plt.show()"
   ]
  }
 ],
 "metadata": {
  "kernelspec": {
   "display_name": "data_analysis",
   "language": "python",
   "name": "data_analysis"
  },
  "language_info": {
   "codemirror_mode": {
    "name": "ipython",
    "version": 3
   },
   "file_extension": ".py",
   "mimetype": "text/x-python",
   "name": "python",
   "nbconvert_exporter": "python",
   "pygments_lexer": "ipython3",
   "version": "3.8.10"
  }
 },
 "nbformat": 4,
 "nbformat_minor": 5
}
